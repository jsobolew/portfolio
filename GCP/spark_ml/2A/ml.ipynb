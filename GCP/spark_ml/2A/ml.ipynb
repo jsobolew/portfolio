{
 "cells": [
  {
   "cell_type": "markdown",
   "metadata": {},
   "source": [
    "### Przykładowe problemy związane ze skalowalnością zadań ML:\n",
    "\n",
    "Ograniczenie CPU: Dane mieszczą się w pamięci RAM, ale proces uczenia trwa za długo. Np. W przypadku konieczności sprawdzenia wielu kombinacji parametrów modelu, wielu modeli, itd. \n",
    "\n",
    "\n",
    "Ograniczenia pamięci: Dane są na tyle duże, że nie mieszczą się w pamięci RAM.\n",
    "\n",
    "\n",
    "#### Pipeline"
   ]
  },
  {
   "cell_type": "markdown",
   "metadata": {},
   "source": [
    "![](../img/ml-Pipeline.png)"
   ]
  },
  {
   "cell_type": "markdown",
   "metadata": {},
   "source": [
    "#### Pipeline Model"
   ]
  },
  {
   "cell_type": "markdown",
   "metadata": {},
   "source": [
    "![](../img/ml-PipelineModel.png)"
   ]
  },
  {
   "cell_type": "markdown",
   "metadata": {},
   "source": [
    "### Potok przetwarzania ML\n",
    "\n",
    "* <b>DataFrame</b>: interfejs API ML używa DataFrame, w którym można przechowywać różne typy danych. Na przykład DataFrame może mieć różne kolumny przechowujące tekst, wektory cech, prawdziwe etykiety i prognozy.\n",
    "\n",
    "* <b>Transformer</b>: Transformator to algorytm, który może przekształcić jedną ramkę danych w inną ramkę danych. Na przykład model ML to transformator, który przekształca ramkę danych z funkcjami w ramkę danych z prognozami. Innym przykładem transformatora jest StringIndexer, który koduje zmienne tekstowe jako zmienne całkowito liczbowe.\n",
    "\n",
    "\n",
    "* <b>Estimator</b>: Estymator to algorytm, który który można zaaplikować do DataFrame w celu wytworzenia transformatora. Np. Algorytm uczenia się jest estymatorem, który trenuje się na DataFrame i tworzy model.\n",
    "\n",
    "\n",
    "* <b>Pipeline</b>: Potok przetwarzania łączy wiele transformatorów i estymatorów razem, aby określić przepływ pracy ML.\n",
    "\n",
    "\n",
    "* <b>Parametr</b>: Wszystkie transformatory i estymatory mają teraz wspólny interfejs API do określania parametrów."
   ]
  },
  {
   "cell_type": "markdown",
   "metadata": {},
   "source": [
    "### Wczytanie danych"
   ]
  },
  {
   "cell_type": "code",
   "execution_count": 1,
   "metadata": {},
   "outputs": [
    {
     "name": "stdout",
     "output_type": "stream",
     "text": [
      "jovyan\n"
     ]
    }
   ],
   "source": [
    "import os\n",
    "user_name = 'jovyan'\n",
    "print(user_name)"
   ]
  },
  {
   "cell_type": "code",
   "execution_count": 2,
   "metadata": {},
   "outputs": [],
   "source": [
    "from pyspark.sql import SparkSession\n",
    "spark = SparkSession \\\n",
    ".builder \\\n",
    ".config(\"spark.executor.instances\", \"4\")\\\n",
    ".config('spark.driver.memory','1g') \\\n",
    ".config('spark.executor.memory', '2g') \\\n",
    ".getOrCreate()"
   ]
  },
  {
   "cell_type": "code",
   "execution_count": 3,
   "metadata": {},
   "outputs": [],
   "source": [
    "# ścieżka dostępu do pliku \n",
    "csv_path = 'file:////home/jovyan/data/2020/survey_results_public.csv'"
   ]
  },
  {
   "cell_type": "code",
   "execution_count": 4,
   "metadata": {},
   "outputs": [],
   "source": [
    "db_name = user_name.replace('-','_')"
   ]
  },
  {
   "cell_type": "code",
   "execution_count": 5,
   "metadata": {},
   "outputs": [
    {
     "data": {
      "text/plain": [
       "DataFrame[]"
      ]
     },
     "execution_count": 5,
     "metadata": {},
     "output_type": "execute_result"
    }
   ],
   "source": [
    "spark.sql(f'DROP DATABASE IF EXISTS {db_name} CASCADE')\n",
    "spark.sql(f'CREATE DATABASE {db_name}')\n",
    "spark.sql(f'USE {db_name}')"
   ]
  },
  {
   "cell_type": "code",
   "execution_count": 6,
   "metadata": {},
   "outputs": [],
   "source": [
    "table_name = \"survey_2020\"            "
   ]
  },
  {
   "cell_type": "code",
   "execution_count": 7,
   "metadata": {},
   "outputs": [
    {
     "data": {
      "text/plain": [
       "DataFrame[]"
      ]
     },
     "execution_count": 7,
     "metadata": {},
     "output_type": "execute_result"
    }
   ],
   "source": [
    "spark.sql(f'DROP TABLE IF EXISTS {table_name}')\n",
    "\n",
    "spark.sql(f'CREATE TABLE IF NOT EXISTS {table_name} \\\n",
    "          USING csv \\\n",
    "          OPTIONS (HEADER true, INFERSCHEMA true, NULLVALUE \"NA\") \\\n",
    "          LOCATION \"{csv_path}\"')"
   ]
  },
  {
   "cell_type": "code",
   "execution_count": 8,
   "metadata": {},
   "outputs": [
    {
     "name": "stdout",
     "output_type": "stream",
     "text": [
      "+--------------------+---------+-------+\n",
      "|            col_name|data_type|comment|\n",
      "+--------------------+---------+-------+\n",
      "|          Respondent|      int|   null|\n",
      "|          MainBranch|   string|   null|\n",
      "|            Hobbyist|   string|   null|\n",
      "|                 Age|   double|   null|\n",
      "|          Age1stCode|   string|   null|\n",
      "|            CompFreq|   string|   null|\n",
      "|           CompTotal|   double|   null|\n",
      "|       ConvertedComp|   double|   null|\n",
      "|             Country|   string|   null|\n",
      "|        CurrencyDesc|   string|   null|\n",
      "|      CurrencySymbol|   string|   null|\n",
      "|DatabaseDesireNex...|   string|   null|\n",
      "|  DatabaseWorkedWith|   string|   null|\n",
      "|             DevType|   string|   null|\n",
      "|             EdLevel|   string|   null|\n",
      "|          Employment|   string|   null|\n",
      "|           Ethnicity|   string|   null|\n",
      "|              Gender|   string|   null|\n",
      "|          JobFactors|   string|   null|\n",
      "|              JobSat|   string|   null|\n",
      "|             JobSeek|   string|   null|\n",
      "|LanguageDesireNex...|   string|   null|\n",
      "|  LanguageWorkedWith|   string|   null|\n",
      "|MiscTechDesireNex...|   string|   null|\n",
      "|  MiscTechWorkedWith|   string|   null|\n",
      "|NEWCollabToolsDes...|   string|   null|\n",
      "|NEWCollabToolsWor...|   string|   null|\n",
      "|           NEWDevOps|   string|   null|\n",
      "|       NEWDevOpsImpt|   string|   null|\n",
      "|           NEWEdImpt|   string|   null|\n",
      "|          NEWJobHunt|   string|   null|\n",
      "|  NEWJobHuntResearch|   string|   null|\n",
      "|            NEWLearn|   string|   null|\n",
      "|         NEWOffTopic|   string|   null|\n",
      "|      NEWOnboardGood|   string|   null|\n",
      "|       NEWOtherComms|   string|   null|\n",
      "|         NEWOvertime|   string|   null|\n",
      "| NEWPurchaseResearch|   string|   null|\n",
      "|       NEWPurpleLink|   string|   null|\n",
      "|          NEWSOSites|   string|   null|\n",
      "|            NEWStuck|   string|   null|\n",
      "|               OpSys|   string|   null|\n",
      "|             OrgSize|   string|   null|\n",
      "|PlatformDesireNex...|   string|   null|\n",
      "|  PlatformWorkedWith|   string|   null|\n",
      "|        PurchaseWhat|   string|   null|\n",
      "|           Sexuality|   string|   null|\n",
      "|           SOAccount|   string|   null|\n",
      "|              SOComm|   string|   null|\n",
      "|          SOPartFreq|   string|   null|\n",
      "|         SOVisitFreq|   string|   null|\n",
      "|          SurveyEase|   string|   null|\n",
      "|        SurveyLength|   string|   null|\n",
      "|               Trans|   string|   null|\n",
      "|      UndergradMajor|   string|   null|\n",
      "|WebframeDesireNex...|   string|   null|\n",
      "|  WebframeWorkedWith|   string|   null|\n",
      "|       WelcomeChange|   string|   null|\n",
      "|         WorkWeekHrs|   double|   null|\n",
      "|           YearsCode|   string|   null|\n",
      "|        YearsCodePro|   string|   null|\n",
      "+--------------------+---------+-------+\n",
      "\n"
     ]
    }
   ],
   "source": [
    "spark.sql(f'describe {table_name}').show(100)"
   ]
  },
  {
   "cell_type": "markdown",
   "metadata": {},
   "source": [
    "### Przygotowanie danych do analizy\n",
    "\n",
    "W ramach zadania chcemy stworzyć klasyfikator, który będzie przewidywać czy respondent zarabia więcej niż 60000 USD rocznie."
   ]
  },
  {
   "cell_type": "code",
   "execution_count": 9,
   "metadata": {},
   "outputs": [
    {
     "data": {
      "text/html": [
       "<div>\n",
       "<style scoped>\n",
       "    .dataframe tbody tr th:only-of-type {\n",
       "        vertical-align: middle;\n",
       "    }\n",
       "\n",
       "    .dataframe tbody tr th {\n",
       "        vertical-align: top;\n",
       "    }\n",
       "\n",
       "    .dataframe thead th {\n",
       "        text-align: right;\n",
       "    }\n",
       "</style>\n",
       "<table border=\"1\" class=\"dataframe\">\n",
       "  <thead>\n",
       "    <tr style=\"text-align: right;\">\n",
       "      <th></th>\n",
       "      <th>Respondent</th>\n",
       "      <th>MainBranch</th>\n",
       "      <th>Hobbyist</th>\n",
       "      <th>Age</th>\n",
       "      <th>Age1stCode</th>\n",
       "      <th>CompFreq</th>\n",
       "      <th>CompTotal</th>\n",
       "      <th>ConvertedComp</th>\n",
       "      <th>Country</th>\n",
       "      <th>CurrencyDesc</th>\n",
       "      <th>...</th>\n",
       "      <th>SurveyLength</th>\n",
       "      <th>Trans</th>\n",
       "      <th>UndergradMajor</th>\n",
       "      <th>WebframeDesireNextYear</th>\n",
       "      <th>WebframeWorkedWith</th>\n",
       "      <th>WelcomeChange</th>\n",
       "      <th>WorkWeekHrs</th>\n",
       "      <th>YearsCode</th>\n",
       "      <th>YearsCodePro</th>\n",
       "      <th>compAboveAvg</th>\n",
       "    </tr>\n",
       "  </thead>\n",
       "  <tbody>\n",
       "    <tr>\n",
       "      <th>0</th>\n",
       "      <td>8</td>\n",
       "      <td>I am a developer by profession</td>\n",
       "      <td>Yes</td>\n",
       "      <td>36.0</td>\n",
       "      <td>12</td>\n",
       "      <td>Yearly</td>\n",
       "      <td>116000.0</td>\n",
       "      <td>116000.0</td>\n",
       "      <td>United States</td>\n",
       "      <td>United States dollar</td>\n",
       "      <td>...</td>\n",
       "      <td>Appropriate in length</td>\n",
       "      <td>No</td>\n",
       "      <td>Computer science, computer engineering, or sof...</td>\n",
       "      <td>Django;React.js;Vue.js</td>\n",
       "      <td>Flask</td>\n",
       "      <td>Just as welcome now as I felt last year</td>\n",
       "      <td>39.0</td>\n",
       "      <td>17</td>\n",
       "      <td>13</td>\n",
       "      <td>true</td>\n",
       "    </tr>\n",
       "    <tr>\n",
       "      <th>1</th>\n",
       "      <td>10</td>\n",
       "      <td>I am a developer by profession</td>\n",
       "      <td>Yes</td>\n",
       "      <td>22.0</td>\n",
       "      <td>14</td>\n",
       "      <td>Yearly</td>\n",
       "      <td>25000.0</td>\n",
       "      <td>32315.0</td>\n",
       "      <td>United Kingdom</td>\n",
       "      <td>Pound sterling</td>\n",
       "      <td>...</td>\n",
       "      <td>Appropriate in length</td>\n",
       "      <td>No</td>\n",
       "      <td>Mathematics or statistics</td>\n",
       "      <td>Flask;jQuery</td>\n",
       "      <td>Flask;jQuery</td>\n",
       "      <td>Somewhat more welcome now than last year</td>\n",
       "      <td>36.0</td>\n",
       "      <td>8</td>\n",
       "      <td>4</td>\n",
       "      <td>false</td>\n",
       "    </tr>\n",
       "    <tr>\n",
       "      <th>2</th>\n",
       "      <td>11</td>\n",
       "      <td>I am a developer by profession</td>\n",
       "      <td>Yes</td>\n",
       "      <td>23.0</td>\n",
       "      <td>13</td>\n",
       "      <td>Yearly</td>\n",
       "      <td>31000.0</td>\n",
       "      <td>40070.0</td>\n",
       "      <td>United Kingdom</td>\n",
       "      <td>Pound sterling</td>\n",
       "      <td>...</td>\n",
       "      <td>Appropriate in length</td>\n",
       "      <td>No</td>\n",
       "      <td>Computer science, computer engineering, or sof...</td>\n",
       "      <td>Angular;Django;React.js</td>\n",
       "      <td>Angular;Angular.js;Django;React.js</td>\n",
       "      <td>Just as welcome now as I felt last year</td>\n",
       "      <td>40.0</td>\n",
       "      <td>10</td>\n",
       "      <td>2</td>\n",
       "      <td>false</td>\n",
       "    </tr>\n",
       "    <tr>\n",
       "      <th>3</th>\n",
       "      <td>12</td>\n",
       "      <td>I am a developer by profession</td>\n",
       "      <td>No</td>\n",
       "      <td>49.0</td>\n",
       "      <td>42</td>\n",
       "      <td>Monthly</td>\n",
       "      <td>1100.0</td>\n",
       "      <td>14268.0</td>\n",
       "      <td>Spain</td>\n",
       "      <td>European Euro</td>\n",
       "      <td>...</td>\n",
       "      <td>Appropriate in length</td>\n",
       "      <td>No</td>\n",
       "      <td>Mathematics or statistics</td>\n",
       "      <td>ASP.NET;jQuery</td>\n",
       "      <td>ASP.NET;jQuery</td>\n",
       "      <td>Just as welcome now as I felt last year</td>\n",
       "      <td>40.0</td>\n",
       "      <td>7</td>\n",
       "      <td>7</td>\n",
       "      <td>false</td>\n",
       "    </tr>\n",
       "    <tr>\n",
       "      <th>4</th>\n",
       "      <td>13</td>\n",
       "      <td>I am not primarily a developer, but I write co...</td>\n",
       "      <td>Yes</td>\n",
       "      <td>53.0</td>\n",
       "      <td>14</td>\n",
       "      <td>Monthly</td>\n",
       "      <td>3000.0</td>\n",
       "      <td>38916.0</td>\n",
       "      <td>Netherlands</td>\n",
       "      <td>European Euro</td>\n",
       "      <td>...</td>\n",
       "      <td>Too long</td>\n",
       "      <td>No</td>\n",
       "      <td>None</td>\n",
       "      <td>None</td>\n",
       "      <td>None</td>\n",
       "      <td>A lot less welcome now than last year</td>\n",
       "      <td>36.0</td>\n",
       "      <td>35</td>\n",
       "      <td>20</td>\n",
       "      <td>false</td>\n",
       "    </tr>\n",
       "  </tbody>\n",
       "</table>\n",
       "<p>5 rows × 62 columns</p>\n",
       "</div>"
      ],
      "text/plain": [
       "   Respondent                                         MainBranch Hobbyist  \\\n",
       "0           8                     I am a developer by profession      Yes   \n",
       "1          10                     I am a developer by profession      Yes   \n",
       "2          11                     I am a developer by profession      Yes   \n",
       "3          12                     I am a developer by profession       No   \n",
       "4          13  I am not primarily a developer, but I write co...      Yes   \n",
       "\n",
       "    Age Age1stCode CompFreq  CompTotal  ConvertedComp         Country  \\\n",
       "0  36.0         12   Yearly   116000.0       116000.0   United States   \n",
       "1  22.0         14   Yearly    25000.0        32315.0  United Kingdom   \n",
       "2  23.0         13   Yearly    31000.0        40070.0  United Kingdom   \n",
       "3  49.0         42  Monthly     1100.0        14268.0           Spain   \n",
       "4  53.0         14  Monthly     3000.0        38916.0     Netherlands   \n",
       "\n",
       "           CurrencyDesc  ...           SurveyLength Trans  \\\n",
       "0  United States dollar  ...  Appropriate in length    No   \n",
       "1        Pound sterling  ...  Appropriate in length    No   \n",
       "2        Pound sterling  ...  Appropriate in length    No   \n",
       "3         European Euro  ...  Appropriate in length    No   \n",
       "4         European Euro  ...               Too long    No   \n",
       "\n",
       "                                      UndergradMajor   WebframeDesireNextYear  \\\n",
       "0  Computer science, computer engineering, or sof...   Django;React.js;Vue.js   \n",
       "1                          Mathematics or statistics             Flask;jQuery   \n",
       "2  Computer science, computer engineering, or sof...  Angular;Django;React.js   \n",
       "3                          Mathematics or statistics           ASP.NET;jQuery   \n",
       "4                                               None                     None   \n",
       "\n",
       "                   WebframeWorkedWith  \\\n",
       "0                               Flask   \n",
       "1                        Flask;jQuery   \n",
       "2  Angular;Angular.js;Django;React.js   \n",
       "3                      ASP.NET;jQuery   \n",
       "4                                None   \n",
       "\n",
       "                              WelcomeChange WorkWeekHrs YearsCode  \\\n",
       "0   Just as welcome now as I felt last year        39.0        17   \n",
       "1  Somewhat more welcome now than last year        36.0         8   \n",
       "2   Just as welcome now as I felt last year        40.0        10   \n",
       "3   Just as welcome now as I felt last year        40.0         7   \n",
       "4     A lot less welcome now than last year        36.0        35   \n",
       "\n",
       "  YearsCodePro compAboveAvg  \n",
       "0           13         true  \n",
       "1            4        false  \n",
       "2            2        false  \n",
       "3            7        false  \n",
       "4           20        false  \n",
       "\n",
       "[5 rows x 62 columns]"
      ]
     },
     "execution_count": 9,
     "metadata": {},
     "output_type": "execute_result"
    }
   ],
   "source": [
    "spark_df= spark.sql(f'SELECT *, CAST((convertedComp > 60000) AS STRING) AS compAboveAvg \\\n",
    "                    FROM {table_name} where convertedComp IS NOT NULL ')\n",
    "spark_df.limit(5).toPandas()"
   ]
  },
  {
   "cell_type": "markdown",
   "metadata": {},
   "source": [
    "<B>Dążymy do tego, żeby przygotować jeden wektor cech oraz jedną kolumnę z oznaczeniami.</B>\n",
    "\n",
    "Kodujemy kolumny tekstowe na numeryczne oraz kodujemy wartości liczbowe na reprezentacje onehotencoder. Następnie dokonujemy asemblacji do jednego wektora."
   ]
  },
  {
   "cell_type": "code",
   "execution_count": 10,
   "metadata": {},
   "outputs": [],
   "source": [
    "from pyspark.ml.feature import StringIndexer, OneHotEncoder, VectorAssembler\n",
    "from pyspark.ml import Pipeline\n",
    "# chcemy przewidziec compAboveAvg\n",
    "y = 'compAboveAvg'\n",
    "# na podstawie:\n",
    "feature_columns = ['OpSys', 'EdLevel', 'MainBranch' , 'Country', 'JobSeek', 'YearsCode']"
   ]
  },
  {
   "cell_type": "code",
   "execution_count": 11,
   "metadata": {},
   "outputs": [],
   "source": [
    "#Zaczynamy od transformatora StringIndexer, zamieniajacego wartosci 'string' na liczbe\n",
    "# dla cech, ktore zostana wykorzystane do predykcji\n",
    "\n",
    "##### najpierw pokazujemy prosta petle z FOR, a potem zrefactorujmy do list comprehension\n",
    "stringindexer_stages_1 = []\n",
    "for c in feature_columns:\n",
    "    stringindexer_stages_1.append (StringIndexer(inputCol=c, outputCol='stringindexed_' + c).setHandleInvalid(\"keep\"))\n",
    "\n",
    "# i dla zmiennej objaśnianej\n",
    "stringindexer_stages_1.append(StringIndexer(inputCol=y, outputCol='label'))\n"
   ]
  },
  {
   "cell_type": "markdown",
   "metadata": {},
   "source": [
    "<b>handleInvalid</b> = How to handle invalid data during transform(). Options are 'keep' (invalid data presented as an extra categorical feature) or error (throw an error). "
   ]
  },
  {
   "cell_type": "code",
   "execution_count": 12,
   "metadata": {},
   "outputs": [
    {
     "data": {
      "text/plain": [
       "[StringIndexer_022f972edae8,\n",
       " StringIndexer_66a3436d08a2,\n",
       " StringIndexer_3b84dfbe7ed7,\n",
       " StringIndexer_b77c894fe807,\n",
       " StringIndexer_b99314afef6f,\n",
       " StringIndexer_7bf2bc0aac3d,\n",
       " StringIndexer_cacc74c04860]"
      ]
     },
     "execution_count": 12,
     "metadata": {},
     "output_type": "execute_result"
    }
   ],
   "source": [
    "# Refactoring do list comprehension\n",
    "stringindexer_stages = [StringIndexer(inputCol=c, outputCol='stringindexed_' + c).setHandleInvalid(\"keep\") for c in feature_columns]\n",
    "\n",
    "# i dla zmiennej objaśnianej\n",
    "stringindexer_stages += [StringIndexer(inputCol=y, outputCol='label')]\n",
    "stringindexer_stages"
   ]
  },
  {
   "cell_type": "code",
   "execution_count": 13,
   "metadata": {},
   "outputs": [
    {
     "data": {
      "text/html": [
       "<div>\n",
       "<style scoped>\n",
       "    .dataframe tbody tr th:only-of-type {\n",
       "        vertical-align: middle;\n",
       "    }\n",
       "\n",
       "    .dataframe tbody tr th {\n",
       "        vertical-align: top;\n",
       "    }\n",
       "\n",
       "    .dataframe thead th {\n",
       "        text-align: right;\n",
       "    }\n",
       "</style>\n",
       "<table border=\"1\" class=\"dataframe\">\n",
       "  <thead>\n",
       "    <tr style=\"text-align: right;\">\n",
       "      <th></th>\n",
       "      <th>Respondent</th>\n",
       "      <th>MainBranch</th>\n",
       "      <th>Hobbyist</th>\n",
       "      <th>Age</th>\n",
       "      <th>Age1stCode</th>\n",
       "      <th>CompFreq</th>\n",
       "      <th>CompTotal</th>\n",
       "      <th>ConvertedComp</th>\n",
       "      <th>Country</th>\n",
       "      <th>CurrencyDesc</th>\n",
       "      <th>...</th>\n",
       "      <th>YearsCode</th>\n",
       "      <th>YearsCodePro</th>\n",
       "      <th>compAboveAvg</th>\n",
       "      <th>stringindexed_OpSys</th>\n",
       "      <th>stringindexed_EdLevel</th>\n",
       "      <th>stringindexed_MainBranch</th>\n",
       "      <th>stringindexed_Country</th>\n",
       "      <th>stringindexed_JobSeek</th>\n",
       "      <th>stringindexed_YearsCode</th>\n",
       "      <th>label</th>\n",
       "    </tr>\n",
       "  </thead>\n",
       "  <tbody>\n",
       "    <tr>\n",
       "      <th>0</th>\n",
       "      <td>8</td>\n",
       "      <td>I am a developer by profession</td>\n",
       "      <td>Yes</td>\n",
       "      <td>36.0</td>\n",
       "      <td>12</td>\n",
       "      <td>Yearly</td>\n",
       "      <td>116000.0</td>\n",
       "      <td>116000.0</td>\n",
       "      <td>United States</td>\n",
       "      <td>United States dollar</td>\n",
       "      <td>...</td>\n",
       "      <td>17</td>\n",
       "      <td>13</td>\n",
       "      <td>true</td>\n",
       "      <td>2.0</td>\n",
       "      <td>0.0</td>\n",
       "      <td>0.0</td>\n",
       "      <td>0.0</td>\n",
       "      <td>0.0</td>\n",
       "      <td>17.0</td>\n",
       "      <td>1.0</td>\n",
       "    </tr>\n",
       "    <tr>\n",
       "      <th>1</th>\n",
       "      <td>10</td>\n",
       "      <td>I am a developer by profession</td>\n",
       "      <td>Yes</td>\n",
       "      <td>22.0</td>\n",
       "      <td>14</td>\n",
       "      <td>Yearly</td>\n",
       "      <td>25000.0</td>\n",
       "      <td>32315.0</td>\n",
       "      <td>United Kingdom</td>\n",
       "      <td>Pound sterling</td>\n",
       "      <td>...</td>\n",
       "      <td>8</td>\n",
       "      <td>4</td>\n",
       "      <td>false</td>\n",
       "      <td>0.0</td>\n",
       "      <td>1.0</td>\n",
       "      <td>0.0</td>\n",
       "      <td>2.0</td>\n",
       "      <td>0.0</td>\n",
       "      <td>1.0</td>\n",
       "      <td>0.0</td>\n",
       "    </tr>\n",
       "    <tr>\n",
       "      <th>2</th>\n",
       "      <td>11</td>\n",
       "      <td>I am a developer by profession</td>\n",
       "      <td>Yes</td>\n",
       "      <td>23.0</td>\n",
       "      <td>13</td>\n",
       "      <td>Yearly</td>\n",
       "      <td>31000.0</td>\n",
       "      <td>40070.0</td>\n",
       "      <td>United Kingdom</td>\n",
       "      <td>Pound sterling</td>\n",
       "      <td>...</td>\n",
       "      <td>10</td>\n",
       "      <td>2</td>\n",
       "      <td>false</td>\n",
       "      <td>0.0</td>\n",
       "      <td>0.0</td>\n",
       "      <td>0.0</td>\n",
       "      <td>2.0</td>\n",
       "      <td>2.0</td>\n",
       "      <td>0.0</td>\n",
       "      <td>0.0</td>\n",
       "    </tr>\n",
       "    <tr>\n",
       "      <th>3</th>\n",
       "      <td>12</td>\n",
       "      <td>I am a developer by profession</td>\n",
       "      <td>No</td>\n",
       "      <td>49.0</td>\n",
       "      <td>42</td>\n",
       "      <td>Monthly</td>\n",
       "      <td>1100.0</td>\n",
       "      <td>14268.0</td>\n",
       "      <td>Spain</td>\n",
       "      <td>European Euro</td>\n",
       "      <td>...</td>\n",
       "      <td>7</td>\n",
       "      <td>7</td>\n",
       "      <td>false</td>\n",
       "      <td>0.0</td>\n",
       "      <td>2.0</td>\n",
       "      <td>0.0</td>\n",
       "      <td>10.0</td>\n",
       "      <td>0.0</td>\n",
       "      <td>3.0</td>\n",
       "      <td>0.0</td>\n",
       "    </tr>\n",
       "    <tr>\n",
       "      <th>4</th>\n",
       "      <td>13</td>\n",
       "      <td>I am not primarily a developer, but I write co...</td>\n",
       "      <td>Yes</td>\n",
       "      <td>53.0</td>\n",
       "      <td>14</td>\n",
       "      <td>Monthly</td>\n",
       "      <td>3000.0</td>\n",
       "      <td>38916.0</td>\n",
       "      <td>Netherlands</td>\n",
       "      <td>European Euro</td>\n",
       "      <td>...</td>\n",
       "      <td>35</td>\n",
       "      <td>20</td>\n",
       "      <td>false</td>\n",
       "      <td>1.0</td>\n",
       "      <td>3.0</td>\n",
       "      <td>1.0</td>\n",
       "      <td>7.0</td>\n",
       "      <td>1.0</td>\n",
       "      <td>24.0</td>\n",
       "      <td>0.0</td>\n",
       "    </tr>\n",
       "    <tr>\n",
       "      <th>...</th>\n",
       "      <td>...</td>\n",
       "      <td>...</td>\n",
       "      <td>...</td>\n",
       "      <td>...</td>\n",
       "      <td>...</td>\n",
       "      <td>...</td>\n",
       "      <td>...</td>\n",
       "      <td>...</td>\n",
       "      <td>...</td>\n",
       "      <td>...</td>\n",
       "      <td>...</td>\n",
       "      <td>...</td>\n",
       "      <td>...</td>\n",
       "      <td>...</td>\n",
       "      <td>...</td>\n",
       "      <td>...</td>\n",
       "      <td>...</td>\n",
       "      <td>...</td>\n",
       "      <td>...</td>\n",
       "      <td>...</td>\n",
       "      <td>...</td>\n",
       "    </tr>\n",
       "    <tr>\n",
       "      <th>34751</th>\n",
       "      <td>65619</td>\n",
       "      <td>I am not primarily a developer, but I write co...</td>\n",
       "      <td>Yes</td>\n",
       "      <td>NaN</td>\n",
       "      <td>19</td>\n",
       "      <td>Monthly</td>\n",
       "      <td>30000.0</td>\n",
       "      <td>984.0</td>\n",
       "      <td>Nigeria</td>\n",
       "      <td>Nigerian naira</td>\n",
       "      <td>...</td>\n",
       "      <td>3</td>\n",
       "      <td>2</td>\n",
       "      <td>false</td>\n",
       "      <td>0.0</td>\n",
       "      <td>3.0</td>\n",
       "      <td>1.0</td>\n",
       "      <td>38.0</td>\n",
       "      <td>3.0</td>\n",
       "      <td>13.0</td>\n",
       "      <td>0.0</td>\n",
       "    </tr>\n",
       "    <tr>\n",
       "      <th>34752</th>\n",
       "      <td>65625</td>\n",
       "      <td>I am a developer by profession</td>\n",
       "      <td>Yes</td>\n",
       "      <td>NaN</td>\n",
       "      <td>17</td>\n",
       "      <td>Monthly</td>\n",
       "      <td>5500000.0</td>\n",
       "      <td>19428.0</td>\n",
       "      <td>Colombia</td>\n",
       "      <td>Colombian peso</td>\n",
       "      <td>...</td>\n",
       "      <td>12</td>\n",
       "      <td>5</td>\n",
       "      <td>false</td>\n",
       "      <td>4.0</td>\n",
       "      <td>0.0</td>\n",
       "      <td>0.0</td>\n",
       "      <td>39.0</td>\n",
       "      <td>1.0</td>\n",
       "      <td>7.0</td>\n",
       "      <td>0.0</td>\n",
       "    </tr>\n",
       "    <tr>\n",
       "      <th>34753</th>\n",
       "      <td>65629</td>\n",
       "      <td>I am a developer by profession</td>\n",
       "      <td>Yes</td>\n",
       "      <td>41.0</td>\n",
       "      <td>15</td>\n",
       "      <td>Yearly</td>\n",
       "      <td>200.0</td>\n",
       "      <td>200.0</td>\n",
       "      <td>United States</td>\n",
       "      <td>United States dollar</td>\n",
       "      <td>...</td>\n",
       "      <td>25</td>\n",
       "      <td>20</td>\n",
       "      <td>false</td>\n",
       "      <td>1.0</td>\n",
       "      <td>2.0</td>\n",
       "      <td>0.0</td>\n",
       "      <td>0.0</td>\n",
       "      <td>0.0</td>\n",
       "      <td>14.0</td>\n",
       "      <td>0.0</td>\n",
       "    </tr>\n",
       "    <tr>\n",
       "      <th>34754</th>\n",
       "      <td>65630</td>\n",
       "      <td>I am a developer by profession</td>\n",
       "      <td>Yes</td>\n",
       "      <td>NaN</td>\n",
       "      <td>17</td>\n",
       "      <td>Monthly</td>\n",
       "      <td>1000000.0</td>\n",
       "      <td>15048.0</td>\n",
       "      <td>Chile</td>\n",
       "      <td>Chilean peso</td>\n",
       "      <td>...</td>\n",
       "      <td>7</td>\n",
       "      <td>3</td>\n",
       "      <td>false</td>\n",
       "      <td>4.0</td>\n",
       "      <td>0.0</td>\n",
       "      <td>0.0</td>\n",
       "      <td>48.0</td>\n",
       "      <td>0.0</td>\n",
       "      <td>3.0</td>\n",
       "      <td>0.0</td>\n",
       "    </tr>\n",
       "    <tr>\n",
       "      <th>34755</th>\n",
       "      <td>65631</td>\n",
       "      <td>I am a developer by profession</td>\n",
       "      <td>Yes</td>\n",
       "      <td>NaN</td>\n",
       "      <td>13</td>\n",
       "      <td>Yearly</td>\n",
       "      <td>4310000.0</td>\n",
       "      <td>38759.0</td>\n",
       "      <td>Japan</td>\n",
       "      <td>Japanese yen</td>\n",
       "      <td>...</td>\n",
       "      <td>5</td>\n",
       "      <td>Less than 1 year</td>\n",
       "      <td>false</td>\n",
       "      <td>4.0</td>\n",
       "      <td>0.0</td>\n",
       "      <td>0.0</td>\n",
       "      <td>36.0</td>\n",
       "      <td>3.0</td>\n",
       "      <td>4.0</td>\n",
       "      <td>0.0</td>\n",
       "    </tr>\n",
       "  </tbody>\n",
       "</table>\n",
       "<p>34756 rows × 69 columns</p>\n",
       "</div>"
      ],
      "text/plain": [
       "       Respondent                                         MainBranch Hobbyist  \\\n",
       "0               8                     I am a developer by profession      Yes   \n",
       "1              10                     I am a developer by profession      Yes   \n",
       "2              11                     I am a developer by profession      Yes   \n",
       "3              12                     I am a developer by profession       No   \n",
       "4              13  I am not primarily a developer, but I write co...      Yes   \n",
       "...           ...                                                ...      ...   \n",
       "34751       65619  I am not primarily a developer, but I write co...      Yes   \n",
       "34752       65625                     I am a developer by profession      Yes   \n",
       "34753       65629                     I am a developer by profession      Yes   \n",
       "34754       65630                     I am a developer by profession      Yes   \n",
       "34755       65631                     I am a developer by profession      Yes   \n",
       "\n",
       "        Age Age1stCode CompFreq  CompTotal  ConvertedComp         Country  \\\n",
       "0      36.0         12   Yearly   116000.0       116000.0   United States   \n",
       "1      22.0         14   Yearly    25000.0        32315.0  United Kingdom   \n",
       "2      23.0         13   Yearly    31000.0        40070.0  United Kingdom   \n",
       "3      49.0         42  Monthly     1100.0        14268.0           Spain   \n",
       "4      53.0         14  Monthly     3000.0        38916.0     Netherlands   \n",
       "...     ...        ...      ...        ...            ...             ...   \n",
       "34751   NaN         19  Monthly    30000.0          984.0         Nigeria   \n",
       "34752   NaN         17  Monthly  5500000.0        19428.0        Colombia   \n",
       "34753  41.0         15   Yearly      200.0          200.0   United States   \n",
       "34754   NaN         17  Monthly  1000000.0        15048.0           Chile   \n",
       "34755   NaN         13   Yearly  4310000.0        38759.0           Japan   \n",
       "\n",
       "               CurrencyDesc  ... YearsCode      YearsCodePro compAboveAvg  \\\n",
       "0      United States dollar  ...        17                13         true   \n",
       "1            Pound sterling  ...         8                 4        false   \n",
       "2            Pound sterling  ...        10                 2        false   \n",
       "3             European Euro  ...         7                 7        false   \n",
       "4             European Euro  ...        35                20        false   \n",
       "...                     ...  ...       ...               ...          ...   \n",
       "34751        Nigerian naira  ...         3                 2        false   \n",
       "34752        Colombian peso  ...        12                 5        false   \n",
       "34753  United States dollar  ...        25                20        false   \n",
       "34754          Chilean peso  ...         7                 3        false   \n",
       "34755          Japanese yen  ...         5  Less than 1 year        false   \n",
       "\n",
       "      stringindexed_OpSys stringindexed_EdLevel stringindexed_MainBranch  \\\n",
       "0                     2.0                   0.0                      0.0   \n",
       "1                     0.0                   1.0                      0.0   \n",
       "2                     0.0                   0.0                      0.0   \n",
       "3                     0.0                   2.0                      0.0   \n",
       "4                     1.0                   3.0                      1.0   \n",
       "...                   ...                   ...                      ...   \n",
       "34751                 0.0                   3.0                      1.0   \n",
       "34752                 4.0                   0.0                      0.0   \n",
       "34753                 1.0                   2.0                      0.0   \n",
       "34754                 4.0                   0.0                      0.0   \n",
       "34755                 4.0                   0.0                      0.0   \n",
       "\n",
       "      stringindexed_Country stringindexed_JobSeek stringindexed_YearsCode  \\\n",
       "0                       0.0                   0.0                    17.0   \n",
       "1                       2.0                   0.0                     1.0   \n",
       "2                       2.0                   2.0                     0.0   \n",
       "3                      10.0                   0.0                     3.0   \n",
       "4                       7.0                   1.0                    24.0   \n",
       "...                     ...                   ...                     ...   \n",
       "34751                  38.0                   3.0                    13.0   \n",
       "34752                  39.0                   1.0                     7.0   \n",
       "34753                   0.0                   0.0                    14.0   \n",
       "34754                  48.0                   0.0                     3.0   \n",
       "34755                  36.0                   3.0                     4.0   \n",
       "\n",
       "      label  \n",
       "0       1.0  \n",
       "1       0.0  \n",
       "2       0.0  \n",
       "3       0.0  \n",
       "4       0.0  \n",
       "...     ...  \n",
       "34751   0.0  \n",
       "34752   0.0  \n",
       "34753   0.0  \n",
       "34754   0.0  \n",
       "34755   0.0  \n",
       "\n",
       "[34756 rows x 69 columns]"
      ]
     },
     "execution_count": 13,
     "metadata": {},
     "output_type": "execute_result"
    }
   ],
   "source": [
    "# Po wykonaniu takiej transformacji do DF zostaje dodane  7 nowych kolumn z prefixem \"stringindexed_\"\n",
    "Pipeline(stages=stringindexer_stages).fit(spark_df).transform(spark_df).toPandas()"
   ]
  },
  {
   "cell_type": "code",
   "execution_count": 14,
   "metadata": {},
   "outputs": [],
   "source": [
    "onehotencoder_stages = [OneHotEncoder(inputCol='stringindexed_' + c, outputCol='onehot_' + c) for c in feature_columns]"
   ]
  },
  {
   "cell_type": "markdown",
   "metadata": {},
   "source": [
    "Rozbudowujemy pipeline:\n",
    "\n",
    "Po wykonaniu takiej transformacji (stringIndexer+onehotencoder) do DF zostaje dodane  6 nowych kolumn z prefixem \"onehot_\"."
   ]
  },
  {
   "cell_type": "code",
   "execution_count": 15,
   "metadata": {},
   "outputs": [],
   "source": [
    "pa = Pipeline(stages=stringindexer_stages + onehotencoder_stages).fit(spark_df).transform(spark_df).toPandas()"
   ]
  },
  {
   "cell_type": "code",
   "execution_count": 16,
   "metadata": {},
   "outputs": [
    {
     "data": {
      "text/plain": [
       "Index(['Respondent', 'MainBranch', 'Hobbyist', 'Age', 'Age1stCode', 'CompFreq',\n",
       "       'CompTotal', 'ConvertedComp', 'Country', 'CurrencyDesc',\n",
       "       'CurrencySymbol', 'DatabaseDesireNextYear', 'DatabaseWorkedWith',\n",
       "       'DevType', 'EdLevel', 'Employment', 'Ethnicity', 'Gender', 'JobFactors',\n",
       "       'JobSat', 'JobSeek', 'LanguageDesireNextYear', 'LanguageWorkedWith',\n",
       "       'MiscTechDesireNextYear', 'MiscTechWorkedWith',\n",
       "       'NEWCollabToolsDesireNextYear', 'NEWCollabToolsWorkedWith', 'NEWDevOps',\n",
       "       'NEWDevOpsImpt', 'NEWEdImpt', 'NEWJobHunt', 'NEWJobHuntResearch',\n",
       "       'NEWLearn', 'NEWOffTopic', 'NEWOnboardGood', 'NEWOtherComms',\n",
       "       'NEWOvertime', 'NEWPurchaseResearch', 'NEWPurpleLink', 'NEWSOSites',\n",
       "       'NEWStuck', 'OpSys', 'OrgSize', 'PlatformDesireNextYear',\n",
       "       'PlatformWorkedWith', 'PurchaseWhat', 'Sexuality', 'SOAccount',\n",
       "       'SOComm', 'SOPartFreq', 'SOVisitFreq', 'SurveyEase', 'SurveyLength',\n",
       "       'Trans', 'UndergradMajor', 'WebframeDesireNextYear',\n",
       "       'WebframeWorkedWith', 'WelcomeChange', 'WorkWeekHrs', 'YearsCode',\n",
       "       'YearsCodePro', 'compAboveAvg', 'stringindexed_OpSys',\n",
       "       'stringindexed_EdLevel', 'stringindexed_MainBranch',\n",
       "       'stringindexed_Country', 'stringindexed_JobSeek',\n",
       "       'stringindexed_YearsCode', 'label', 'onehot_OpSys', 'onehot_EdLevel',\n",
       "       'onehot_MainBranch', 'onehot_Country', 'onehot_JobSeek',\n",
       "       'onehot_YearsCode'],\n",
       "      dtype='object')"
      ]
     },
     "execution_count": 16,
     "metadata": {},
     "output_type": "execute_result"
    }
   ],
   "source": [
    "pa.columns"
   ]
  },
  {
   "cell_type": "markdown",
   "metadata": {},
   "source": [
    "Nowe kolumny zawieraja wartosci typu SparseVector zawierajacy mape bitowa.\n"
   ]
  },
  {
   "cell_type": "code",
   "execution_count": 17,
   "metadata": {},
   "outputs": [
    {
     "data": {
      "text/html": [
       "<img src=\"https://miro.medium.com/max/2400/1*ggtP4a5YaRx6l09KQaYOnw.png\"/>"
      ],
      "text/plain": [
       "<IPython.core.display.Image object>"
      ]
     },
     "execution_count": 17,
     "metadata": {},
     "output_type": "execute_result"
    }
   ],
   "source": [
    "from IPython.display import Image\n",
    "from IPython.core.display import HTML \n",
    "Image(url= \"https://miro.medium.com/max/2400/1*ggtP4a5YaRx6l09KQaYOnw.png\")"
   ]
  },
  {
   "cell_type": "code",
   "execution_count": 18,
   "metadata": {},
   "outputs": [
    {
     "name": "stdout",
     "output_type": "stream",
     "text": [
      "Orginal values:\n",
      "['Linux-based' 'Windows' 'MacOS' None 'BSD']\n",
      "---------\n",
      "StringIndexed values:\n",
      "[2. 0. 1. 4. 3.]\n",
      "---------\n",
      "OneHot values:\n",
      "[SparseVector(4, {2: 1.0}) SparseVector(4, {0: 1.0})\n",
      " SparseVector(4, {1: 1.0}) SparseVector(4, {}) SparseVector(4, {3: 1.0})]\n"
     ]
    }
   ],
   "source": [
    "print(\"Orginal values:\")\n",
    "print(pa['OpSys'].unique())\n",
    "print (\"---------\")\n",
    "print(\"StringIndexed values:\")\n",
    "print(pa['stringindexed_OpSys'].unique())\n",
    "print (\"---------\")\n",
    "print(\"OneHot values:\")\n",
    "print(pa['onehot_OpSys'].unique())"
   ]
  },
  {
   "cell_type": "markdown",
   "metadata": {},
   "source": [
    "#### <B>Asemblacja</B> - połączenie wszystkich kolumn predykcyjnych do jednej (kolumna features)"
   ]
  },
  {
   "cell_type": "code",
   "execution_count": 19,
   "metadata": {},
   "outputs": [],
   "source": [
    "extracted_columns = ['onehot_' + c for c in feature_columns]\n",
    "vectorassembler_stage = VectorAssembler(inputCols=extracted_columns, outputCol='features') "
   ]
  },
  {
   "cell_type": "markdown",
   "metadata": {},
   "source": [
    "### Połączenie wszystkich krokþw przygotowania danych w jednym potoku przetwarzania (pipeline)"
   ]
  },
  {
   "cell_type": "code",
   "execution_count": 20,
   "metadata": {},
   "outputs": [
    {
     "data": {
      "text/plain": [
       "['compAboveAvg',\n",
       " 'OpSys',\n",
       " 'EdLevel',\n",
       " 'MainBranch',\n",
       " 'Country',\n",
       " 'JobSeek',\n",
       " 'YearsCode',\n",
       " 'onehot_OpSys',\n",
       " 'onehot_EdLevel',\n",
       " 'onehot_MainBranch',\n",
       " 'onehot_Country',\n",
       " 'onehot_JobSeek',\n",
       " 'onehot_YearsCode',\n",
       " 'features',\n",
       " 'label']"
      ]
     },
     "execution_count": 20,
     "metadata": {},
     "output_type": "execute_result"
    }
   ],
   "source": [
    "# wybór kolumn do ostatecznej ramki danych\n",
    "# poza kolumnami features i label (które będą wykorzystywane do budowania modelu) \n",
    "# zostawiamy m.in. oryginalne kolumn (feature_columns) \n",
    "final_columns = [y] + feature_columns + extracted_columns + ['features', 'label']\n",
    "final_columns"
   ]
  },
  {
   "cell_type": "code",
   "execution_count": 21,
   "metadata": {},
   "outputs": [
    {
     "data": {
      "text/html": [
       "<div>\n",
       "<style scoped>\n",
       "    .dataframe tbody tr th:only-of-type {\n",
       "        vertical-align: middle;\n",
       "    }\n",
       "\n",
       "    .dataframe tbody tr th {\n",
       "        vertical-align: top;\n",
       "    }\n",
       "\n",
       "    .dataframe thead th {\n",
       "        text-align: right;\n",
       "    }\n",
       "</style>\n",
       "<table border=\"1\" class=\"dataframe\">\n",
       "  <thead>\n",
       "    <tr style=\"text-align: right;\">\n",
       "      <th></th>\n",
       "      <th>compAboveAvg</th>\n",
       "      <th>OpSys</th>\n",
       "      <th>EdLevel</th>\n",
       "      <th>MainBranch</th>\n",
       "      <th>Country</th>\n",
       "      <th>JobSeek</th>\n",
       "      <th>YearsCode</th>\n",
       "      <th>onehot_OpSys</th>\n",
       "      <th>onehot_EdLevel</th>\n",
       "      <th>onehot_MainBranch</th>\n",
       "      <th>onehot_Country</th>\n",
       "      <th>onehot_JobSeek</th>\n",
       "      <th>onehot_YearsCode</th>\n",
       "      <th>features</th>\n",
       "      <th>label</th>\n",
       "    </tr>\n",
       "  </thead>\n",
       "  <tbody>\n",
       "    <tr>\n",
       "      <th>0</th>\n",
       "      <td>true</td>\n",
       "      <td>Linux-based</td>\n",
       "      <td>Bachelor’s degree (B.A., B.S., B.Eng., etc.)</td>\n",
       "      <td>I am a developer by profession</td>\n",
       "      <td>United States</td>\n",
       "      <td>I’m not actively looking, but I am open to new...</td>\n",
       "      <td>17</td>\n",
       "      <td>(0.0, 0.0, 1.0, 0.0)</td>\n",
       "      <td>(1.0, 0.0, 0.0, 0.0, 0.0, 0.0, 0.0, 0.0, 0.0)</td>\n",
       "      <td>(1.0, 0.0)</td>\n",
       "      <td>(1.0, 0.0, 0.0, 0.0, 0.0, 0.0, 0.0, 0.0, 0.0, ...</td>\n",
       "      <td>(1.0, 0.0, 0.0)</td>\n",
       "      <td>(0.0, 0.0, 0.0, 0.0, 0.0, 0.0, 0.0, 0.0, 0.0, ...</td>\n",
       "      <td>(0.0, 0.0, 1.0, 0.0, 1.0, 0.0, 0.0, 0.0, 0.0, ...</td>\n",
       "      <td>1.0</td>\n",
       "    </tr>\n",
       "    <tr>\n",
       "      <th>1</th>\n",
       "      <td>false</td>\n",
       "      <td>Windows</td>\n",
       "      <td>Master’s degree (M.A., M.S., M.Eng., MBA, etc.)</td>\n",
       "      <td>I am a developer by profession</td>\n",
       "      <td>United Kingdom</td>\n",
       "      <td>I’m not actively looking, but I am open to new...</td>\n",
       "      <td>8</td>\n",
       "      <td>(1.0, 0.0, 0.0, 0.0)</td>\n",
       "      <td>(0.0, 1.0, 0.0, 0.0, 0.0, 0.0, 0.0, 0.0, 0.0)</td>\n",
       "      <td>(1.0, 0.0)</td>\n",
       "      <td>(0.0, 0.0, 1.0, 0.0, 0.0, 0.0, 0.0, 0.0, 0.0, ...</td>\n",
       "      <td>(1.0, 0.0, 0.0)</td>\n",
       "      <td>(0.0, 1.0, 0.0, 0.0, 0.0, 0.0, 0.0, 0.0, 0.0, ...</td>\n",
       "      <td>(1.0, 0.0, 0.0, 0.0, 0.0, 1.0, 0.0, 0.0, 0.0, ...</td>\n",
       "      <td>0.0</td>\n",
       "    </tr>\n",
       "    <tr>\n",
       "      <th>2</th>\n",
       "      <td>false</td>\n",
       "      <td>Windows</td>\n",
       "      <td>Bachelor’s degree (B.A., B.S., B.Eng., etc.)</td>\n",
       "      <td>I am a developer by profession</td>\n",
       "      <td>United Kingdom</td>\n",
       "      <td>I am actively looking for a job</td>\n",
       "      <td>10</td>\n",
       "      <td>(1.0, 0.0, 0.0, 0.0)</td>\n",
       "      <td>(1.0, 0.0, 0.0, 0.0, 0.0, 0.0, 0.0, 0.0, 0.0)</td>\n",
       "      <td>(1.0, 0.0)</td>\n",
       "      <td>(0.0, 0.0, 1.0, 0.0, 0.0, 0.0, 0.0, 0.0, 0.0, ...</td>\n",
       "      <td>(0.0, 0.0, 1.0)</td>\n",
       "      <td>(1.0, 0.0, 0.0, 0.0, 0.0, 0.0, 0.0, 0.0, 0.0, ...</td>\n",
       "      <td>(1.0, 0.0, 0.0, 0.0, 1.0, 0.0, 0.0, 0.0, 0.0, ...</td>\n",
       "      <td>0.0</td>\n",
       "    </tr>\n",
       "    <tr>\n",
       "      <th>3</th>\n",
       "      <td>false</td>\n",
       "      <td>Windows</td>\n",
       "      <td>Some college/university study without earning ...</td>\n",
       "      <td>I am a developer by profession</td>\n",
       "      <td>Spain</td>\n",
       "      <td>I’m not actively looking, but I am open to new...</td>\n",
       "      <td>7</td>\n",
       "      <td>(1.0, 0.0, 0.0, 0.0)</td>\n",
       "      <td>(0.0, 0.0, 1.0, 0.0, 0.0, 0.0, 0.0, 0.0, 0.0)</td>\n",
       "      <td>(1.0, 0.0)</td>\n",
       "      <td>(0.0, 0.0, 0.0, 0.0, 0.0, 0.0, 0.0, 0.0, 0.0, ...</td>\n",
       "      <td>(1.0, 0.0, 0.0)</td>\n",
       "      <td>(0.0, 0.0, 0.0, 1.0, 0.0, 0.0, 0.0, 0.0, 0.0, ...</td>\n",
       "      <td>(1.0, 0.0, 0.0, 0.0, 0.0, 0.0, 1.0, 0.0, 0.0, ...</td>\n",
       "      <td>0.0</td>\n",
       "    </tr>\n",
       "    <tr>\n",
       "      <th>4</th>\n",
       "      <td>false</td>\n",
       "      <td>MacOS</td>\n",
       "      <td>Secondary school (e.g. American high school, G...</td>\n",
       "      <td>I am not primarily a developer, but I write co...</td>\n",
       "      <td>Netherlands</td>\n",
       "      <td>I am not interested in new job opportunities</td>\n",
       "      <td>35</td>\n",
       "      <td>(0.0, 1.0, 0.0, 0.0)</td>\n",
       "      <td>(0.0, 0.0, 0.0, 1.0, 0.0, 0.0, 0.0, 0.0, 0.0)</td>\n",
       "      <td>(0.0, 1.0)</td>\n",
       "      <td>(0.0, 0.0, 0.0, 0.0, 0.0, 0.0, 0.0, 1.0, 0.0, ...</td>\n",
       "      <td>(0.0, 1.0, 0.0)</td>\n",
       "      <td>(0.0, 0.0, 0.0, 0.0, 0.0, 0.0, 0.0, 0.0, 0.0, ...</td>\n",
       "      <td>(0.0, 1.0, 0.0, 0.0, 0.0, 0.0, 0.0, 1.0, 0.0, ...</td>\n",
       "      <td>0.0</td>\n",
       "    </tr>\n",
       "  </tbody>\n",
       "</table>\n",
       "</div>"
      ],
      "text/plain": [
       "  compAboveAvg        OpSys  \\\n",
       "0         true  Linux-based   \n",
       "1        false      Windows   \n",
       "2        false      Windows   \n",
       "3        false      Windows   \n",
       "4        false        MacOS   \n",
       "\n",
       "                                             EdLevel  \\\n",
       "0       Bachelor’s degree (B.A., B.S., B.Eng., etc.)   \n",
       "1    Master’s degree (M.A., M.S., M.Eng., MBA, etc.)   \n",
       "2       Bachelor’s degree (B.A., B.S., B.Eng., etc.)   \n",
       "3  Some college/university study without earning ...   \n",
       "4  Secondary school (e.g. American high school, G...   \n",
       "\n",
       "                                          MainBranch         Country  \\\n",
       "0                     I am a developer by profession   United States   \n",
       "1                     I am a developer by profession  United Kingdom   \n",
       "2                     I am a developer by profession  United Kingdom   \n",
       "3                     I am a developer by profession           Spain   \n",
       "4  I am not primarily a developer, but I write co...     Netherlands   \n",
       "\n",
       "                                             JobSeek YearsCode  \\\n",
       "0  I’m not actively looking, but I am open to new...        17   \n",
       "1  I’m not actively looking, but I am open to new...         8   \n",
       "2                    I am actively looking for a job        10   \n",
       "3  I’m not actively looking, but I am open to new...         7   \n",
       "4       I am not interested in new job opportunities        35   \n",
       "\n",
       "           onehot_OpSys                                 onehot_EdLevel  \\\n",
       "0  (0.0, 0.0, 1.0, 0.0)  (1.0, 0.0, 0.0, 0.0, 0.0, 0.0, 0.0, 0.0, 0.0)   \n",
       "1  (1.0, 0.0, 0.0, 0.0)  (0.0, 1.0, 0.0, 0.0, 0.0, 0.0, 0.0, 0.0, 0.0)   \n",
       "2  (1.0, 0.0, 0.0, 0.0)  (1.0, 0.0, 0.0, 0.0, 0.0, 0.0, 0.0, 0.0, 0.0)   \n",
       "3  (1.0, 0.0, 0.0, 0.0)  (0.0, 0.0, 1.0, 0.0, 0.0, 0.0, 0.0, 0.0, 0.0)   \n",
       "4  (0.0, 1.0, 0.0, 0.0)  (0.0, 0.0, 0.0, 1.0, 0.0, 0.0, 0.0, 0.0, 0.0)   \n",
       "\n",
       "  onehot_MainBranch                                     onehot_Country  \\\n",
       "0        (1.0, 0.0)  (1.0, 0.0, 0.0, 0.0, 0.0, 0.0, 0.0, 0.0, 0.0, ...   \n",
       "1        (1.0, 0.0)  (0.0, 0.0, 1.0, 0.0, 0.0, 0.0, 0.0, 0.0, 0.0, ...   \n",
       "2        (1.0, 0.0)  (0.0, 0.0, 1.0, 0.0, 0.0, 0.0, 0.0, 0.0, 0.0, ...   \n",
       "3        (1.0, 0.0)  (0.0, 0.0, 0.0, 0.0, 0.0, 0.0, 0.0, 0.0, 0.0, ...   \n",
       "4        (0.0, 1.0)  (0.0, 0.0, 0.0, 0.0, 0.0, 0.0, 0.0, 1.0, 0.0, ...   \n",
       "\n",
       "    onehot_JobSeek                                   onehot_YearsCode  \\\n",
       "0  (1.0, 0.0, 0.0)  (0.0, 0.0, 0.0, 0.0, 0.0, 0.0, 0.0, 0.0, 0.0, ...   \n",
       "1  (1.0, 0.0, 0.0)  (0.0, 1.0, 0.0, 0.0, 0.0, 0.0, 0.0, 0.0, 0.0, ...   \n",
       "2  (0.0, 0.0, 1.0)  (1.0, 0.0, 0.0, 0.0, 0.0, 0.0, 0.0, 0.0, 0.0, ...   \n",
       "3  (1.0, 0.0, 0.0)  (0.0, 0.0, 0.0, 1.0, 0.0, 0.0, 0.0, 0.0, 0.0, ...   \n",
       "4  (0.0, 1.0, 0.0)  (0.0, 0.0, 0.0, 0.0, 0.0, 0.0, 0.0, 0.0, 0.0, ...   \n",
       "\n",
       "                                            features  label  \n",
       "0  (0.0, 0.0, 1.0, 0.0, 1.0, 0.0, 0.0, 0.0, 0.0, ...    1.0  \n",
       "1  (1.0, 0.0, 0.0, 0.0, 0.0, 1.0, 0.0, 0.0, 0.0, ...    0.0  \n",
       "2  (1.0, 0.0, 0.0, 0.0, 1.0, 0.0, 0.0, 0.0, 0.0, ...    0.0  \n",
       "3  (1.0, 0.0, 0.0, 0.0, 0.0, 0.0, 1.0, 0.0, 0.0, ...    0.0  \n",
       "4  (0.0, 1.0, 0.0, 0.0, 0.0, 0.0, 0.0, 1.0, 0.0, ...    0.0  "
      ]
     },
     "execution_count": 21,
     "metadata": {},
     "output_type": "execute_result"
    }
   ],
   "source": [
    "transformed_df = Pipeline(stages=stringindexer_stages + \\\n",
    "                          onehotencoder_stages + \\\n",
    "                          [vectorassembler_stage]).fit(spark_df).transform(spark_df).select(final_columns)\n",
    "\n",
    "transformed_df.limit(5).toPandas()"
   ]
  },
  {
   "cell_type": "markdown",
   "metadata": {},
   "source": [
    "### Podzial na zbior treningowy/testowy"
   ]
  },
  {
   "cell_type": "code",
   "execution_count": 22,
   "metadata": {},
   "outputs": [],
   "source": [
    "training, test = transformed_df.randomSplit([0.8, 0.2], seed=1234)"
   ]
  },
  {
   "cell_type": "code",
   "execution_count": 23,
   "metadata": {},
   "outputs": [
    {
     "data": {
      "text/plain": [
       "27890"
      ]
     },
     "execution_count": 23,
     "metadata": {},
     "output_type": "execute_result"
    }
   ],
   "source": [
    "training.count()"
   ]
  },
  {
   "cell_type": "markdown",
   "metadata": {},
   "source": [
    "### Uczenie modelu - model.fit()"
   ]
  },
  {
   "cell_type": "code",
   "execution_count": 24,
   "metadata": {},
   "outputs": [],
   "source": [
    "# na poczatek wybierzemy drzewo decyzyjne. Nie musimy podawac zadnych parametrow\n",
    "from pyspark.ml.classification import DecisionTreeClassifier\n",
    "dt = DecisionTreeClassifier(featuresCol='features', labelCol='label')"
   ]
  },
  {
   "cell_type": "code",
   "execution_count": 25,
   "metadata": {},
   "outputs": [],
   "source": [
    "simple_model = Pipeline(stages=[dt]).fit(training)"
   ]
  },
  {
   "cell_type": "code",
   "execution_count": 26,
   "metadata": {},
   "outputs": [
    {
     "data": {
      "text/plain": [
       "DecisionTreeClassificationModel: uid=DecisionTreeClassifier_f4874f9c40a8, depth=5, numNodes=43, numClasses=2, numFeatures=229"
      ]
     },
     "execution_count": 26,
     "metadata": {},
     "output_type": "execute_result"
    }
   ],
   "source": [
    "simple_model.stages[0]"
   ]
  },
  {
   "cell_type": "markdown",
   "metadata": {},
   "source": [
    "### Predykcja - model.transform()"
   ]
  },
  {
   "cell_type": "code",
   "execution_count": 27,
   "metadata": {},
   "outputs": [],
   "source": [
    "pred_simple = simple_model.transform(test)"
   ]
  },
  {
   "cell_type": "code",
   "execution_count": 28,
   "metadata": {},
   "outputs": [
    {
     "data": {
      "text/html": [
       "<div>\n",
       "<style scoped>\n",
       "    .dataframe tbody tr th:only-of-type {\n",
       "        vertical-align: middle;\n",
       "    }\n",
       "\n",
       "    .dataframe tbody tr th {\n",
       "        vertical-align: top;\n",
       "    }\n",
       "\n",
       "    .dataframe thead th {\n",
       "        text-align: right;\n",
       "    }\n",
       "</style>\n",
       "<table border=\"1\" class=\"dataframe\">\n",
       "  <thead>\n",
       "    <tr style=\"text-align: right;\">\n",
       "      <th></th>\n",
       "      <th>compAboveAvg</th>\n",
       "      <th>OpSys</th>\n",
       "      <th>EdLevel</th>\n",
       "      <th>MainBranch</th>\n",
       "      <th>Country</th>\n",
       "      <th>JobSeek</th>\n",
       "      <th>YearsCode</th>\n",
       "      <th>onehot_OpSys</th>\n",
       "      <th>onehot_EdLevel</th>\n",
       "      <th>onehot_MainBranch</th>\n",
       "      <th>onehot_Country</th>\n",
       "      <th>onehot_JobSeek</th>\n",
       "      <th>onehot_YearsCode</th>\n",
       "      <th>features</th>\n",
       "      <th>label</th>\n",
       "      <th>prediction</th>\n",
       "      <th>rawPrediction</th>\n",
       "      <th>probability</th>\n",
       "    </tr>\n",
       "  </thead>\n",
       "  <tbody>\n",
       "    <tr>\n",
       "      <th>0</th>\n",
       "      <td>false</td>\n",
       "      <td>None</td>\n",
       "      <td>Associate degree (A.A., A.S., etc.)</td>\n",
       "      <td>I am a developer by profession</td>\n",
       "      <td>Germany</td>\n",
       "      <td>I’m not actively looking, but I am open to new...</td>\n",
       "      <td>19</td>\n",
       "      <td>(0.0, 0.0, 0.0, 0.0)</td>\n",
       "      <td>(0.0, 0.0, 0.0, 0.0, 1.0, 0.0, 0.0, 0.0, 0.0)</td>\n",
       "      <td>(1.0, 0.0)</td>\n",
       "      <td>(0.0, 0.0, 0.0, 1.0, 0.0, 0.0, 0.0, 0.0, 0.0, ...</td>\n",
       "      <td>(1.0, 0.0, 0.0)</td>\n",
       "      <td>(0.0, 0.0, 0.0, 0.0, 0.0, 0.0, 0.0, 0.0, 0.0, ...</td>\n",
       "      <td>(0.0, 0.0, 0.0, 0.0, 0.0, 0.0, 0.0, 0.0, 1.0, ...</td>\n",
       "      <td>0.0</td>\n",
       "      <td>1.0</td>\n",
       "      <td>[725.0, 938.0]</td>\n",
       "      <td>[0.4359591100420926, 0.5640408899579074]</td>\n",
       "    </tr>\n",
       "    <tr>\n",
       "      <th>1</th>\n",
       "      <td>false</td>\n",
       "      <td>None</td>\n",
       "      <td>Bachelor’s degree (B.A., B.S., B.Eng., etc.)</td>\n",
       "      <td>I am a developer by profession</td>\n",
       "      <td>Germany</td>\n",
       "      <td>I’m not actively looking, but I am open to new...</td>\n",
       "      <td>16</td>\n",
       "      <td>(0.0, 0.0, 0.0, 0.0)</td>\n",
       "      <td>(1.0, 0.0, 0.0, 0.0, 0.0, 0.0, 0.0, 0.0, 0.0)</td>\n",
       "      <td>(1.0, 0.0)</td>\n",
       "      <td>(0.0, 0.0, 0.0, 1.0, 0.0, 0.0, 0.0, 0.0, 0.0, ...</td>\n",
       "      <td>(1.0, 0.0, 0.0)</td>\n",
       "      <td>(0.0, 0.0, 0.0, 0.0, 0.0, 0.0, 0.0, 0.0, 0.0, ...</td>\n",
       "      <td>(0.0, 0.0, 0.0, 0.0, 1.0, 0.0, 0.0, 0.0, 0.0, ...</td>\n",
       "      <td>0.0</td>\n",
       "      <td>1.0</td>\n",
       "      <td>[725.0, 938.0]</td>\n",
       "      <td>[0.4359591100420926, 0.5640408899579074]</td>\n",
       "    </tr>\n",
       "    <tr>\n",
       "      <th>2</th>\n",
       "      <td>false</td>\n",
       "      <td>None</td>\n",
       "      <td>Master’s degree (M.A., M.S., M.Eng., MBA, etc.)</td>\n",
       "      <td>I am a developer by profession</td>\n",
       "      <td>United States</td>\n",
       "      <td>I’m not actively looking, but I am open to new...</td>\n",
       "      <td>15</td>\n",
       "      <td>(0.0, 0.0, 0.0, 0.0)</td>\n",
       "      <td>(0.0, 1.0, 0.0, 0.0, 0.0, 0.0, 0.0, 0.0, 0.0)</td>\n",
       "      <td>(1.0, 0.0)</td>\n",
       "      <td>(1.0, 0.0, 0.0, 0.0, 0.0, 0.0, 0.0, 0.0, 0.0, ...</td>\n",
       "      <td>(1.0, 0.0, 0.0)</td>\n",
       "      <td>(0.0, 0.0, 0.0, 0.0, 0.0, 1.0, 0.0, 0.0, 0.0, ...</td>\n",
       "      <td>(0.0, 0.0, 0.0, 0.0, 0.0, 1.0, 0.0, 0.0, 0.0, ...</td>\n",
       "      <td>0.0</td>\n",
       "      <td>1.0</td>\n",
       "      <td>[479.0, 5195.0]</td>\n",
       "      <td>[0.08442016214310892, 0.9155798378568911]</td>\n",
       "    </tr>\n",
       "    <tr>\n",
       "      <th>3</th>\n",
       "      <td>false</td>\n",
       "      <td>None</td>\n",
       "      <td>Professional degree (JD, MD, etc.)</td>\n",
       "      <td>I am not primarily a developer, but I write co...</td>\n",
       "      <td>Switzerland</td>\n",
       "      <td>I’m not actively looking, but I am open to new...</td>\n",
       "      <td>8</td>\n",
       "      <td>(0.0, 0.0, 0.0, 0.0)</td>\n",
       "      <td>(0.0, 0.0, 0.0, 0.0, 0.0, 0.0, 1.0, 0.0, 0.0)</td>\n",
       "      <td>(0.0, 1.0)</td>\n",
       "      <td>(0.0, 0.0, 0.0, 0.0, 0.0, 0.0, 0.0, 0.0, 0.0, ...</td>\n",
       "      <td>(1.0, 0.0, 0.0)</td>\n",
       "      <td>(0.0, 1.0, 0.0, 0.0, 0.0, 0.0, 0.0, 0.0, 0.0, ...</td>\n",
       "      <td>(0.0, 0.0, 0.0, 0.0, 0.0, 0.0, 0.0, 0.0, 0.0, ...</td>\n",
       "      <td>0.0</td>\n",
       "      <td>0.0</td>\n",
       "      <td>[12474.0, 3277.0]</td>\n",
       "      <td>[0.7919497174782554, 0.20805028252174465]</td>\n",
       "    </tr>\n",
       "    <tr>\n",
       "      <th>4</th>\n",
       "      <td>false</td>\n",
       "      <td>None</td>\n",
       "      <td>Secondary school (e.g. American high school, G...</td>\n",
       "      <td>I am a developer by profession</td>\n",
       "      <td>United States</td>\n",
       "      <td>I’m not actively looking, but I am open to new...</td>\n",
       "      <td>6</td>\n",
       "      <td>(0.0, 0.0, 0.0, 0.0)</td>\n",
       "      <td>(0.0, 0.0, 0.0, 1.0, 0.0, 0.0, 0.0, 0.0, 0.0)</td>\n",
       "      <td>(1.0, 0.0)</td>\n",
       "      <td>(1.0, 0.0, 0.0, 0.0, 0.0, 0.0, 0.0, 0.0, 0.0, ...</td>\n",
       "      <td>(1.0, 0.0, 0.0)</td>\n",
       "      <td>(0.0, 0.0, 1.0, 0.0, 0.0, 0.0, 0.0, 0.0, 0.0, ...</td>\n",
       "      <td>(0.0, 0.0, 0.0, 0.0, 0.0, 0.0, 0.0, 1.0, 0.0, ...</td>\n",
       "      <td>0.0</td>\n",
       "      <td>1.0</td>\n",
       "      <td>[479.0, 5195.0]</td>\n",
       "      <td>[0.08442016214310892, 0.9155798378568911]</td>\n",
       "    </tr>\n",
       "  </tbody>\n",
       "</table>\n",
       "</div>"
      ],
      "text/plain": [
       "  compAboveAvg OpSys                                            EdLevel  \\\n",
       "0        false  None                Associate degree (A.A., A.S., etc.)   \n",
       "1        false  None       Bachelor’s degree (B.A., B.S., B.Eng., etc.)   \n",
       "2        false  None    Master’s degree (M.A., M.S., M.Eng., MBA, etc.)   \n",
       "3        false  None                 Professional degree (JD, MD, etc.)   \n",
       "4        false  None  Secondary school (e.g. American high school, G...   \n",
       "\n",
       "                                          MainBranch        Country  \\\n",
       "0                     I am a developer by profession        Germany   \n",
       "1                     I am a developer by profession        Germany   \n",
       "2                     I am a developer by profession  United States   \n",
       "3  I am not primarily a developer, but I write co...    Switzerland   \n",
       "4                     I am a developer by profession  United States   \n",
       "\n",
       "                                             JobSeek YearsCode  \\\n",
       "0  I’m not actively looking, but I am open to new...        19   \n",
       "1  I’m not actively looking, but I am open to new...        16   \n",
       "2  I’m not actively looking, but I am open to new...        15   \n",
       "3  I’m not actively looking, but I am open to new...         8   \n",
       "4  I’m not actively looking, but I am open to new...         6   \n",
       "\n",
       "           onehot_OpSys                                 onehot_EdLevel  \\\n",
       "0  (0.0, 0.0, 0.0, 0.0)  (0.0, 0.0, 0.0, 0.0, 1.0, 0.0, 0.0, 0.0, 0.0)   \n",
       "1  (0.0, 0.0, 0.0, 0.0)  (1.0, 0.0, 0.0, 0.0, 0.0, 0.0, 0.0, 0.0, 0.0)   \n",
       "2  (0.0, 0.0, 0.0, 0.0)  (0.0, 1.0, 0.0, 0.0, 0.0, 0.0, 0.0, 0.0, 0.0)   \n",
       "3  (0.0, 0.0, 0.0, 0.0)  (0.0, 0.0, 0.0, 0.0, 0.0, 0.0, 1.0, 0.0, 0.0)   \n",
       "4  (0.0, 0.0, 0.0, 0.0)  (0.0, 0.0, 0.0, 1.0, 0.0, 0.0, 0.0, 0.0, 0.0)   \n",
       "\n",
       "  onehot_MainBranch                                     onehot_Country  \\\n",
       "0        (1.0, 0.0)  (0.0, 0.0, 0.0, 1.0, 0.0, 0.0, 0.0, 0.0, 0.0, ...   \n",
       "1        (1.0, 0.0)  (0.0, 0.0, 0.0, 1.0, 0.0, 0.0, 0.0, 0.0, 0.0, ...   \n",
       "2        (1.0, 0.0)  (1.0, 0.0, 0.0, 0.0, 0.0, 0.0, 0.0, 0.0, 0.0, ...   \n",
       "3        (0.0, 1.0)  (0.0, 0.0, 0.0, 0.0, 0.0, 0.0, 0.0, 0.0, 0.0, ...   \n",
       "4        (1.0, 0.0)  (1.0, 0.0, 0.0, 0.0, 0.0, 0.0, 0.0, 0.0, 0.0, ...   \n",
       "\n",
       "    onehot_JobSeek                                   onehot_YearsCode  \\\n",
       "0  (1.0, 0.0, 0.0)  (0.0, 0.0, 0.0, 0.0, 0.0, 0.0, 0.0, 0.0, 0.0, ...   \n",
       "1  (1.0, 0.0, 0.0)  (0.0, 0.0, 0.0, 0.0, 0.0, 0.0, 0.0, 0.0, 0.0, ...   \n",
       "2  (1.0, 0.0, 0.0)  (0.0, 0.0, 0.0, 0.0, 0.0, 1.0, 0.0, 0.0, 0.0, ...   \n",
       "3  (1.0, 0.0, 0.0)  (0.0, 1.0, 0.0, 0.0, 0.0, 0.0, 0.0, 0.0, 0.0, ...   \n",
       "4  (1.0, 0.0, 0.0)  (0.0, 0.0, 1.0, 0.0, 0.0, 0.0, 0.0, 0.0, 0.0, ...   \n",
       "\n",
       "                                            features  label  prediction  \\\n",
       "0  (0.0, 0.0, 0.0, 0.0, 0.0, 0.0, 0.0, 0.0, 1.0, ...    0.0         1.0   \n",
       "1  (0.0, 0.0, 0.0, 0.0, 1.0, 0.0, 0.0, 0.0, 0.0, ...    0.0         1.0   \n",
       "2  (0.0, 0.0, 0.0, 0.0, 0.0, 1.0, 0.0, 0.0, 0.0, ...    0.0         1.0   \n",
       "3  (0.0, 0.0, 0.0, 0.0, 0.0, 0.0, 0.0, 0.0, 0.0, ...    0.0         0.0   \n",
       "4  (0.0, 0.0, 0.0, 0.0, 0.0, 0.0, 0.0, 1.0, 0.0, ...    0.0         1.0   \n",
       "\n",
       "       rawPrediction                                probability  \n",
       "0     [725.0, 938.0]   [0.4359591100420926, 0.5640408899579074]  \n",
       "1     [725.0, 938.0]   [0.4359591100420926, 0.5640408899579074]  \n",
       "2    [479.0, 5195.0]  [0.08442016214310892, 0.9155798378568911]  \n",
       "3  [12474.0, 3277.0]  [0.7919497174782554, 0.20805028252174465]  \n",
       "4    [479.0, 5195.0]  [0.08442016214310892, 0.9155798378568911]  "
      ]
     },
     "execution_count": 28,
     "metadata": {},
     "output_type": "execute_result"
    }
   ],
   "source": [
    "show_columns = final_columns + ['prediction', 'rawPrediction', 'probability']\n",
    "pred_simple.limit(5).select(show_columns).toPandas()"
   ]
  },
  {
   "cell_type": "markdown",
   "metadata": {},
   "source": [
    "## Ewaluacje"
   ]
  },
  {
   "cell_type": "code",
   "execution_count": 29,
   "metadata": {},
   "outputs": [
    {
     "data": {
      "text/html": [
       "<div>\n",
       "<style scoped>\n",
       "    .dataframe tbody tr th:only-of-type {\n",
       "        vertical-align: middle;\n",
       "    }\n",
       "\n",
       "    .dataframe tbody tr th {\n",
       "        vertical-align: top;\n",
       "    }\n",
       "\n",
       "    .dataframe thead th {\n",
       "        text-align: right;\n",
       "    }\n",
       "</style>\n",
       "<table border=\"1\" class=\"dataframe\">\n",
       "  <thead>\n",
       "    <tr style=\"text-align: right;\">\n",
       "      <th></th>\n",
       "      <th>label</th>\n",
       "      <th>prediction</th>\n",
       "      <th>count</th>\n",
       "    </tr>\n",
       "  </thead>\n",
       "  <tbody>\n",
       "    <tr>\n",
       "      <th>0</th>\n",
       "      <td>1.0</td>\n",
       "      <td>1.0</td>\n",
       "      <td>2259</td>\n",
       "    </tr>\n",
       "    <tr>\n",
       "      <th>1</th>\n",
       "      <td>0.0</td>\n",
       "      <td>1.0</td>\n",
       "      <td>644</td>\n",
       "    </tr>\n",
       "    <tr>\n",
       "      <th>2</th>\n",
       "      <td>1.0</td>\n",
       "      <td>0.0</td>\n",
       "      <td>831</td>\n",
       "    </tr>\n",
       "    <tr>\n",
       "      <th>3</th>\n",
       "      <td>0.0</td>\n",
       "      <td>0.0</td>\n",
       "      <td>3132</td>\n",
       "    </tr>\n",
       "  </tbody>\n",
       "</table>\n",
       "</div>"
      ],
      "text/plain": [
       "   label  prediction  count\n",
       "0    1.0         1.0   2259\n",
       "1    0.0         1.0    644\n",
       "2    1.0         0.0    831\n",
       "3    0.0         0.0   3132"
      ]
     },
     "execution_count": 29,
     "metadata": {},
     "output_type": "execute_result"
    }
   ],
   "source": [
    "# macierz pomyłek (confusion matrix)\n",
    "label_and_pred = pred_simple.select('label', 'prediction')\n",
    "label_and_pred.groupBy('label', 'prediction').count().toPandas()"
   ]
  },
  {
   "cell_type": "code",
   "execution_count": 30,
   "metadata": {},
   "outputs": [],
   "source": [
    "# Ewaluator \n",
    "from pyspark.ml.evaluation import BinaryClassificationEvaluator\n",
    "evaluator = BinaryClassificationEvaluator(rawPredictionCol=\"rawPrediction\", metricName=\"areaUnderROC\")"
   ]
  },
  {
   "cell_type": "code",
   "execution_count": 31,
   "metadata": {},
   "outputs": [
    {
     "data": {
      "text/plain": [
       "0.5986083542455158"
      ]
     },
     "execution_count": 31,
     "metadata": {},
     "output_type": "execute_result"
    }
   ],
   "source": [
    "auroc_simple = evaluator.evaluate(pred_simple)\n",
    "auroc_simple"
   ]
  },
  {
   "cell_type": "code",
   "execution_count": 32,
   "metadata": {},
   "outputs": [
    {
     "data": {
      "text/plain": [
       "0.7851733177978445"
      ]
     },
     "execution_count": 32,
     "metadata": {},
     "output_type": "execute_result"
    }
   ],
   "source": [
    "from pyspark.ml.evaluation import MulticlassClassificationEvaluator\n",
    "\n",
    "evaluator_m = MulticlassClassificationEvaluator(labelCol=\"label\", predictionCol=\"prediction\", metricName=\"accuracy\")\n",
    "accuracy = evaluator_m.evaluate(pred_simple)\n",
    "accuracy"
   ]
  },
  {
   "cell_type": "markdown",
   "metadata": {},
   "source": [
    "## Dodanie hiperparametrów "
   ]
  },
  {
   "cell_type": "code",
   "execution_count": 33,
   "metadata": {},
   "outputs": [],
   "source": [
    "# Jakie wartości hiperparametru maxDepth mają być przetestowane:\n",
    "from pyspark.ml.tuning import ParamGridBuilder\n",
    "param_grid = ParamGridBuilder().\\\n",
    "    addGrid(dt.maxDepth, [2,3,4,5,6]).\\\n",
    "    build()"
   ]
  },
  {
   "cell_type": "code",
   "execution_count": 34,
   "metadata": {},
   "outputs": [],
   "source": [
    "# Walidacja krzyżowa wykonwyana w celu optymalizacji hiperparametrów\n",
    "from pyspark.ml.tuning import CrossValidator\n",
    "cv = CrossValidator(estimator=dt, estimatorParamMaps=param_grid, evaluator=evaluator, numFolds=4)"
   ]
  },
  {
   "cell_type": "code",
   "execution_count": 35,
   "metadata": {},
   "outputs": [],
   "source": [
    "# Budowa modelu na podstawie danych treningowych\n",
    "cv_model = cv.fit(training)"
   ]
  },
  {
   "cell_type": "code",
   "execution_count": 36,
   "metadata": {},
   "outputs": [
    {
     "data": {
      "text/plain": [
       "DecisionTreeClassificationModel: uid=DecisionTreeClassifier_f4874f9c40a8, depth=2, numNodes=5, numClasses=2, numFeatures=229"
      ]
     },
     "execution_count": 36,
     "metadata": {},
     "output_type": "execute_result"
    }
   ],
   "source": [
    "cv_model.bestModel"
   ]
  },
  {
   "cell_type": "markdown",
   "metadata": {},
   "source": [
    "## Predykcja z nowym modelem"
   ]
  },
  {
   "cell_type": "code",
   "execution_count": 37,
   "metadata": {},
   "outputs": [
    {
     "data": {
      "text/html": [
       "<div>\n",
       "<style scoped>\n",
       "    .dataframe tbody tr th:only-of-type {\n",
       "        vertical-align: middle;\n",
       "    }\n",
       "\n",
       "    .dataframe tbody tr th {\n",
       "        vertical-align: top;\n",
       "    }\n",
       "\n",
       "    .dataframe thead th {\n",
       "        text-align: right;\n",
       "    }\n",
       "</style>\n",
       "<table border=\"1\" class=\"dataframe\">\n",
       "  <thead>\n",
       "    <tr style=\"text-align: right;\">\n",
       "      <th></th>\n",
       "      <th>compAboveAvg</th>\n",
       "      <th>OpSys</th>\n",
       "      <th>EdLevel</th>\n",
       "      <th>MainBranch</th>\n",
       "      <th>Country</th>\n",
       "      <th>JobSeek</th>\n",
       "      <th>YearsCode</th>\n",
       "      <th>onehot_OpSys</th>\n",
       "      <th>onehot_EdLevel</th>\n",
       "      <th>onehot_MainBranch</th>\n",
       "      <th>onehot_Country</th>\n",
       "      <th>onehot_JobSeek</th>\n",
       "      <th>onehot_YearsCode</th>\n",
       "      <th>features</th>\n",
       "      <th>label</th>\n",
       "      <th>prediction</th>\n",
       "      <th>rawPrediction</th>\n",
       "      <th>probability</th>\n",
       "    </tr>\n",
       "  </thead>\n",
       "  <tbody>\n",
       "    <tr>\n",
       "      <th>0</th>\n",
       "      <td>false</td>\n",
       "      <td>None</td>\n",
       "      <td>Associate degree (A.A., A.S., etc.)</td>\n",
       "      <td>I am a developer by profession</td>\n",
       "      <td>Germany</td>\n",
       "      <td>I’m not actively looking, but I am open to new...</td>\n",
       "      <td>19</td>\n",
       "      <td>(0.0, 0.0, 0.0, 0.0)</td>\n",
       "      <td>(0.0, 0.0, 0.0, 0.0, 1.0, 0.0, 0.0, 0.0, 0.0)</td>\n",
       "      <td>(1.0, 0.0)</td>\n",
       "      <td>(0.0, 0.0, 0.0, 1.0, 0.0, 0.0, 0.0, 0.0, 0.0, ...</td>\n",
       "      <td>(1.0, 0.0, 0.0)</td>\n",
       "      <td>(0.0, 0.0, 0.0, 0.0, 0.0, 0.0, 0.0, 0.0, 0.0, ...</td>\n",
       "      <td>(0.0, 0.0, 0.0, 0.0, 0.0, 0.0, 0.0, 0.0, 1.0, ...</td>\n",
       "      <td>0.0</td>\n",
       "      <td>0.0</td>\n",
       "      <td>[13897.0, 5414.0]</td>\n",
       "      <td>[0.7196416550152762, 0.28035834498472373]</td>\n",
       "    </tr>\n",
       "    <tr>\n",
       "      <th>1</th>\n",
       "      <td>false</td>\n",
       "      <td>None</td>\n",
       "      <td>Bachelor’s degree (B.A., B.S., B.Eng., etc.)</td>\n",
       "      <td>I am a developer by profession</td>\n",
       "      <td>Germany</td>\n",
       "      <td>I’m not actively looking, but I am open to new...</td>\n",
       "      <td>16</td>\n",
       "      <td>(0.0, 0.0, 0.0, 0.0)</td>\n",
       "      <td>(1.0, 0.0, 0.0, 0.0, 0.0, 0.0, 0.0, 0.0, 0.0)</td>\n",
       "      <td>(1.0, 0.0)</td>\n",
       "      <td>(0.0, 0.0, 0.0, 1.0, 0.0, 0.0, 0.0, 0.0, 0.0, ...</td>\n",
       "      <td>(1.0, 0.0, 0.0)</td>\n",
       "      <td>(0.0, 0.0, 0.0, 0.0, 0.0, 0.0, 0.0, 0.0, 0.0, ...</td>\n",
       "      <td>(0.0, 0.0, 0.0, 0.0, 1.0, 0.0, 0.0, 0.0, 0.0, ...</td>\n",
       "      <td>0.0</td>\n",
       "      <td>0.0</td>\n",
       "      <td>[13897.0, 5414.0]</td>\n",
       "      <td>[0.7196416550152762, 0.28035834498472373]</td>\n",
       "    </tr>\n",
       "    <tr>\n",
       "      <th>2</th>\n",
       "      <td>false</td>\n",
       "      <td>None</td>\n",
       "      <td>Master’s degree (M.A., M.S., M.Eng., MBA, etc.)</td>\n",
       "      <td>I am a developer by profession</td>\n",
       "      <td>United States</td>\n",
       "      <td>I’m not actively looking, but I am open to new...</td>\n",
       "      <td>15</td>\n",
       "      <td>(0.0, 0.0, 0.0, 0.0)</td>\n",
       "      <td>(0.0, 1.0, 0.0, 0.0, 0.0, 0.0, 0.0, 0.0, 0.0)</td>\n",
       "      <td>(1.0, 0.0)</td>\n",
       "      <td>(1.0, 0.0, 0.0, 0.0, 0.0, 0.0, 0.0, 0.0, 0.0, ...</td>\n",
       "      <td>(1.0, 0.0, 0.0)</td>\n",
       "      <td>(0.0, 0.0, 0.0, 0.0, 0.0, 1.0, 0.0, 0.0, 0.0, ...</td>\n",
       "      <td>(0.0, 0.0, 0.0, 0.0, 0.0, 1.0, 0.0, 0.0, 0.0, ...</td>\n",
       "      <td>0.0</td>\n",
       "      <td>1.0</td>\n",
       "      <td>[656.0, 5837.0]</td>\n",
       "      <td>[0.10103188048667797, 0.898968119513322]</td>\n",
       "    </tr>\n",
       "    <tr>\n",
       "      <th>3</th>\n",
       "      <td>false</td>\n",
       "      <td>None</td>\n",
       "      <td>Professional degree (JD, MD, etc.)</td>\n",
       "      <td>I am not primarily a developer, but I write co...</td>\n",
       "      <td>Switzerland</td>\n",
       "      <td>I’m not actively looking, but I am open to new...</td>\n",
       "      <td>8</td>\n",
       "      <td>(0.0, 0.0, 0.0, 0.0)</td>\n",
       "      <td>(0.0, 0.0, 0.0, 0.0, 0.0, 0.0, 1.0, 0.0, 0.0)</td>\n",
       "      <td>(0.0, 1.0)</td>\n",
       "      <td>(0.0, 0.0, 0.0, 0.0, 0.0, 0.0, 0.0, 0.0, 0.0, ...</td>\n",
       "      <td>(1.0, 0.0, 0.0)</td>\n",
       "      <td>(0.0, 1.0, 0.0, 0.0, 0.0, 0.0, 0.0, 0.0, 0.0, ...</td>\n",
       "      <td>(0.0, 0.0, 0.0, 0.0, 0.0, 0.0, 0.0, 0.0, 0.0, ...</td>\n",
       "      <td>0.0</td>\n",
       "      <td>0.0</td>\n",
       "      <td>[13897.0, 5414.0]</td>\n",
       "      <td>[0.7196416550152762, 0.28035834498472373]</td>\n",
       "    </tr>\n",
       "    <tr>\n",
       "      <th>4</th>\n",
       "      <td>false</td>\n",
       "      <td>None</td>\n",
       "      <td>Secondary school (e.g. American high school, G...</td>\n",
       "      <td>I am a developer by profession</td>\n",
       "      <td>United States</td>\n",
       "      <td>I’m not actively looking, but I am open to new...</td>\n",
       "      <td>6</td>\n",
       "      <td>(0.0, 0.0, 0.0, 0.0)</td>\n",
       "      <td>(0.0, 0.0, 0.0, 1.0, 0.0, 0.0, 0.0, 0.0, 0.0)</td>\n",
       "      <td>(1.0, 0.0)</td>\n",
       "      <td>(1.0, 0.0, 0.0, 0.0, 0.0, 0.0, 0.0, 0.0, 0.0, ...</td>\n",
       "      <td>(1.0, 0.0, 0.0)</td>\n",
       "      <td>(0.0, 0.0, 1.0, 0.0, 0.0, 0.0, 0.0, 0.0, 0.0, ...</td>\n",
       "      <td>(0.0, 0.0, 0.0, 0.0, 0.0, 0.0, 0.0, 1.0, 0.0, ...</td>\n",
       "      <td>0.0</td>\n",
       "      <td>1.0</td>\n",
       "      <td>[656.0, 5837.0]</td>\n",
       "      <td>[0.10103188048667797, 0.898968119513322]</td>\n",
       "    </tr>\n",
       "  </tbody>\n",
       "</table>\n",
       "</div>"
      ],
      "text/plain": [
       "  compAboveAvg OpSys                                            EdLevel  \\\n",
       "0        false  None                Associate degree (A.A., A.S., etc.)   \n",
       "1        false  None       Bachelor’s degree (B.A., B.S., B.Eng., etc.)   \n",
       "2        false  None    Master’s degree (M.A., M.S., M.Eng., MBA, etc.)   \n",
       "3        false  None                 Professional degree (JD, MD, etc.)   \n",
       "4        false  None  Secondary school (e.g. American high school, G...   \n",
       "\n",
       "                                          MainBranch        Country  \\\n",
       "0                     I am a developer by profession        Germany   \n",
       "1                     I am a developer by profession        Germany   \n",
       "2                     I am a developer by profession  United States   \n",
       "3  I am not primarily a developer, but I write co...    Switzerland   \n",
       "4                     I am a developer by profession  United States   \n",
       "\n",
       "                                             JobSeek YearsCode  \\\n",
       "0  I’m not actively looking, but I am open to new...        19   \n",
       "1  I’m not actively looking, but I am open to new...        16   \n",
       "2  I’m not actively looking, but I am open to new...        15   \n",
       "3  I’m not actively looking, but I am open to new...         8   \n",
       "4  I’m not actively looking, but I am open to new...         6   \n",
       "\n",
       "           onehot_OpSys                                 onehot_EdLevel  \\\n",
       "0  (0.0, 0.0, 0.0, 0.0)  (0.0, 0.0, 0.0, 0.0, 1.0, 0.0, 0.0, 0.0, 0.0)   \n",
       "1  (0.0, 0.0, 0.0, 0.0)  (1.0, 0.0, 0.0, 0.0, 0.0, 0.0, 0.0, 0.0, 0.0)   \n",
       "2  (0.0, 0.0, 0.0, 0.0)  (0.0, 1.0, 0.0, 0.0, 0.0, 0.0, 0.0, 0.0, 0.0)   \n",
       "3  (0.0, 0.0, 0.0, 0.0)  (0.0, 0.0, 0.0, 0.0, 0.0, 0.0, 1.0, 0.0, 0.0)   \n",
       "4  (0.0, 0.0, 0.0, 0.0)  (0.0, 0.0, 0.0, 1.0, 0.0, 0.0, 0.0, 0.0, 0.0)   \n",
       "\n",
       "  onehot_MainBranch                                     onehot_Country  \\\n",
       "0        (1.0, 0.0)  (0.0, 0.0, 0.0, 1.0, 0.0, 0.0, 0.0, 0.0, 0.0, ...   \n",
       "1        (1.0, 0.0)  (0.0, 0.0, 0.0, 1.0, 0.0, 0.0, 0.0, 0.0, 0.0, ...   \n",
       "2        (1.0, 0.0)  (1.0, 0.0, 0.0, 0.0, 0.0, 0.0, 0.0, 0.0, 0.0, ...   \n",
       "3        (0.0, 1.0)  (0.0, 0.0, 0.0, 0.0, 0.0, 0.0, 0.0, 0.0, 0.0, ...   \n",
       "4        (1.0, 0.0)  (1.0, 0.0, 0.0, 0.0, 0.0, 0.0, 0.0, 0.0, 0.0, ...   \n",
       "\n",
       "    onehot_JobSeek                                   onehot_YearsCode  \\\n",
       "0  (1.0, 0.0, 0.0)  (0.0, 0.0, 0.0, 0.0, 0.0, 0.0, 0.0, 0.0, 0.0, ...   \n",
       "1  (1.0, 0.0, 0.0)  (0.0, 0.0, 0.0, 0.0, 0.0, 0.0, 0.0, 0.0, 0.0, ...   \n",
       "2  (1.0, 0.0, 0.0)  (0.0, 0.0, 0.0, 0.0, 0.0, 1.0, 0.0, 0.0, 0.0, ...   \n",
       "3  (1.0, 0.0, 0.0)  (0.0, 1.0, 0.0, 0.0, 0.0, 0.0, 0.0, 0.0, 0.0, ...   \n",
       "4  (1.0, 0.0, 0.0)  (0.0, 0.0, 1.0, 0.0, 0.0, 0.0, 0.0, 0.0, 0.0, ...   \n",
       "\n",
       "                                            features  label  prediction  \\\n",
       "0  (0.0, 0.0, 0.0, 0.0, 0.0, 0.0, 0.0, 0.0, 1.0, ...    0.0         0.0   \n",
       "1  (0.0, 0.0, 0.0, 0.0, 1.0, 0.0, 0.0, 0.0, 0.0, ...    0.0         0.0   \n",
       "2  (0.0, 0.0, 0.0, 0.0, 0.0, 1.0, 0.0, 0.0, 0.0, ...    0.0         1.0   \n",
       "3  (0.0, 0.0, 0.0, 0.0, 0.0, 0.0, 0.0, 0.0, 0.0, ...    0.0         0.0   \n",
       "4  (0.0, 0.0, 0.0, 0.0, 0.0, 0.0, 0.0, 1.0, 0.0, ...    0.0         1.0   \n",
       "\n",
       "       rawPrediction                                probability  \n",
       "0  [13897.0, 5414.0]  [0.7196416550152762, 0.28035834498472373]  \n",
       "1  [13897.0, 5414.0]  [0.7196416550152762, 0.28035834498472373]  \n",
       "2    [656.0, 5837.0]   [0.10103188048667797, 0.898968119513322]  \n",
       "3  [13897.0, 5414.0]  [0.7196416550152762, 0.28035834498472373]  \n",
       "4    [656.0, 5837.0]   [0.10103188048667797, 0.898968119513322]  "
      ]
     },
     "execution_count": 37,
     "metadata": {},
     "output_type": "execute_result"
    }
   ],
   "source": [
    "# Jak wygląda predykcja na zbiorze danych testowych?\n",
    "pred_cv = cv_model.transform(test)\n",
    "show_columns = final_columns + ['prediction', 'rawPrediction', 'probability']\n",
    "pred_cv.limit(5).select(show_columns).toPandas()"
   ]
  },
  {
   "cell_type": "code",
   "execution_count": 38,
   "metadata": {},
   "outputs": [
    {
     "data": {
      "text/html": [
       "<div>\n",
       "<style scoped>\n",
       "    .dataframe tbody tr th:only-of-type {\n",
       "        vertical-align: middle;\n",
       "    }\n",
       "\n",
       "    .dataframe tbody tr th {\n",
       "        vertical-align: top;\n",
       "    }\n",
       "\n",
       "    .dataframe thead th {\n",
       "        text-align: right;\n",
       "    }\n",
       "</style>\n",
       "<table border=\"1\" class=\"dataframe\">\n",
       "  <thead>\n",
       "    <tr style=\"text-align: right;\">\n",
       "      <th></th>\n",
       "      <th>label</th>\n",
       "      <th>prediction</th>\n",
       "      <th>count</th>\n",
       "    </tr>\n",
       "  </thead>\n",
       "  <tbody>\n",
       "    <tr>\n",
       "      <th>0</th>\n",
       "      <td>1.0</td>\n",
       "      <td>1.0</td>\n",
       "      <td>1816</td>\n",
       "    </tr>\n",
       "    <tr>\n",
       "      <th>1</th>\n",
       "      <td>0.0</td>\n",
       "      <td>1.0</td>\n",
       "      <td>345</td>\n",
       "    </tr>\n",
       "    <tr>\n",
       "      <th>2</th>\n",
       "      <td>1.0</td>\n",
       "      <td>0.0</td>\n",
       "      <td>1274</td>\n",
       "    </tr>\n",
       "    <tr>\n",
       "      <th>3</th>\n",
       "      <td>0.0</td>\n",
       "      <td>0.0</td>\n",
       "      <td>3431</td>\n",
       "    </tr>\n",
       "  </tbody>\n",
       "</table>\n",
       "</div>"
      ],
      "text/plain": [
       "   label  prediction  count\n",
       "0    1.0         1.0   1816\n",
       "1    0.0         1.0    345\n",
       "2    1.0         0.0   1274\n",
       "3    0.0         0.0   3431"
      ]
     },
     "execution_count": 38,
     "metadata": {},
     "output_type": "execute_result"
    }
   ],
   "source": [
    "# Confusion matrix\n",
    "label_and_pred = pred_cv.select('label', 'prediction')\n",
    "label_and_pred.groupBy('label', 'prediction').count().toPandas()"
   ]
  },
  {
   "cell_type": "code",
   "execution_count": 39,
   "metadata": {},
   "outputs": [
    {
     "data": {
      "text/plain": [
       "0.6893249307498216"
      ]
     },
     "execution_count": 39,
     "metadata": {},
     "output_type": "execute_result"
    }
   ],
   "source": [
    "auroc_cv = evaluator.evaluate(pred_cv)\n",
    "auroc_cv"
   ]
  },
  {
   "cell_type": "code",
   "execution_count": 40,
   "metadata": {},
   "outputs": [
    {
     "data": {
      "text/plain": [
       "0.7642004078065832"
      ]
     },
     "execution_count": 40,
     "metadata": {},
     "output_type": "execute_result"
    }
   ],
   "source": [
    "acc_cv = evaluator_m.evaluate(pred_cv)\n",
    "acc_cv"
   ]
  },
  {
   "cell_type": "markdown",
   "metadata": {},
   "source": [
    "## Klasyfikacja za pomoca Gradient Boosted Trees"
   ]
  },
  {
   "cell_type": "code",
   "execution_count": 41,
   "metadata": {},
   "outputs": [],
   "source": [
    "from pyspark.ml.classification import GBTClassifier\n",
    "gbt = GBTClassifier(labelCol=\"label\", featuresCol=\"features\", maxIter=10)\n",
    "model = gbt.fit(training)"
   ]
  },
  {
   "cell_type": "code",
   "execution_count": 42,
   "metadata": {},
   "outputs": [
    {
     "data": {
      "text/plain": [
       "0.8828084718336902"
      ]
     },
     "execution_count": 42,
     "metadata": {},
     "output_type": "execute_result"
    }
   ],
   "source": [
    "evaluator.evaluate(model.transform(test))"
   ]
  },
  {
   "cell_type": "code",
   "execution_count": 264,
   "metadata": {},
   "outputs": [
    {
     "data": {
      "text/plain": [
       "0.8049810661229245"
      ]
     },
     "execution_count": 264,
     "metadata": {},
     "output_type": "execute_result"
    }
   ],
   "source": [
    "evaluator_m.evaluate(model.transform(test))"
   ]
  },
  {
   "cell_type": "markdown",
   "metadata": {},
   "source": [
    "## <span style='background:yellow'> ZADANIA - etap 2A</span>\n",
    "\n",
    "\n",
    "Odpowiedz korzystając z <b>API DF</b> lub <b>SparkSQL</b>:\n",
    "    \n",
    "a) Ile jest unikalnych odpowiedzi w zapytaniu o poziom wykształcenia (EdLevel)?\n",
    "\n",
    "b) Podaj średnią liczbę godzin przepracowywanych przez z respondentów pogrupowanych ze względu na kraj.\n",
    "\n",
    "c) Narysuj wykres słupkowy popularności wykorzystywanych baz danych przez profesjonalnych programistów. Skorzystaj z funkcji split i posexplode. \n",
    "\n",
    "d)  Sprawdź czy można bardziej poprawić jakość predykcji dla zadania z tego notatnika: \n",
    "* dodając cechy?\n",
    "* zmieniąjac model?\n",
    "* lepiej dobierajac parametry nowego modelu? \n",
    "\n",
    "e) Notatnik zawierający wyniki umieść w repozytorium zespołu w branchu phase-2a.\n"
   ]
  }
 ],
 "metadata": {
  "kernelspec": {
   "display_name": "Python 3 (ipykernel)",
   "language": "python",
   "name": "python3"
  },
  "language_info": {
   "codemirror_mode": {
    "name": "ipython",
    "version": 3
   },
   "file_extension": ".py",
   "mimetype": "text/x-python",
   "name": "python",
   "nbconvert_exporter": "python",
   "pygments_lexer": "ipython3",
   "version": "3.10.8"
  },
  "notebook_test": {
   "keytab_path": "/data/work/home/ds-lab-testuser1/ds-lab-testuser1.keytab",
   "user": "ds-lab-testuser1"
  }
 },
 "nbformat": 4,
 "nbformat_minor": 4
}
