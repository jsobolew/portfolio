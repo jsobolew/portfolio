{
 "cells": [
  {
   "cell_type": "code",
   "execution_count": 1,
   "metadata": {},
   "outputs": [
    {
     "name": "stderr",
     "output_type": "stream",
     "text": [
      "c:\\Users\\QbaSo\\AppData\\Local\\Programs\\Python\\Python39\\lib\\site-packages\\requests\\__init__.py:102: RequestsDependencyWarning: urllib3 (1.26.9) or chardet (5.1.0)/charset_normalizer (2.0.12) doesn't match a supported version!\n",
      "  warnings.warn(\"urllib3 ({}) or chardet ({})/charset_normalizer ({}) doesn't match a supported \"\n"
     ]
    }
   ],
   "source": [
    "import time\n",
    "import torch\n",
    "from torch.utils.data import DataLoader, random_split\n",
    "from torchtext.data import to_map_style_dataset\n",
    "\n",
    "from reviews_dataset import reviews\n",
    "from trainer import Trainer\n",
    "import os\n",
    "from sklearn.metrics import accuracy_score, roc_auc_score, recall_score, confusion_matrix, ConfusionMatrixDisplay, f1_score\n",
    "import numpy as np\n",
    "import pandas as pd"
   ]
  },
  {
   "cell_type": "code",
   "execution_count": 2,
   "metadata": {},
   "outputs": [],
   "source": [
    "def train(trainer: Trainer, train_dataloader: DataLoader, valid_dataloader: DataLoader, EPOCHS = 10, LR = 5, BATCH_SIZE = 64):\n",
    "    total_accu = None\n",
    "    for epoch in range(1, EPOCHS + 1):\n",
    "        epoch_start_time = time.time()\n",
    "        trainer.train(train_dataloader, epoch)\n",
    "        accu_val = trainer.evaluate(valid_dataloader)\n",
    "        if total_accu is not None and total_accu > accu_val:\n",
    "            trainer.scheduler.step()\n",
    "        else:\n",
    "            total_accu = accu_val\n",
    "        print('-' * 59)\n",
    "        print('| end of epoch {:3d} | time: {:5.2f}s | '\n",
    "              'valid accuracy {:8.3f} '.format(epoch,\n",
    "                                               time.time() - epoch_start_time,\n",
    "                                               accu_val))\n",
    "        print('-' * 59)\n",
    "\n",
    "def predict(trainer, dataloader: DataLoader):\n",
    "    trainer.model.eval()\n",
    "    preds = np.array([])\n",
    "    labels = np.array([])\n",
    "\n",
    "    with torch.no_grad():\n",
    "        for idx, (label, text, offsets) in enumerate(dataloader):\n",
    "            predicted_label = trainer.model(text, offsets)\n",
    "            preds = np.concatenate([preds, (predicted_label.argmax(1) == label).cpu().numpy()])\n",
    "            labels = np.concatenate([labels, label.cpu().numpy()])\n",
    "    return preds, labels\n",
    "\n",
    "def evaluate(trainer, dataloader):\n",
    "    preds, y_test = predict(model, dataloader)\n",
    "    accuracy = accuracy_score(preds, y_test)\n",
    "    recall = recall_score(preds, y_test, average=None)\n",
    "    cm = confusion_matrix(preds, y_test)\n",
    "    disp = ConfusionMatrixDisplay(confusion_matrix=cm, display_labels=['neg','neu','pos'])\n",
    "    f1 = f1_score(preds, y_test, average=None)\n",
    "    disp.plot()\n",
    "\n",
    "    return pd.DataFrame({'dataset':[dataset], 'accuracy':[np.round(accuracy, 3)], 'recall':[np.round(recall, 3)], 'f1_score':[np.round(f1,3)], 'training samples':[len(train_dataloader.dataset)]})\n",
    "\n",
    "def getDatasets(dataset_path, BATCH_SIZE, trainer):\n",
    "    train_iter, test_iter = reviews(root=dataset_path)\n",
    "    train_dataset = to_map_style_dataset(train_iter)\n",
    "    test_dataset = to_map_style_dataset(test_iter)\n",
    "    num_train = int(len(train_dataset) * 0.95)\n",
    "    split_train_, split_valid_ = random_split(train_dataset, [num_train, len(train_dataset) - num_train])\n",
    "\n",
    "    train_dataloader = DataLoader(split_train_, batch_size=BATCH_SIZE,\n",
    "                                    shuffle=True, collate_fn=trainer.collate_batch)\n",
    "    valid_dataloader = DataLoader(split_valid_, batch_size=BATCH_SIZE,\n",
    "                                    shuffle=True, collate_fn=trainer.collate_batch)\n",
    "    test_dataloader = DataLoader(test_dataset, batch_size=BATCH_SIZE,\n",
    "                                    shuffle=True, collate_fn=trainer.collate_batch)\n",
    "    return train_dataloader, valid_dataloader, test_dataloader\n"
   ]
  },
  {
   "cell_type": "code",
   "execution_count": 5,
   "metadata": {},
   "outputs": [],
   "source": [
    "ptm = pd.read_json(dataset_path, orient='records')"
   ]
  },
  {
   "cell_type": "code",
   "execution_count": 6,
   "metadata": {},
   "outputs": [
    {
     "data": {
      "text/html": [
       "<div>\n",
       "<style scoped>\n",
       "    .dataframe tbody tr th:only-of-type {\n",
       "        vertical-align: middle;\n",
       "    }\n",
       "\n",
       "    .dataframe tbody tr th {\n",
       "        vertical-align: top;\n",
       "    }\n",
       "\n",
       "    .dataframe thead th {\n",
       "        text-align: right;\n",
       "    }\n",
       "</style>\n",
       "<table border=\"1\" class=\"dataframe\">\n",
       "  <thead>\n",
       "    <tr style=\"text-align: right;\">\n",
       "      <th></th>\n",
       "      <th>text</th>\n",
       "      <th>label</th>\n",
       "      <th>score</th>\n",
       "    </tr>\n",
       "  </thead>\n",
       "  <tbody>\n",
       "    <tr>\n",
       "      <th>0</th>\n",
       "      <td>Doskonały stosunek jakości do ceny, poręczny, ...</td>\n",
       "      <td>pos</td>\n",
       "      <td>3</td>\n",
       "    </tr>\n",
       "    <tr>\n",
       "      <th>1</th>\n",
       "      <td>Jest w porządku, choć za tą cenę mógłby trzyma...</td>\n",
       "      <td>pos</td>\n",
       "      <td>3</td>\n",
       "    </tr>\n",
       "    <tr>\n",
       "      <th>2</th>\n",
       "      <td>kubek zgodny z opisem, wszystko w porządku</td>\n",
       "      <td>pos</td>\n",
       "      <td>3</td>\n",
       "    </tr>\n",
       "    <tr>\n",
       "      <th>3</th>\n",
       "      <td>Bardzo słabo pachną</td>\n",
       "      <td>neg</td>\n",
       "      <td>1</td>\n",
       "    </tr>\n",
       "    <tr>\n",
       "      <th>4</th>\n",
       "      <td>Produkt I klasy!</td>\n",
       "      <td>pos</td>\n",
       "      <td>3</td>\n",
       "    </tr>\n",
       "    <tr>\n",
       "      <th>...</th>\n",
       "      <td>...</td>\n",
       "      <td>...</td>\n",
       "      <td>...</td>\n",
       "    </tr>\n",
       "    <tr>\n",
       "      <th>10471</th>\n",
       "      <td>Doskonały</td>\n",
       "      <td>pos</td>\n",
       "      <td>3</td>\n",
       "    </tr>\n",
       "    <tr>\n",
       "      <th>10472</th>\n",
       "      <td>Moim zdaniem to podstawowa wersja tabletek teg...</td>\n",
       "      <td>neu</td>\n",
       "      <td>2</td>\n",
       "    </tr>\n",
       "    <tr>\n",
       "      <th>10473</th>\n",
       "      <td>Farba odpadła po umyciu w zmywarce</td>\n",
       "      <td>neu</td>\n",
       "      <td>2</td>\n",
       "    </tr>\n",
       "    <tr>\n",
       "      <th>10474</th>\n",
       "      <td>Wytrzymały, estetyczny, solidnie wykonany. Bar...</td>\n",
       "      <td>pos</td>\n",
       "      <td>3</td>\n",
       "    </tr>\n",
       "    <tr>\n",
       "      <th>10475</th>\n",
       "      <td>Polecam,solidnie wykonany,dobrze siedzi w ręce</td>\n",
       "      <td>pos</td>\n",
       "      <td>3</td>\n",
       "    </tr>\n",
       "  </tbody>\n",
       "</table>\n",
       "<p>10476 rows × 3 columns</p>\n",
       "</div>"
      ],
      "text/plain": [
       "                                                    text label  score\n",
       "0      Doskonały stosunek jakości do ceny, poręczny, ...   pos      3\n",
       "1      Jest w porządku, choć za tą cenę mógłby trzyma...   pos      3\n",
       "2             kubek zgodny z opisem, wszystko w porządku   pos      3\n",
       "3                                    Bardzo słabo pachną   neg      1\n",
       "4                                       Produkt I klasy!   pos      3\n",
       "...                                                  ...   ...    ...\n",
       "10471                                          Doskonały   pos      3\n",
       "10472  Moim zdaniem to podstawowa wersja tabletek teg...   neu      2\n",
       "10473                 Farba odpadła po umyciu w zmywarce   neu      2\n",
       "10474  Wytrzymały, estetyczny, solidnie wykonany. Bar...   pos      3\n",
       "10475     Polecam,solidnie wykonany,dobrze siedzi w ręce   pos      3\n",
       "\n",
       "[10476 rows x 3 columns]"
      ]
     },
     "execution_count": 6,
     "metadata": {},
     "output_type": "execute_result"
    }
   ],
   "source": [
    "ptm"
   ]
  },
  {
   "cell_type": "code",
   "execution_count": 7,
   "metadata": {},
   "outputs": [
    {
     "data": {
      "text/plain": [
       "10476"
      ]
     },
     "execution_count": 7,
     "metadata": {},
     "output_type": "execute_result"
    }
   ],
   "source": [
    "len(test_dataloader.dataset)"
   ]
  },
  {
   "cell_type": "code",
   "execution_count": 8,
   "metadata": {},
   "outputs": [
    {
     "data": {
      "text/plain": [
       "9952"
      ]
     },
     "execution_count": 8,
     "metadata": {},
     "output_type": "execute_result"
    }
   ],
   "source": [
    "len(train_dataloader.dataset)"
   ]
  },
  {
   "cell_type": "code",
   "execution_count": 9,
   "metadata": {},
   "outputs": [
    {
     "data": {
      "text/plain": [
       "524"
      ]
     },
     "execution_count": 9,
     "metadata": {},
     "output_type": "execute_result"
    }
   ],
   "source": [
    "len(valid_dataloader.dataset)"
   ]
  },
  {
   "cell_type": "code",
   "execution_count": 6,
   "metadata": {},
   "outputs": [
    {
     "ename": "FileNotFoundError",
     "evalue": "[WinError 3] System nie może odnaleźć określonej ścieżki: '../FinalDatasets/'",
     "output_type": "error",
     "traceback": [
      "\u001b[1;31m---------------------------------------------------------------------------\u001b[0m",
      "\u001b[1;31mFileNotFoundError\u001b[0m                         Traceback (most recent call last)",
      "\u001b[1;32mc:\\Users\\QbaSo\\Desktop\\sem2\\NLP\\projekt\\NLP\\linear_model_experiments.ipynb Cell 3\u001b[0m in \u001b[0;36m<cell line: 1>\u001b[1;34m()\u001b[0m\n\u001b[1;32m----> <a href='vscode-notebook-cell:/c%3A/Users/QbaSo/Desktop/sem2/NLP/projekt/NLP/linear_model_experiments.ipynb#W2sZmlsZQ%3D%3D?line=0'>1</a>\u001b[0m datasets \u001b[39m=\u001b[39m os\u001b[39m.\u001b[39;49mlistdir(\u001b[39m\"\u001b[39;49m\u001b[39m../FinalDatasets/\u001b[39;49m\u001b[39m\"\u001b[39;49m)\n",
      "\u001b[1;31mFileNotFoundError\u001b[0m: [WinError 3] System nie może odnaleźć określonej ścieżki: '../FinalDatasets/'"
     ]
    }
   ],
   "source": [
    "datasets = os.listdir(\"../FinalDatasets/\")"
   ]
  },
  {
   "cell_type": "code",
   "execution_count": 4,
   "metadata": {},
   "outputs": [],
   "source": [
    "# Hyperparameters\n",
    "EPOCHS = 10  # epoch\n",
    "LR = 5  # learning rate\n",
    "BATCH_SIZE = 64  # batch size for training\n",
    "\n",
    "dataset_path = 'FinalDatasets/complete_dataset_ptm.json'\n",
    "device = torch.device(\"cuda\" if torch.cuda.is_available() else \"cpu\")\n",
    "dataset = reviews(root=dataset_path, split='train')\n",
    "\n",
    "trainer = Trainer(dataset, device, LR)\n",
    "train_dataloader, valid_dataloader, test_dataloader = getDatasets(dataset_path, BATCH_SIZE, trainer)\n",
    "# train(trainer, train_dataloader, valid_dataloader)\n",
    "\n",
    "\n",
    "# train(trainer, dataset_path)\n",
    "\n",
    "# reviews_labels = {1: \"Negative\",\n",
    "#                     2: \"Neutral\",\n",
    "#                     3: \"Positive\"}\n",
    "\n",
    "# ex_text_str1 = \"Super mega proszek, bardzo dobry\"\n",
    "# ex_text_str2 = \"Totalny badziew szkoda pieniędzy, beznadziejny, porażka\"\n",
    "# ex_text_str3 = \"Nie domywa ale ładnie pachnie. Zostają smugi\"\n",
    "# ex_text_str4 = \"Nie rozpuszczają się, dobrze domywają, ładnie pachną, ale bardzo drogie\"\n",
    "\n",
    "# print(\"This is a %s review\" % reviews_labels[trainer.predict(ex_text_str1)])\n",
    "# print(\"This is a %s review\" % reviews_labels[trainer.predict(ex_text_str2)])\n",
    "# print(\"This is a %s review\" % reviews_labels[trainer.predict(ex_text_str3)])\n",
    "# print(\"This is a %s review\" % reviews_labels[trainer.predict(ex_text_str4)])\n"
   ]
  },
  {
   "cell_type": "code",
   "execution_count": 50,
   "metadata": {},
   "outputs": [
    {
     "data": {
      "text/plain": [
       "(array([1., 1., 1., ..., 1., 1., 1.]), array([2., 2., 2., ..., 2., 0., 2.]))"
      ]
     },
     "execution_count": 50,
     "metadata": {},
     "output_type": "execute_result"
    }
   ],
   "source": [
    "predict(trainer, test_dataloader)"
   ]
  },
  {
   "cell_type": "code",
   "execution_count": 53,
   "metadata": {},
   "outputs": [
    {
     "name": "stderr",
     "output_type": "stream",
     "text": [
      "c:\\Users\\QbaSo\\AppData\\Local\\Programs\\Python\\Python39\\lib\\site-packages\\sklearn\\metrics\\_classification.py:1318: UndefinedMetricWarning: Recall is ill-defined and being set to 0.0 in labels with no true samples. Use `zero_division` parameter to control this behavior.\n",
      "  _warn_prf(average, modifier, msg_start, len(result))\n"
     ]
    },
    {
     "ename": "NameError",
     "evalue": "name 'df_train' is not defined",
     "output_type": "error",
     "traceback": [
      "\u001b[1;31m---------------------------------------------------------------------------\u001b[0m",
      "\u001b[1;31mNameError\u001b[0m                                 Traceback (most recent call last)",
      "\u001b[1;32mc:\\Users\\QbaSo\\Desktop\\sem2\\NLP\\projekt\\NLP\\linear_model_experiments.ipynb Cell 11\u001b[0m in \u001b[0;36m<cell line: 1>\u001b[1;34m()\u001b[0m\n\u001b[1;32m----> <a href='vscode-notebook-cell:/c%3A/Users/QbaSo/Desktop/sem2/NLP/projekt/NLP/linear_model_experiments.ipynb#X21sZmlsZQ%3D%3D?line=0'>1</a>\u001b[0m evaluate(trainer, test_dataloader)\n",
      "\u001b[1;32mc:\\Users\\QbaSo\\Desktop\\sem2\\NLP\\projekt\\NLP\\linear_model_experiments.ipynb Cell 11\u001b[0m in \u001b[0;36mevaluate\u001b[1;34m(model, df_test)\u001b[0m\n\u001b[0;32m     <a href='vscode-notebook-cell:/c%3A/Users/QbaSo/Desktop/sem2/NLP/projekt/NLP/linear_model_experiments.ipynb#X21sZmlsZQ%3D%3D?line=35'>36</a>\u001b[0m f1 \u001b[39m=\u001b[39m f1_score(preds, y_test, average\u001b[39m=\u001b[39m\u001b[39mNone\u001b[39;00m)\n\u001b[0;32m     <a href='vscode-notebook-cell:/c%3A/Users/QbaSo/Desktop/sem2/NLP/projekt/NLP/linear_model_experiments.ipynb#X21sZmlsZQ%3D%3D?line=36'>37</a>\u001b[0m disp\u001b[39m.\u001b[39mplot()\n\u001b[1;32m---> <a href='vscode-notebook-cell:/c%3A/Users/QbaSo/Desktop/sem2/NLP/projekt/NLP/linear_model_experiments.ipynb#X21sZmlsZQ%3D%3D?line=38'>39</a>\u001b[0m \u001b[39mreturn\u001b[39;00m pd\u001b[39m.\u001b[39mDataFrame({\u001b[39m'\u001b[39m\u001b[39mdataset\u001b[39m\u001b[39m'\u001b[39m:[dataset], \u001b[39m'\u001b[39m\u001b[39maccuracy\u001b[39m\u001b[39m'\u001b[39m:[np\u001b[39m.\u001b[39mround(accuracy, \u001b[39m3\u001b[39m)], \u001b[39m'\u001b[39m\u001b[39mrecall\u001b[39m\u001b[39m'\u001b[39m:[np\u001b[39m.\u001b[39mround(recall, \u001b[39m3\u001b[39m)], \u001b[39m'\u001b[39m\u001b[39mf1_score\u001b[39m\u001b[39m'\u001b[39m:[np\u001b[39m.\u001b[39mround(f1,\u001b[39m3\u001b[39m)], \u001b[39m'\u001b[39m\u001b[39mtraining samples\u001b[39m\u001b[39m'\u001b[39m:[\u001b[39mlen\u001b[39m(df_train)]})\n",
      "\u001b[1;31mNameError\u001b[0m: name 'df_train' is not defined"
     ]
    },
    {
     "data": {
      "image/png": "[encoded data removed]",
      "text/plain": [
       "<Figure size 432x288 with 2 Axes>"
      ]
     },
     "metadata": {
      "needs_background": "light"
     },
     "output_type": "display_data"
    }
   ],
   "source": [
    "evaluate(trainer, test_dataloader)"
   ]
  }
 ],
 "metadata": {
  "kernelspec": {
   "display_name": "Python 3",
   "language": "python",
   "name": "python3"
  },
  "language_info": {
   "codemirror_mode": {
    "name": "ipython",
    "version": 3
   },
   "file_extension": ".py",
   "mimetype": "text/x-python",
   "name": "python",
   "nbconvert_exporter": "python",
   "pygments_lexer": "ipython3",
   "version": "3.9.10"
  },
  "orig_nbformat": 4,
  "vscode": {
   "interpreter": {
    "hash": "4249f8e087ad731f5e338836e2eb79540285f90ed1dfcc5ccaf8d5c2082bb200"
   }
  }
 },
 "nbformat": 4,
 "nbformat_minor": 2
}
