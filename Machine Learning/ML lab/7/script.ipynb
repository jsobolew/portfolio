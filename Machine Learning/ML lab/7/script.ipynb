{
 "cells": [
  {
   "cell_type": "code",
   "execution_count": 8,
   "metadata": {},
   "outputs": [],
   "source": [
    "import json\n",
    "import random"
   ]
  },
  {
   "cell_type": "code",
   "execution_count": 3,
   "metadata": {},
   "outputs": [
    {
     "data": {
      "text/plain": [
       "'Back'"
      ]
     },
     "execution_count": 3,
     "metadata": {},
     "output_type": "execute_result"
    }
   ],
   "source": [
    "data[2]['name']"
   ]
  },
  {
   "cell_type": "code",
   "execution_count": 10,
   "metadata": {},
   "outputs": [],
   "source": [
    "class Node:\n",
    "    def __init__(self, name, parents, probabilities):\n",
    "        self.name = name\n",
    "        self.parents = parents\n",
    "        self.probabilities = probabilities\n",
    "\n",
    "    def probability(self, case):\n",
    "        return self.probabilities[case]\n",
    "\n",
    "    def sample(self, parent_case):\n",
    "        cases = []\n",
    "        for case in parent_case:\n",
    "            curr_case_prob = self.probabilities[case]\n",
    "            if random.random() < curr_case_prob:\n",
    "                cases.append(\"T\")\n",
    "            else:\n",
    "                cases.append(\"F\")\n",
    "        return cases\n",
    "\n",
    "class Net:\n",
    "    def __init__(self, nodes):\n",
    "        self.net_nodes = nodes\n",
    "\n",
    "    def sample(self, no_samples):\n",
    "        pass\n",
    "\n"
   ]
  },
  {
   "cell_type": "code",
   "execution_count": 20,
   "metadata": {},
   "outputs": [],
   "source": [
    "def get_nodes_from_file(filename = 'net_data.json'):\n",
    "    f = open(filename)\n",
    "    data = json.load(f)\n",
    "    nodes = []\n",
    "\n",
    "    for i in range(len(data)):\n",
    "        nodes.append(Node(data[i]['name'],data[i]['parents'],data[i]['probabilities']))\n",
    "\n",
    "    f.close()\n",
    "    return nodes"
   ]
  },
  {
   "cell_type": "code",
   "execution_count": 22,
   "metadata": {},
   "outputs": [],
   "source": [
    "net = Net(get_nodes_from_file())"
   ]
  },
  {
   "cell_type": "code",
   "execution_count": 27,
   "metadata": {},
   "outputs": [
    {
     "name": "stdout",
     "output_type": "stream",
     "text": [
      "[] Chair\n",
      "[] Sport\n",
      "['Chair', 'Sport'] Back\n",
      "['Back'] Ache\n"
     ]
    }
   ],
   "source": [
    "for node in net.net_nodes:\n",
    "    print(node.parents, node.name)"
   ]
  },
  {
   "cell_type": "code",
   "execution_count": 108,
   "metadata": {},
   "outputs": [
    {
     "data": {
      "text/plain": [
       "0.9"
      ]
     },
     "execution_count": 108,
     "metadata": {},
     "output_type": "execute_result"
    }
   ],
   "source": [
    "nodes[2].probabilities['TT']"
   ]
  },
  {
   "cell_type": "code",
   "execution_count": 149,
   "metadata": {},
   "outputs": [
    {
     "data": {
      "text/plain": [
       "['F']"
      ]
     },
     "execution_count": 149,
     "metadata": {},
     "output_type": "execute_result"
    }
   ],
   "source": [
    "nodes = net.net_nodes\n",
    "\n",
    "results = [\"\" for _ in range(len(nodes))]\n",
    "\n",
    "nodes[0].sample([\"\"])"
   ]
  },
  {
   "cell_type": "code",
   "execution_count": 147,
   "metadata": {},
   "outputs": [
    {
     "ename": "KeyError",
     "evalue": "'Back'",
     "output_type": "error",
     "traceback": [
      "\u001b[1;31m---------------------------------------------------------------------------\u001b[0m",
      "\u001b[1;31mKeyError\u001b[0m                                  Traceback (most recent call last)",
      "\u001b[1;32mc:\\Users\\QbaSo\\Desktop\\sem1\\WSI\\WSI_lab\\7\\script.ipynb Cell 9'\u001b[0m in \u001b[0;36m<cell line: 1>\u001b[1;34m()\u001b[0m\n\u001b[0;32m      <a href='vscode-notebook-cell:/c%3A/Users/QbaSo/Desktop/sem1/WSI/WSI_lab/7/script.ipynb#ch0000009?line=0'>1</a>\u001b[0m \u001b[39mfor\u001b[39;00m i \u001b[39min\u001b[39;00m \u001b[39mrange\u001b[39m(\u001b[39m3\u001b[39m,\u001b[39m-\u001b[39m\u001b[39m1\u001b[39m,\u001b[39m-\u001b[39m\u001b[39m1\u001b[39m):\n\u001b[1;32m----> <a href='vscode-notebook-cell:/c%3A/Users/QbaSo/Desktop/sem1/WSI/WSI_lab/7/script.ipynb#ch0000009?line=1'>2</a>\u001b[0m    nodes[i]\u001b[39m.\u001b[39;49msample(nodes[i]\u001b[39m.\u001b[39;49mparents)\n",
      "\u001b[1;32mc:\\Users\\QbaSo\\Desktop\\sem1\\WSI\\WSI_lab\\7\\script.ipynb Cell 3'\u001b[0m in \u001b[0;36mNode.sample\u001b[1;34m(self, parent_case)\u001b[0m\n\u001b[0;32m     <a href='vscode-notebook-cell:/c%3A/Users/QbaSo/Desktop/sem1/WSI/WSI_lab/7/script.ipynb#ch0000002?line=10'>11</a>\u001b[0m cases \u001b[39m=\u001b[39m []\n\u001b[0;32m     <a href='vscode-notebook-cell:/c%3A/Users/QbaSo/Desktop/sem1/WSI/WSI_lab/7/script.ipynb#ch0000002?line=11'>12</a>\u001b[0m \u001b[39mfor\u001b[39;00m case \u001b[39min\u001b[39;00m parent_case:\n\u001b[1;32m---> <a href='vscode-notebook-cell:/c%3A/Users/QbaSo/Desktop/sem1/WSI/WSI_lab/7/script.ipynb#ch0000002?line=12'>13</a>\u001b[0m     curr_case_prob \u001b[39m=\u001b[39m \u001b[39mself\u001b[39;49m\u001b[39m.\u001b[39;49mprobabilities[case]\n\u001b[0;32m     <a href='vscode-notebook-cell:/c%3A/Users/QbaSo/Desktop/sem1/WSI/WSI_lab/7/script.ipynb#ch0000002?line=13'>14</a>\u001b[0m     \u001b[39mif\u001b[39;00m random\u001b[39m.\u001b[39mrandom() \u001b[39m<\u001b[39m curr_case_prob:\n\u001b[0;32m     <a href='vscode-notebook-cell:/c%3A/Users/QbaSo/Desktop/sem1/WSI/WSI_lab/7/script.ipynb#ch0000002?line=14'>15</a>\u001b[0m         cases\u001b[39m.\u001b[39mappend(\u001b[39m\"\u001b[39m\u001b[39mT\u001b[39m\u001b[39m\"\u001b[39m)\n",
      "\u001b[1;31mKeyError\u001b[0m: 'Back'"
     ]
    }
   ],
   "source": [
    "for i in range(3,-1,-1):\n",
    "   nodes[i].sample(nodes[i].parents)"
   ]
  },
  {
   "cell_type": "code",
   "execution_count": 153,
   "metadata": {},
   "outputs": [
    {
     "data": {
      "text/plain": [
       "{'name': 'Chair', 'parents': [], 'probabilities': {'': 0.8}}"
      ]
     },
     "execution_count": 153,
     "metadata": {},
     "output_type": "execute_result"
    }
   ],
   "source": [
    "dict(data[0])"
   ]
  },
  {
   "cell_type": "code",
   "execution_count": 150,
   "metadata": {},
   "outputs": [
    {
     "ename": "ValueError",
     "evalue": "dictionary update sequence element #0 has length 3; 2 is required",
     "output_type": "error",
     "traceback": [
      "\u001b[1;31m---------------------------------------------------------------------------\u001b[0m",
      "\u001b[1;31mValueError\u001b[0m                                Traceback (most recent call last)",
      "\u001b[1;32mc:\\Users\\QbaSo\\Desktop\\sem1\\WSI\\WSI_lab\\7\\script.ipynb Cell 10'\u001b[0m in \u001b[0;36m<cell line: 3>\u001b[1;34m()\u001b[0m\n\u001b[0;32m      <a href='vscode-notebook-cell:/c%3A/Users/QbaSo/Desktop/sem1/WSI/WSI_lab/7/script.ipynb#ch0000010?line=0'>1</a>\u001b[0m f \u001b[39m=\u001b[39m \u001b[39mopen\u001b[39m(\u001b[39m'\u001b[39m\u001b[39mnet_data.json\u001b[39m\u001b[39m'\u001b[39m)\n\u001b[0;32m      <a href='vscode-notebook-cell:/c%3A/Users/QbaSo/Desktop/sem1/WSI/WSI_lab/7/script.ipynb#ch0000010?line=1'>2</a>\u001b[0m data \u001b[39m=\u001b[39m json\u001b[39m.\u001b[39mload(f)\n\u001b[1;32m----> <a href='vscode-notebook-cell:/c%3A/Users/QbaSo/Desktop/sem1/WSI/WSI_lab/7/script.ipynb#ch0000010?line=2'>3</a>\u001b[0m nodes \u001b[39m=\u001b[39m \u001b[39mdict\u001b[39;49m(data)\n\u001b[0;32m      <a href='vscode-notebook-cell:/c%3A/Users/QbaSo/Desktop/sem1/WSI/WSI_lab/7/script.ipynb#ch0000010?line=4'>5</a>\u001b[0m f\u001b[39m.\u001b[39mclose()\n",
      "\u001b[1;31mValueError\u001b[0m: dictionary update sequence element #0 has length 3; 2 is required"
     ]
    }
   ],
   "source": [
    "f = open('net_data.json')\n",
    "data = json.load(f)\n",
    "nodes = dict(data)\n",
    "\n",
    "f.close()"
   ]
  },
  {
   "cell_type": "code",
   "execution_count": null,
   "metadata": {},
   "outputs": [],
   "source": [
    "result = []\n",
    "for parents in nodes[i].parents:\n",
    "    result.append(getupper(sample(nodes[parents])))"
   ]
  }
 ],
 "metadata": {
  "kernelspec": {
   "display_name": "bootcamp_env",
   "language": "python",
   "name": "bootcamp_env"
  },
  "language_info": {
   "codemirror_mode": {
    "name": "ipython",
    "version": 3
   },
   "file_extension": ".py",
   "mimetype": "text/x-python",
   "name": "python",
   "nbconvert_exporter": "python",
   "pygments_lexer": "ipython3",
   "version": "3.9.10"
  },
  "orig_nbformat": 4
 },
 "nbformat": 4,
 "nbformat_minor": 2
}
