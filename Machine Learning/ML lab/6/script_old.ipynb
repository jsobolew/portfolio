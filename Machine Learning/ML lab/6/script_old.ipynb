{
 "cells": [
  {
   "cell_type": "code",
   "execution_count": 1,
   "metadata": {},
   "outputs": [],
   "source": [
    "import numpy as np\n",
    "import gym\n",
    "import random"
   ]
  },
  {
   "cell_type": "code",
   "execution_count": 2,
   "metadata": {},
   "outputs": [],
   "source": [
    "def reward_func0(env, field):\n",
    "    if env.desc[field] == b'G':\n",
    "        return 1\n",
    "    else:\n",
    "        return 0\n",
    "\n",
    "def reward_func1(env, field):\n",
    "    if env.desc[field] == b'G':\n",
    "        return 1\n",
    "    elif env.desc[field] == b'H':\n",
    "        return -1\n",
    "    else:\n",
    "        return 0\n",
    "\n",
    "def reward_func1(env, field):\n",
    "    if env.desc[field] == b'G':\n",
    "        return 5\n",
    "    elif env.desc[field] == b'H':\n",
    "        return -1\n",
    "    else:\n",
    "        return 0"
   ]
  },
  {
   "cell_type": "code",
   "execution_count": 91,
   "metadata": {},
   "outputs": [
    {
     "data": {
      "text/plain": [
       "array([b'S', b'F', b'F', b'F', b'F', b'F', b'F', b'F'], dtype='|S1')"
      ]
     },
     "execution_count": 91,
     "metadata": {},
     "output_type": "execute_result"
    }
   ],
   "source": [
    "env.desc[0]"
   ]
  },
  {
   "cell_type": "code",
   "execution_count": 14,
   "metadata": {},
   "outputs": [
    {
     "name": "stdout",
     "output_type": "stream",
     "text": [
      "You've reached the goal 0.001% of the time\n",
      "It usually took 17.69126 steps\n"
     ]
    }
   ],
   "source": [
    "env = gym.make(\"FrozenLake8x8-v1\")\n",
    "func = reward_func0\n",
    "total_episodes = 100000\n",
    "lr = 0.1\n",
    "gamma = 0.99\n",
    "n_observations = env.observation_space.n\n",
    "n_actions = env.action_space.n\n",
    "\n",
    "qtable = np.zeros((n_observations, n_actions))\n",
    "\n",
    "# Exploration parameters\n",
    "epsilon = 1.0                 # Exploration rate\n",
    "max_epsilon = 1.0             # Exploration probability at start\n",
    "min_epsilon = 0.01            # Minimum exploration probability \n",
    "decay_rate = 0.005            # Exponential decay rate for exploration prob\n",
    "\n",
    "\n",
    "\n",
    "\n",
    "steps_per_episode = []\n",
    "rewards = []\n",
    "\n",
    "\n",
    "for i in range(total_episodes):\n",
    "    current_state = env.reset()\n",
    "\n",
    "    done = False\n",
    "    total_episode_reward = 0\n",
    "    steps = 0\n",
    "    for step in range(MAX_ACTIONS):\n",
    "\n",
    "        if np.random.uniform(0,1) < epsilon:\n",
    "            action = env.action_space.sample()\n",
    "        else:\n",
    "            action = np.argmax(qtable[current_state,:])\n",
    "\n",
    "        next_state, reward, done, _ = env.step(action)\n",
    "        # field = divmod(next_state, 8)\n",
    "        # reward = func(env, field)\n",
    "\n",
    "        qtable[current_state, action] = qtable[current_state, action] + lr * (reward + gamma * np.max(qtable[next_state, :]) - qtable[current_state, action])\n",
    "        total_episode_reward = total_episode_reward + reward\n",
    "\n",
    "        steps += 1\n",
    "\n",
    "        if done:\n",
    "            break\n",
    "        current_state = next_state\n",
    "\n",
    "    steps_per_episode.append(steps)\n",
    "    rewards.append(total_episode_reward)\n",
    "    epsilon = min_epsilon + (max_epsilon - min_epsilon)*np.exp(-decay_rate*step) \n",
    "\n",
    "print(f\"You've reached the goal {sum(rewards)/total_episodes*100}% of the time\")\n",
    "print(f\"It usually took {np.mean(steps_per_episode)} steps\")\n"
   ]
  },
  {
   "cell_type": "code",
   "execution_count": 9,
   "metadata": {},
   "outputs": [],
   "source": [
    "MAX_ACTIONS = 20\n",
    "\n",
    "def train(env, func, total_episodes = 10000, lr = 0.1, gamma = 0.99):\n",
    "\n",
    "    n_observations = env.observation_space.n\n",
    "    n_actions = env.action_space.n\n",
    "\n",
    "    qtable = np.zeros((n_observations, n_actions))\n",
    "\n",
    "    # Exploration parameters\n",
    "    epsilon = 1.0                 # Exploration rate\n",
    "    max_epsilon = 1.0             # Exploration probability at start\n",
    "    min_epsilon = 0.01            # Minimum exploration probability \n",
    "    decay_rate = 0.005            # Exponential decay rate for exploration prob\n",
    "\n",
    "\n",
    "\n",
    "\n",
    "    steps_per_episode = []\n",
    "    rewards = []\n",
    "\n",
    "\n",
    "    for i in range(total_episodes):\n",
    "        current_state = env.reset()\n",
    "\n",
    "        done = False\n",
    "        total_episode_reward = 0\n",
    "        steps = 0\n",
    "        for step in range(MAX_ACTIONS):\n",
    "\n",
    "            if np.random.uniform(0,1) < epsilon:\n",
    "                action = env.action_space.sample()\n",
    "            else:\n",
    "                action = np.argmax(qtable[current_state,:])\n",
    "\n",
    "            next_state, reward_default, done, _ = env.step(action)\n",
    "            field = divmod(next_state, 8)\n",
    "            reward = func(env, field)\n",
    "\n",
    "            qtable[current_state, action] = qtable[current_state, action] + lr * (reward + gamma * np.max(qtable[next_state, :]) - qtable[current_state, action])\n",
    "            total_episode_reward = total_episode_reward + reward_default\n",
    "\n",
    "            steps += 1\n",
    "\n",
    "            if done:\n",
    "                break\n",
    "            current_state = next_state\n",
    "\n",
    "        steps_per_episode.append(steps)\n",
    "        rewards.append(total_episode_reward)\n",
    "        epsilon = min_epsilon + (max_epsilon - min_epsilon)*np.exp(-decay_rate*step) \n",
    "        \n",
    "    return qtable, sum(rewards)/total_episodes*100\n",
    "\n",
    "def test(env, qtable, attempts = 1000):\n",
    "    success = 0\n",
    "    done = False\n",
    "    current_state = env.reset()\n",
    "\n",
    "    for _ in range(attempts):\n",
    "        for _ in range(MAX_ACTIONS):\n",
    "            action = np.argmax(qtable[current_state,:])\n",
    "            next_state, reward, done, _ = env.step(action)\n",
    "\n",
    "            if done:\n",
    "                success += reward\n",
    "                break\n",
    "            current_state = next_state\n",
    "\n",
    "    return success/attempts*100\n",
    "\n"
   ]
  },
  {
   "cell_type": "code",
   "execution_count": 10,
   "metadata": {},
   "outputs": [
    {
     "name": "stdout",
     "output_type": "stream",
     "text": [
      "train succes rate: 0.002%\n",
      "train succes rate: 0.1%\n"
     ]
    }
   ],
   "source": [
    "env = gym.make(\"FrozenLake8x8-v1\")\n",
    "qt, succes_rate_train = train(env, reward_func0, total_episodes = 100000)\n",
    "print(f'train succes rate: {succes_rate_train}%')\n",
    "succes_rate_test = test(env, qt)\n",
    "print(f'train succes rate: {succes_rate_test}%')"
   ]
  },
  {
   "cell_type": "code",
   "execution_count": 70,
   "metadata": {},
   "outputs": [
    {
     "name": "stdout",
     "output_type": "stream",
     "text": [
      "Agent succeded\n"
     ]
    }
   ],
   "source": [
    "max_iter = 1000\n",
    "\n",
    "env = gym.make(\"FrozenLake8x8-v1\")\n",
    "done = False\n",
    "current_state = env.reset()\n",
    "\n",
    "for _ in range(max_iter):\n",
    "    action = np.argmax(qtable[current_state,:])\n",
    "    next_state, reward, done, _ = env.step(action)\n",
    "\n",
    "    if done:\n",
    "        break\n",
    "    current_state = next_state\n",
    "\n",
    "if reward:\n",
    "    print(\"Agent succeded\")\n",
    "else:\n",
    "    print(\"Agent failed\")\n",
    "\n"
   ]
  }
 ],
 "metadata": {
  "kernelspec": {
   "display_name": "bootcamp_env",
   "language": "python",
   "name": "bootcamp_env"
  },
  "language_info": {
   "codemirror_mode": {
    "name": "ipython",
    "version": 3
   },
   "file_extension": ".py",
   "mimetype": "text/x-python",
   "name": "python",
   "nbconvert_exporter": "python",
   "pygments_lexer": "ipython3",
   "version": "3.9.10"
  },
  "orig_nbformat": 4
 },
 "nbformat": 4,
 "nbformat_minor": 2
}
