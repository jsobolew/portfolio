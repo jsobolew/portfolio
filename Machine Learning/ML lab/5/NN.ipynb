{
 "cells": [
  {
   "cell_type": "code",
   "execution_count": 2,
   "metadata": {},
   "outputs": [],
   "source": [
    "import numpy as np\n",
    "import matplotlib.pyplot as plt"
   ]
  },
  {
   "cell_type": "code",
   "execution_count": 190,
   "metadata": {},
   "outputs": [],
   "source": [
    "# class NeuralNetwork:\n",
    "#     def __init__(self, layers, lr =  0.003):\n",
    "#         self.y_hat = 0\n",
    "\n",
    "#         self.layers = layers\n",
    "        \n",
    "#         self.lr = lr\n",
    "\n",
    "#     def fit(self, X, y, iters):\n",
    "#         loss =[]\n",
    "\n",
    "#         for i in range(iters):\n",
    "#             loss.append(SE.loss(model.forward(X),y))\n",
    "#             model.backward(X, y)\n",
    "#         return loss\n",
    "\n",
    "#     def predict(self, X):\n",
    "#         return self.forward(X)\n",
    "\n",
    "#     def forward(self, X_batch):\n",
    "#         layer_input = X_batch\n",
    "#         for i in range(0, len(self.layers)):\n",
    "#             layer_input = self.layers[i].forward(layer_input)\n",
    "#         return layer_input\n",
    "\n",
    "\n",
    "\n",
    "#     def backward(self, X_batch, y_batch):\n",
    "#         desired_neuron_value = y_batch - [neuron.curr_val for neuron in self.layers[len(self.layers)-1].neurons]\n",
    "#         for i in range(len(self.layers)-1, 1, -1):\n",
    "#             # print(\"layer: \",i,\"to: \", i-1)\n",
    "#             desired_neuron_value = self.layers[i].backward([neuron.curr_val for neuron in self.layers[i-1].neurons], desired_neuron_value, self.lr)\n",
    "#             # print(\"curr_val\",curr_y)\n",
    "#         desired_neuron_value = self.layers[0].backward(X_batch, desired_neuron_value, self.lr)\n",
    "\n",
    "# # class InputLayer:\n",
    "# #     def __init__(self, size):\n",
    "# #         self.size = size # ofc 1D\n",
    "# #         self.curr_val = np.zeros(size)\n",
    "\n",
    "\n",
    "\n",
    "# class DenseLayer:\n",
    "#     def __init__(self, no_neurons, activation_function, no_inputs, loss):\n",
    "#         self.neurons = []\n",
    "#         for i in range(no_neurons):\n",
    "#             self.neurons.append(Neuron(activation_function, no_inputs, loss))\n",
    "\n",
    "#     def forward(self, inputs):\n",
    "#         output = []\n",
    "#         for i in range(len(self.neurons)):\n",
    "#             output.append(self.neurons[i].forward(inputs))\n",
    "#         return output\n",
    "    \n",
    "#     def backward(self, inputs, desired_neuron_values_input, lr):\n",
    "#         # a = []\n",
    "#         desired_neuron_values_out = np.zeros((len(self.neurons), len(self.neurons[0].weights)-1))\n",
    "#         for i in range(len(self.neurons)):\n",
    "#             desired_neuron_values_out = np.zeros((len(self.neurons), len(self.neurons[i].weights)-1))\n",
    "#             print(len(self.neurons), i, desired_neuron_values_out.shape)\n",
    "#             desired_neuron_values_out[i] = self.neurons[i].backward(inputs, desired_neuron_values_input[i], lr)\n",
    "#             # a.append(self.neurons[i].backward(inputs, desired_neuron_value, lr))\n",
    "#         return desired_neuron_values_out\n",
    "\n",
    "\n",
    "# class Neuron:\n",
    "#     def __init__(self, activation_function, no_inputs, loss):\n",
    "#         self.curr_val = 0\n",
    "#         self.activation = activation_function\n",
    "#         self.weights = np.random.rand(no_inputs + 1) # last weight for bias\n",
    "#         self.loss = loss\n",
    "\n",
    "#     def forward(self, inputs):\n",
    "#         self.curr_val = self.activation.f(np.dot(self.weights, np.concatenate((inputs, np.ones(1)), axis=0))) # one at the end for bias\n",
    "#         return self.curr_val\n",
    "\n",
    "#     def backward(self, inputs, desired_neuron_value, lr):\n",
    "#         y_hat = self.curr_val\n",
    "#         # dC = self.loss.d_loss(y_hat, desired_neuron_value)\n",
    "#         dC = np.sum(desired_neuron_value)\n",
    "#         df = self.activation.df(y_hat)\n",
    "#         dz = np.concatenate((inputs, np.ones(1)), axis=0)\n",
    "#         # print(\"weights: \", self.weights)\n",
    "#         # print(np.concatenate((lr*dC*np.asanyarray(df)*np.asanyarray(dz), np.ones(1)), axis=0))\n",
    "#         self.weights -= lr*dC*np.asanyarray(df)*np.asanyarray(dz)\n",
    "#         return self.weights[:-1] * np.sum(desired_neuron_value)\n",
    "#         #return self.forward(inputs) # to wsm nie jestem pewien czy nie y_hat, wsm to po co to komu\n",
    "\n",
    "\n",
    "\n",
    "# class SE:\n",
    "#     #f. straty\n",
    "#     def loss(y_out, y):\n",
    "#         return np.sum((y_out - y) ** 2 )\n",
    "\n",
    "#     #pochodna f. straty\n",
    "#     def d_loss(y_out, y):\n",
    "#         return np.sum(2*( y_out - y ) )\n",
    "\n",
    "\n",
    "# class Sigmoid:\n",
    "#     # sigmoid\n",
    "#     def f(x):\n",
    "#         return 1/(1+np.exp(-x))\n",
    "\n",
    "#     # d sigmoid\n",
    "#     def df(x):\n",
    "#         s = 1/(1+np.exp(-x))\n",
    "#         return s * (1-s)\n",
    "\n",
    "\n",
    "\n",
    "# p = [3,7]\n",
    "\n",
    "# L_BOUND = -5\n",
    "# U_BOUND = 5\n",
    "\n",
    "# def q(x):\n",
    "#     return np.sin(x*np.sqrt(p[0]+1))+np.cos(x*np.sqrt(p[1]+1))\n",
    "\n",
    "# x = np.linspace(L_BOUND, U_BOUND, 100)\n",
    "# y = q(x)"
   ]
  },
  {
   "cell_type": "code",
   "execution_count": 7,
   "metadata": {},
   "outputs": [],
   "source": [
    "class NeuralNetwork:\n",
    "    def __init__(self, layers, lr =  0.003):\n",
    "        self.y_hat = 0\n",
    "\n",
    "        self.layers = layers\n",
    "        \n",
    "        self.lr = lr\n",
    "\n",
    "    def fit(self, X, y, iters):\n",
    "        loss =[]\n",
    "\n",
    "        for i in range(iters):\n",
    "            loss.append(SE.loss(model.forward(X),y))\n",
    "            model.backward(X, y)\n",
    "        return loss\n",
    "\n",
    "    def predict(self, X):\n",
    "        return self.forward(X)\n",
    "\n",
    "    def forward(self, X_batch):\n",
    "        layer_input = X_batch\n",
    "        for i in range(0, len(self.layers)):\n",
    "            layer_input = self.layers[i].forward(layer_input)\n",
    "        return layer_input\n",
    "\n",
    "\n",
    "\n",
    "    def backward(self, X_batch, y_batch):\n",
    "        desired_neuron_value = y_batch - [neuron.curr_val for neuron in self.layers[len(self.layers)-1].neurons]\n",
    "        iter = 0\n",
    "        for i in range(len(self.layers)-1, 0, -1):\n",
    "            # print(\"layer: \",i,\"to: \", i-1)\n",
    "            # if iter % 2 == 1:\n",
    "            #     desired_neuron_value = desired_neuron_value.T\n",
    "            desired_neuron_value = self.layers[i].backward([neuron.curr_val for neuron in self.layers[i-1].neurons], desired_neuron_value.T, self.lr)\n",
    "            # print(\"curr_val\",curr_y)\n",
    "        desired_neuron_value = self.layers[0].backward(X_batch, desired_neuron_value.T, self.lr)\n",
    "\n",
    "# class InputLayer:\n",
    "#     def __init__(self, size):\n",
    "#         self.size = size # ofc 1D\n",
    "#         self.curr_val = np.zeros(size)\n",
    "\n",
    "\n",
    "\n",
    "class DenseLayer:\n",
    "    def __init__(self, no_neurons, activation_function, no_inputs, loss):\n",
    "        self.neurons = []\n",
    "        for i in range(no_neurons):\n",
    "            self.neurons.append(Neuron(activation_function, no_inputs, loss))\n",
    "\n",
    "    def forward(self, inputs):\n",
    "        output = []\n",
    "        for i in range(len(self.neurons)):\n",
    "            output.append(self.neurons[i].forward(inputs))\n",
    "        return output\n",
    "    \n",
    "    def backward(self, inputs, desired_neuron_values_input, lr):\n",
    "        # a = []\n",
    "        desired_neuron_values_out = np.zeros((len(self.neurons), len(self.neurons[0].weights)-1))\n",
    "        for i in range(len(self.neurons)):\n",
    "            desired_neuron_values_out = np.zeros((len(self.neurons), len(self.neurons[i].weights)-1))\n",
    "            # print(len(self.neurons), i, desired_neuron_values_input.shape)\n",
    "            desired_neuron_values_out[i] = self.neurons[i].backward(inputs, desired_neuron_values_input[i], lr)\n",
    "            # a.append(self.neurons[i].backward(inputs, desired_neuron_value, lr))\n",
    "        return desired_neuron_values_out\n",
    "\n",
    "\n",
    "class Neuron:\n",
    "    def __init__(self, activation_function, no_inputs, loss):\n",
    "        self.curr_val = 0\n",
    "        self.activation = activation_function\n",
    "        self.weights = np.random.rand(no_inputs + 1) # last weight for bias\n",
    "        self.loss = loss\n",
    "\n",
    "    def forward(self, inputs):\n",
    "        self.curr_val = self.activation.f(np.dot(self.weights, np.concatenate((inputs, np.ones(1)), axis=0))) # one at the end for bias\n",
    "        return self.curr_val\n",
    "\n",
    "    def backward(self, inputs, desired_neuron_value, lr):\n",
    "        y_hat = self.curr_val\n",
    "        # dC = self.loss.d_loss(y_hat, desired_neuron_value)\n",
    "        dC = np.sum(desired_neuron_value)\n",
    "        df = self.activation.df(y_hat)\n",
    "        dz = np.concatenate((inputs, np.ones(1)), axis=0)\n",
    "        # print(\"weights: \", self.weights)\n",
    "        # print(np.concatenate((lr*dC*np.asanyarray(df)*np.asanyarray(dz), np.ones(1)), axis=0))\n",
    "        self.weights += lr*dC*np.asanyarray(df)*np.asanyarray(dz)\n",
    "        return self.weights[:-1] * np.sum(desired_neuron_value)\n",
    "        #return self.forward(inputs) # to wsm nie jestem pewien czy nie y_hat, wsm to po co to komu\n",
    "\n",
    "\n",
    "\n",
    "class SE:\n",
    "    #f. straty\n",
    "    def loss(y_out, y):\n",
    "        return np.sum((y_out - y) ** 2 )\n",
    "\n",
    "    #pochodna f. straty\n",
    "    def d_loss(y_out, y):\n",
    "        return np.sum(2*( y_out - y ) )\n",
    "\n",
    "\n",
    "class Sigmoid:\n",
    "    # sigmoid\n",
    "    def f(x):\n",
    "        return 1/(1+np.exp(-x))\n",
    "\n",
    "    # d sigmoid\n",
    "    def df(x):\n",
    "        s = 1/(1+np.exp(-x))\n",
    "        return s * (1-s)\n",
    "\n",
    "class Linear:\n",
    "    # aktywacja\n",
    "    def f(x):\n",
    "        return x\n",
    "\n",
    "    #pochodna aktywacji\n",
    "    def df(x):\n",
    "        return 1\n",
    "\n",
    "\n",
    "p = [3,7]\n",
    "\n",
    "L_BOUND = -5\n",
    "U_BOUND = 5\n",
    "\n",
    "def q(x):\n",
    "    return np.sin(x*np.sqrt(p[0]+1))+np.cos(x*np.sqrt(p[1]+1))\n",
    "\n",
    "x = np.linspace(L_BOUND, U_BOUND, 100)\n",
    "y = q(x)"
   ]
  },
  {
   "cell_type": "code",
   "execution_count": 203,
   "metadata": {},
   "outputs": [
    {
     "data": {
      "text/plain": [
       "0"
      ]
     },
     "execution_count": 203,
     "metadata": {},
     "output_type": "execute_result"
    }
   ],
   "source": [
    "2 %2"
   ]
  },
  {
   "cell_type": "code",
   "execution_count": 12,
   "metadata": {},
   "outputs": [
    {
     "data": {
      "text/plain": [
       "[<matplotlib.lines.Line2D at 0x2aba8a63370>]"
      ]
     },
     "execution_count": 12,
     "metadata": {},
     "output_type": "execute_result"
    },
    {
     "data": {
      "image/png": "[encoded data removed]",
      "text/plain": [
       "<Figure size 432x288 with 1 Axes>"
      ]
     },
     "metadata": {
      "needs_background": "light"
     },
     "output_type": "display_data"
    }
   ],
   "source": [
    "X_train, y_train = x[0:1], y[0:1]\n",
    "\n",
    "\n",
    "no_inputs, no_outputs = 1, 1\n",
    "l1_no_neurons, l2_no_neurons = 102, 50\n",
    "activation_function, loss = Sigmoid, SE\n",
    "\n",
    "\n",
    "l1 = DenseLayer(l1_no_neurons, activation_function, no_inputs, loss)\n",
    "l2 = DenseLayer(l2_no_neurons, activation_function, l1_no_neurons, loss)\n",
    "l3 = DenseLayer(no_outputs, Linear, l2_no_neurons, loss)\n",
    "\n",
    "model = NeuralNetwork([l1, l2, l3])\n",
    "\n",
    "history = model.fit(X_train, y_train, 100)\n",
    "\n",
    "plt.plot(history)"
   ]
  },
  {
   "cell_type": "code",
   "execution_count": 17,
   "metadata": {},
   "outputs": [
    {
     "data": {
      "text/plain": [
       "[<matplotlib.lines.Line2D at 0x2aba8c75520>]"
      ]
     },
     "execution_count": 17,
     "metadata": {},
     "output_type": "execute_result"
    },
    {
     "data": {
      "image/png": "[encoded data removed]",
      "text/plain": [
       "<Figure size 432x288 with 1 Axes>"
      ]
     },
     "metadata": {
      "needs_background": "light"
     },
     "output_type": "display_data"
    },
    {
     "data": {
      "image/png": "[encoded data removed]",
      "text/plain": [
       "<Figure size 432x288 with 1 Axes>"
      ]
     },
     "metadata": {
      "needs_background": "light"
     },
     "output_type": "display_data"
    }
   ],
   "source": [
    "preds = []\n",
    "for i in range(len(x)):\n",
    "    preds.append(model.predict([x[i]]))\n",
    "\n",
    "plt.figure(2)\n",
    "plt.plot(preds)\n",
    "plt.plot(y)\n",
    "\n",
    "plt.figure(3)\n",
    "plt.plot(preds)"
   ]
  },
  {
   "cell_type": "code",
   "execution_count": 14,
   "metadata": {},
   "outputs": [
    {
     "data": {
      "text/plain": [
       "[<matplotlib.lines.Line2D at 0x2aba8afdac0>]"
      ]
     },
     "execution_count": 14,
     "metadata": {},
     "output_type": "execute_result"
    },
    {
     "data": {
      "image/png": "[encoded data removed]",
      "text/plain": [
       "<Figure size 432x288 with 1 Axes>"
      ]
     },
     "metadata": {
      "needs_background": "light"
     },
     "output_type": "display_data"
    }
   ],
   "source": [
    "plt.plot(model.predict(X_train))\n",
    "plt.plot(y_train)"
   ]
  },
  {
   "cell_type": "code",
   "execution_count": 10,
   "metadata": {},
   "outputs": [
    {
     "ename": "ValueError",
     "evalue": "shapes (5,) and (2,) not aligned: 5 (dim 0) != 2 (dim 0)",
     "output_type": "error",
     "traceback": [
      "\u001b[1;31m---------------------------------------------------------------------------\u001b[0m",
      "\u001b[1;31mValueError\u001b[0m                                Traceback (most recent call last)",
      "\u001b[1;32mc:\\Users\\QbaSo\\Desktop\\sem1\\WSI\\5\\NN.ipynb Cell 8'\u001b[0m in \u001b[0;36m<cell line: 1>\u001b[1;34m()\u001b[0m\n\u001b[1;32m----> <a href='vscode-notebook-cell:/c%3A/Users/QbaSo/Desktop/sem1/WSI/5/NN.ipynb#ch0000007?line=0'>1</a>\u001b[0m history \u001b[39m=\u001b[39m model\u001b[39m.\u001b[39;49mfit(x[\u001b[39m0\u001b[39;49m:\u001b[39m1\u001b[39;49m],y[\u001b[39m0\u001b[39;49m:\u001b[39m1\u001b[39;49m],\u001b[39m15000\u001b[39;49m)\n\u001b[0;32m      <a href='vscode-notebook-cell:/c%3A/Users/QbaSo/Desktop/sem1/WSI/5/NN.ipynb#ch0000007?line=2'>3</a>\u001b[0m plt\u001b[39m.\u001b[39mplot(history)\n",
      "\u001b[1;32mc:\\Users\\QbaSo\\Desktop\\sem1\\WSI\\5\\NN.ipynb Cell 3'\u001b[0m in \u001b[0;36mNeuralNetwork.fit\u001b[1;34m(self, X, y, iters)\u001b[0m\n\u001b[0;32m     <a href='vscode-notebook-cell:/c%3A/Users/QbaSo/Desktop/sem1/WSI/5/NN.ipynb#ch0000002?line=9'>10</a>\u001b[0m loss \u001b[39m=\u001b[39m[]\n\u001b[0;32m     <a href='vscode-notebook-cell:/c%3A/Users/QbaSo/Desktop/sem1/WSI/5/NN.ipynb#ch0000002?line=11'>12</a>\u001b[0m \u001b[39mfor\u001b[39;00m i \u001b[39min\u001b[39;00m \u001b[39mrange\u001b[39m(iters):\n\u001b[1;32m---> <a href='vscode-notebook-cell:/c%3A/Users/QbaSo/Desktop/sem1/WSI/5/NN.ipynb#ch0000002?line=12'>13</a>\u001b[0m     loss\u001b[39m.\u001b[39mappend(SE\u001b[39m.\u001b[39mloss(model\u001b[39m.\u001b[39;49mforward(X),y))\n\u001b[0;32m     <a href='vscode-notebook-cell:/c%3A/Users/QbaSo/Desktop/sem1/WSI/5/NN.ipynb#ch0000002?line=13'>14</a>\u001b[0m     model\u001b[39m.\u001b[39mbackward(X, y)\n\u001b[0;32m     <a href='vscode-notebook-cell:/c%3A/Users/QbaSo/Desktop/sem1/WSI/5/NN.ipynb#ch0000002?line=14'>15</a>\u001b[0m \u001b[39mreturn\u001b[39;00m loss\n",
      "\u001b[1;32mc:\\Users\\QbaSo\\Desktop\\sem1\\WSI\\5\\NN.ipynb Cell 3'\u001b[0m in \u001b[0;36mNeuralNetwork.forward\u001b[1;34m(self, X_batch)\u001b[0m\n\u001b[0;32m     <a href='vscode-notebook-cell:/c%3A/Users/QbaSo/Desktop/sem1/WSI/5/NN.ipynb#ch0000002?line=20'>21</a>\u001b[0m layer_input \u001b[39m=\u001b[39m X_batch\n\u001b[0;32m     <a href='vscode-notebook-cell:/c%3A/Users/QbaSo/Desktop/sem1/WSI/5/NN.ipynb#ch0000002?line=21'>22</a>\u001b[0m \u001b[39mfor\u001b[39;00m i \u001b[39min\u001b[39;00m \u001b[39mrange\u001b[39m(\u001b[39m0\u001b[39m, \u001b[39mlen\u001b[39m(\u001b[39mself\u001b[39m\u001b[39m.\u001b[39mlayers)):\n\u001b[1;32m---> <a href='vscode-notebook-cell:/c%3A/Users/QbaSo/Desktop/sem1/WSI/5/NN.ipynb#ch0000002?line=22'>23</a>\u001b[0m     layer_input \u001b[39m=\u001b[39m \u001b[39mself\u001b[39;49m\u001b[39m.\u001b[39;49mlayers[i]\u001b[39m.\u001b[39;49mforward(layer_input)\n\u001b[0;32m     <a href='vscode-notebook-cell:/c%3A/Users/QbaSo/Desktop/sem1/WSI/5/NN.ipynb#ch0000002?line=23'>24</a>\u001b[0m \u001b[39mreturn\u001b[39;00m layer_input\n",
      "\u001b[1;32mc:\\Users\\QbaSo\\Desktop\\sem1\\WSI\\5\\NN.ipynb Cell 3'\u001b[0m in \u001b[0;36mDenseLayer.forward\u001b[1;34m(self, inputs)\u001b[0m\n\u001b[0;32m     <a href='vscode-notebook-cell:/c%3A/Users/QbaSo/Desktop/sem1/WSI/5/NN.ipynb#ch0000002?line=52'>53</a>\u001b[0m output \u001b[39m=\u001b[39m []\n\u001b[0;32m     <a href='vscode-notebook-cell:/c%3A/Users/QbaSo/Desktop/sem1/WSI/5/NN.ipynb#ch0000002?line=53'>54</a>\u001b[0m \u001b[39mfor\u001b[39;00m i \u001b[39min\u001b[39;00m \u001b[39mrange\u001b[39m(\u001b[39mlen\u001b[39m(\u001b[39mself\u001b[39m\u001b[39m.\u001b[39mneurons)):\n\u001b[1;32m---> <a href='vscode-notebook-cell:/c%3A/Users/QbaSo/Desktop/sem1/WSI/5/NN.ipynb#ch0000002?line=54'>55</a>\u001b[0m     output\u001b[39m.\u001b[39mappend(\u001b[39mself\u001b[39;49m\u001b[39m.\u001b[39;49mneurons[i]\u001b[39m.\u001b[39;49mforward(inputs))\n\u001b[0;32m     <a href='vscode-notebook-cell:/c%3A/Users/QbaSo/Desktop/sem1/WSI/5/NN.ipynb#ch0000002?line=55'>56</a>\u001b[0m \u001b[39mreturn\u001b[39;00m output\n",
      "\u001b[1;32mc:\\Users\\QbaSo\\Desktop\\sem1\\WSI\\5\\NN.ipynb Cell 3'\u001b[0m in \u001b[0;36mNeuron.forward\u001b[1;34m(self, inputs)\u001b[0m\n\u001b[0;32m     <a href='vscode-notebook-cell:/c%3A/Users/QbaSo/Desktop/sem1/WSI/5/NN.ipynb#ch0000002?line=75'>76</a>\u001b[0m \u001b[39mdef\u001b[39;00m \u001b[39mforward\u001b[39m(\u001b[39mself\u001b[39m, inputs):\n\u001b[1;32m---> <a href='vscode-notebook-cell:/c%3A/Users/QbaSo/Desktop/sem1/WSI/5/NN.ipynb#ch0000002?line=76'>77</a>\u001b[0m     \u001b[39mself\u001b[39m\u001b[39m.\u001b[39mcurr_val \u001b[39m=\u001b[39m \u001b[39mself\u001b[39m\u001b[39m.\u001b[39mactivation\u001b[39m.\u001b[39mf(np\u001b[39m.\u001b[39;49mdot(\u001b[39mself\u001b[39;49m\u001b[39m.\u001b[39;49mweights, np\u001b[39m.\u001b[39;49mconcatenate((inputs, np\u001b[39m.\u001b[39;49mones(\u001b[39m1\u001b[39;49m)), axis\u001b[39m=\u001b[39;49m\u001b[39m0\u001b[39;49m))) \u001b[39m# one at the end for bias\u001b[39;00m\n\u001b[0;32m     <a href='vscode-notebook-cell:/c%3A/Users/QbaSo/Desktop/sem1/WSI/5/NN.ipynb#ch0000002?line=77'>78</a>\u001b[0m     \u001b[39mreturn\u001b[39;00m \u001b[39mself\u001b[39m\u001b[39m.\u001b[39mcurr_val\n",
      "File \u001b[1;32m<__array_function__ internals>:180\u001b[0m, in \u001b[0;36mdot\u001b[1;34m(*args, **kwargs)\u001b[0m\n",
      "\u001b[1;31mValueError\u001b[0m: shapes (5,) and (2,) not aligned: 5 (dim 0) != 2 (dim 0)"
     ]
    }
   ],
   "source": [
    "history = model.fit(x[0:1],y[0:1],15000)\n",
    "\n",
    "plt.plot(history)"
   ]
  },
  {
   "cell_type": "code",
   "execution_count": 66,
   "metadata": {},
   "outputs": [],
   "source": [
    "model.backward(x[0:1], y[0:1])"
   ]
  },
  {
   "cell_type": "code",
   "execution_count": 89,
   "metadata": {},
   "outputs": [],
   "source": [
    "loss =[]\n",
    "\n",
    "for i in range(1000):\n",
    "    loss.append(MSE.loss(model.forward(x[0:1]),y[0:1]))\n",
    "    model.backward(x[0:1], y[0:1])"
   ]
  },
  {
   "cell_type": "code",
   "execution_count": 90,
   "metadata": {},
   "outputs": [
    {
     "data": {
      "text/plain": [
       "[<matplotlib.lines.Line2D at 0x274869935b0>]"
      ]
     },
     "execution_count": 90,
     "metadata": {},
     "output_type": "execute_result"
    },
    {
     "data": {
      "image/png": "[encoded data removed]",
      "text/plain": [
       "<Figure size 432x288 with 1 Axes>"
      ]
     },
     "metadata": {
      "needs_background": "light"
     },
     "output_type": "display_data"
    }
   ],
   "source": [
    "import matplotlib.pyplot as plt\n",
    "\n",
    "plt.plot(loss)"
   ]
  },
  {
   "cell_type": "code",
   "execution_count": 75,
   "metadata": {},
   "outputs": [
    {
     "data": {
      "text/plain": [
       "array([0.53905245])"
      ]
     },
     "execution_count": 75,
     "metadata": {},
     "output_type": "execute_result"
    }
   ],
   "source": [
    "y[0:1]"
   ]
  },
  {
   "cell_type": "code",
   "execution_count": 81,
   "metadata": {},
   "outputs": [
    {
     "data": {
      "text/plain": [
       "[0.5393677269500305]"
      ]
     },
     "execution_count": 81,
     "metadata": {},
     "output_type": "execute_result"
    }
   ],
   "source": [
    "model.forward(x[0:1])"
   ]
  },
  {
   "cell_type": "code",
   "execution_count": 190,
   "metadata": {},
   "outputs": [
    {
     "data": {
      "text/plain": [
       "[0.8250496980609537]"
      ]
     },
     "execution_count": 190,
     "metadata": {},
     "output_type": "execute_result"
    }
   ],
   "source": [
    "model.forward(q(x))"
   ]
  },
  {
   "cell_type": "code",
   "execution_count": 77,
   "metadata": {},
   "outputs": [
    {
     "data": {
      "text/plain": [
       "[0.654010375127003, 0.665447462122757, 0.7138125266041396]"
      ]
     },
     "execution_count": 77,
     "metadata": {},
     "output_type": "execute_result"
    }
   ],
   "source": [
    "l = Layer(3, Sigmoid, 2, MSE)\n",
    "l.forward(np.random.rand(2))"
   ]
  },
  {
   "cell_type": "code",
   "execution_count": 80,
   "metadata": {},
   "outputs": [
    {
     "data": {
      "text/plain": [
       "[0.654010375127003, 0.665447462122757, 0.7138125266041396]"
      ]
     },
     "execution_count": 80,
     "metadata": {},
     "output_type": "execute_result"
    }
   ],
   "source": [
    "[neuron.curr_val for neuron in l.neurons]"
   ]
  },
  {
   "cell_type": "code",
   "execution_count": 56,
   "metadata": {},
   "outputs": [
    {
     "data": {
      "text/plain": [
       "array([0.21731352, 0.24227232])"
      ]
     },
     "execution_count": 56,
     "metadata": {},
     "output_type": "execute_result"
    }
   ],
   "source": [
    "# MSE.d_loss(np.random.rand(2),np.random.rand(2))\n",
    "Sigmoid.df(np.random.rand(2))"
   ]
  },
  {
   "cell_type": "code",
   "execution_count": 48,
   "metadata": {},
   "outputs": [
    {
     "name": "stdout",
     "output_type": "stream",
     "text": [
      "[0.70647677 0.5269317 ]\n",
      "[0.50707922 0.2787334  0.37083607]\n",
      "0.7059820983030131\n"
     ]
    }
   ],
   "source": [
    "n = Neuron(Sigmoid,2)\n",
    "a = np.random.rand(2)\n",
    "print(a)\n",
    "print(n.forward(a))\n"
   ]
  },
  {
   "cell_type": "code",
   "execution_count": 36,
   "metadata": {},
   "outputs": [
    {
     "data": {
      "text/plain": [
       "(2,)"
      ]
     },
     "execution_count": 36,
     "metadata": {},
     "output_type": "execute_result"
    }
   ],
   "source": [
    "np.random.rand(2).shape"
   ]
  },
  {
   "cell_type": "code",
   "execution_count": 73,
   "metadata": {},
   "outputs": [
    {
     "data": {
      "text/plain": [
       "[0.8207585634744234, 0.7775225847886832, 0.7595122192071764]"
      ]
     },
     "execution_count": 73,
     "metadata": {},
     "output_type": "execute_result"
    }
   ],
   "source": [
    "no_neurons, activation_function, no_inputs, loss = 3, Sigmoid, 2, MSE\n",
    "\n",
    "\n",
    "l1 = DenseLayer(no_neurons, activation_function, no_inputs, loss)\n",
    "\n",
    "l1.forward(np.random.rand(2))"
   ]
  },
  {
   "cell_type": "code",
   "execution_count": 74,
   "metadata": {},
   "outputs": [
    {
     "data": {
      "text/plain": [
       "[0.6345884898264547, 0.5623302876299984, 0.5394256802301131]"
      ]
     },
     "execution_count": 74,
     "metadata": {},
     "output_type": "execute_result"
    }
   ],
   "source": [
    "l1.backward(np.random.rand(2), np.random.rand(2), 0.001)"
   ]
  },
  {
   "cell_type": "code",
   "execution_count": 70,
   "metadata": {},
   "outputs": [
    {
     "data": {
      "text/plain": [
       "0.5709820654384472"
      ]
     },
     "execution_count": 70,
     "metadata": {},
     "output_type": "execute_result"
    }
   ],
   "source": [
    "n = Neuron(Sigmoid, 2, MSE)\n",
    "n.backward(np.random.rand(2), np.random.rand(2), 0.001)"
   ]
  },
  {
   "cell_type": "code",
   "execution_count": 113,
   "metadata": {},
   "outputs": [
    {
     "data": {
      "text/plain": [
       "array([2.4, 4.8])"
      ]
     },
     "execution_count": 113,
     "metadata": {},
     "output_type": "execute_result"
    }
   ],
   "source": [
    "a = []\n",
    "a.append(1)\n",
    "a.append(2)\n",
    "\n",
    "np.asanyarray(a)*2.4"
   ]
  }
 ],
 "metadata": {
  "kernelspec": {
   "display_name": "bootcamp_env",
   "language": "python",
   "name": "bootcamp_env"
  },
  "language_info": {
   "codemirror_mode": {
    "name": "ipython",
    "version": 3
   },
   "file_extension": ".py",
   "mimetype": "text/x-python",
   "name": "python",
   "nbconvert_exporter": "python",
   "pygments_lexer": "ipython3",
   "version": "3.9.10"
  },
  "orig_nbformat": 4
 },
 "nbformat": 4,
 "nbformat_minor": 2
}
