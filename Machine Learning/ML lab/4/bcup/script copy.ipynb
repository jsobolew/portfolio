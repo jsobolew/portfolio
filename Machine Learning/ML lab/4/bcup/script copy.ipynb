{
 "cells": [
  {
   "cell_type": "code",
   "execution_count": 1,
   "metadata": {},
   "outputs": [],
   "source": [
    "import pandas as pd\n",
    "import numpy as np\n",
    "from sklearn import preprocessing"
   ]
  },
  {
   "cell_type": "code",
   "execution_count": 2,
   "metadata": {},
   "outputs": [],
   "source": [
    "breast = pd.read_csv(\"breast-cancer.csv\")"
   ]
  },
  {
   "cell_type": "code",
   "execution_count": 3,
   "metadata": {},
   "outputs": [
    {
     "data": {
      "text/plain": [
       "Class                 age    menopause  tumor-size  inv-nodes  node-caps  deg-malig  breast  breast-quad  irradiat\n",
       "no-recurrence-events  60-69  ge40       15-19       0-2        no         2          right   left_up      no          2\n",
       "                      40-49  premeno    10-14       0-2        no         1          right   left_up      no          2\n",
       "                      60-69  ge40       20-24       0-2        no         1          left    left_low     no          2\n",
       "                      50-59  premeno    25-29       0-2        no         2          left    left_low     no          2\n",
       "                      40-49  premeno    20-24       0-2        no         2          right   left_up      no          2\n",
       "                                                                                                                     ..\n",
       "                      50-59  ge40       20-24       3-5        yes        2          right   left_up      no          1\n",
       "                                        25-29       0-2        no         1          left    left_low     no          1\n",
       "                                                                                             right_low    no          1\n",
       "                                                                          2          left    left_low     no          1\n",
       "recurrence-events     70-79  ge40       15-19       9-11       ?          1          left    left_low     yes         1\n",
       "Length: 272, dtype: int64"
      ]
     },
     "execution_count": 3,
     "metadata": {},
     "output_type": "execute_result"
    }
   ],
   "source": [
    "breast.value_counts()"
   ]
  },
  {
   "cell_type": "code",
   "execution_count": null,
   "metadata": {},
   "outputs": [],
   "source": [
    "breast_cat = breast"
   ]
  },
  {
   "cell_type": "code",
   "execution_count": 8,
   "metadata": {},
   "outputs": [
    {
     "data": {
      "text/plain": [
       "array([0, 0, 0, 0, 0, 0, 0, 0, 0, 0, 0, 0, 0, 0, 0, 0, 0, 0, 0, 0, 0, 0,\n",
       "       0, 0, 0, 0, 0, 0, 0, 0, 0, 0, 0, 0, 0, 0, 0, 0, 0, 0, 0, 0, 0, 0,\n",
       "       0, 0, 0, 0, 0, 0, 0, 0, 0, 0, 0, 0, 0, 0, 0, 0, 0, 0, 0, 0, 0, 0,\n",
       "       0, 0, 0, 0, 0, 0, 0, 0, 0, 0, 0, 0, 0, 0, 0, 0, 0, 0, 0, 0, 0, 0,\n",
       "       0, 0, 0, 0, 0, 0, 0, 0, 0, 0, 0, 0, 0, 0, 0, 0, 0, 0, 0, 0, 0, 0,\n",
       "       0, 0, 0, 0, 0, 0, 0, 0, 0, 0, 0, 0, 0, 0, 0, 0, 0, 0, 0, 0, 0, 0,\n",
       "       0, 0, 0, 0, 0, 0, 0, 0, 0, 0, 0, 0, 0, 0, 0, 0, 0, 0, 0, 0, 0, 0,\n",
       "       0, 0, 0, 0, 0, 0, 0, 0, 0, 0, 0, 0, 0, 0, 0, 0, 0, 0, 0, 0, 0, 0,\n",
       "       0, 0, 0, 0, 0, 0, 0, 0, 0, 0, 0, 0, 0, 0, 0, 0, 0, 0, 0, 0, 0, 0,\n",
       "       0, 0, 0, 1, 1, 1, 1, 1, 1, 1, 1, 1, 1, 1, 1, 1, 1, 1, 1, 1, 1, 1,\n",
       "       1, 1, 1, 1, 1, 1, 1, 1, 1, 1, 1, 1, 1, 1, 1, 1, 1, 1, 1, 1, 1, 1,\n",
       "       1, 1, 1, 1, 1, 1, 1, 1, 1, 1, 1, 1, 1, 1, 1, 1, 1, 1, 1, 1, 1, 1,\n",
       "       1, 1, 1, 1, 1, 1, 1, 1, 1, 1, 1, 1, 1, 1, 1, 1, 1, 1, 1, 1, 1, 1])"
      ]
     },
     "execution_count": 8,
     "metadata": {},
     "output_type": "execute_result"
    }
   ],
   "source": [
    "le = preprocessing.LabelEncoder()\n",
    "le.fit(breast['Class'])\n",
    "le.transform(breast['Class'])"
   ]
  },
  {
   "cell_type": "code",
   "execution_count": 18,
   "metadata": {},
   "outputs": [],
   "source": [
    "U = breast['Class'].values.tolist()\n",
    "\n",
    "freq_list = []\n",
    "\n",
    "for c in set(U):\n",
    "    freq_list.append(U.count(c)/len(U))"
   ]
  },
  {
   "cell_type": "code",
   "execution_count": 28,
   "metadata": {},
   "outputs": [
    {
     "data": {
      "text/plain": [
       "[0.2972027972027972, 0.7027972027972028]"
      ]
     },
     "execution_count": 28,
     "metadata": {},
     "output_type": "execute_result"
    }
   ],
   "source": [
    "freq_list"
   ]
  },
  {
   "cell_type": "code",
   "execution_count": 36,
   "metadata": {},
   "outputs": [],
   "source": [
    "label = 'Class'\n",
    "\n",
    "def I(U):\n",
    "    U = U.values.tolist()\n",
    "    freq_list = []\n",
    "    I = 0\n",
    "\n",
    "    for c in set(U):\n",
    "        freq_list.append(U.count(c)/len(U))\n",
    "\n",
    "    for i in range(len(freq_list)):\n",
    "        I -= freq_list[i]*np.log(freq_list[i])\n",
    "    return I\n",
    "\n",
    "def Inf(d,U):\n",
    "    inf = 0\n",
    "    for i in range(len(U[d].unique())):\n",
    "        inf += U[d].value_counts().values[i]/len(U) * I(U[label][U[d] == U[d].unique()[i]])\n",
    "    return inf\n",
    "\n",
    "def InfGain(d, U):\n",
    "    return I(U[label]) - Inf(d,U)"
   ]
  },
  {
   "cell_type": "code",
   "execution_count": 37,
   "metadata": {},
   "outputs": [
    {
     "name": "stdout",
     "output_type": "stream",
     "text": [
      "0.6084755754298137\n",
      "0.6070881616542189\n",
      "0.0013874137755948146\n"
     ]
    }
   ],
   "source": [
    "print(I(breast['Class']))\n",
    "print(Inf('menopause', breast))\n",
    "print(InfGain('menopause', breast))"
   ]
  },
  {
   "cell_type": "code",
   "execution_count": 67,
   "metadata": {},
   "outputs": [
    {
     "data": {
      "text/plain": [
       "Index(['Class', 'age', 'menopause', 'tumor-size', 'inv-nodes', 'node-caps',\n",
       "       'deg-malig', 'breast', 'breast-quad', 'irradiat'],\n",
       "      dtype='object')"
      ]
     },
     "execution_count": 67,
     "metadata": {},
     "output_type": "execute_result"
    }
   ],
   "source": [
    "breast.columns"
   ]
  },
  {
   "cell_type": "code",
   "execution_count": 73,
   "metadata": {},
   "outputs": [
    {
     "data": {
      "text/plain": [
       "array([3, 2, 1], dtype=int64)"
      ]
     },
     "execution_count": 73,
     "metadata": {},
     "output_type": "execute_result"
    }
   ],
   "source": [
    "breast[breast.columns[6]].unique()"
   ]
  },
  {
   "cell_type": "code",
   "execution_count": 84,
   "metadata": {},
   "outputs": [
    {
     "data": {
      "text/plain": [
       "130"
      ]
     },
     "execution_count": 84,
     "metadata": {},
     "output_type": "execute_result"
    }
   ],
   "source": [
    "breast[breast.columns[6]].value_counts().values[0]"
   ]
  },
  {
   "cell_type": "code",
   "execution_count": 86,
   "metadata": {},
   "outputs": [
    {
     "data": {
      "text/plain": [
       "-0.14913332788660627"
      ]
     },
     "execution_count": 86,
     "metadata": {},
     "output_type": "execute_result"
    }
   ],
   "source": [
    "InfGain(breast.columns[6], breast)"
   ]
  },
  {
   "cell_type": "code",
   "execution_count": 34,
   "metadata": {},
   "outputs": [
    {
     "name": "stdout",
     "output_type": "stream",
     "text": [
      "Class 0.6084755754298137\n",
      "age -0.37283291398549945\n",
      "menopause -0.34066999877528903\n",
      "tumor-size -0.5577137847987022\n",
      "inv-nodes -2.2912443454471934\n",
      "node-caps -0.856964397973043\n",
      "deg-malig -0.14913332788660627\n",
      "breast -0.034898986921418906\n",
      "breast-quad -0.5171081649712768\n",
      "irradiat -0.34359804648183034\n"
     ]
    }
   ],
   "source": [
    "for col in breast.columns:\n",
    "    print(col, InfGain(col, breast))"
   ]
  },
  {
   "cell_type": "code",
   "execution_count": 13,
   "metadata": {},
   "outputs": [],
   "source": [
    "from typing import Any, Iterable, Optional, Union\n",
    "from math import log\n",
    "\n",
    "def _entropy(y: pd.Series):\n",
    "    class_counts = y.value_counts()\n",
    "    total = class_counts.sum()\n",
    "\n",
    "    def partial(count: int):\n",
    "        frequency = count / total\n",
    "        return -frequency * log(frequency)\n",
    "    return class_counts.apply(partial).sum()\n",
    "\n",
    "\n",
    "def _division_entropy(X: pd.DataFrame, y: pd.Series, division_label: Any):\n",
    "    div_attr_counts = X[division_label].value_counts()\n",
    "    total = div_attr_counts.sum()\n",
    "\n",
    "    def partial(attr_value: int):\n",
    "        count = div_attr_counts[attr_value]\n",
    "        mask = X[division_label] == attr_value\n",
    "        return count / total * _entropy(y[mask])\n",
    "    return sum(div_attr_counts.index.map(partial))\n",
    "\n",
    "\n",
    "def _division_info_gain(X: pd.DataFrame, y: pd.Series, division_label: Any):\n",
    "    return _entropy(y) - \\\n",
    "        _division_entropy(X, y, division_label)\n"
   ]
  },
  {
   "cell_type": "code",
   "execution_count": 39,
   "metadata": {},
   "outputs": [
    {
     "name": "stdout",
     "output_type": "stream",
     "text": [
      "0.6084755754298137\n",
      "0.0\n",
      "0.6084755754298137\n",
      "0.6084755754298137\n",
      "0.6011240865600114\n",
      "0.007351488869802303\n",
      "0.6084755754298137\n",
      "0.6070881616542189\n",
      "0.0013874137755948146\n",
      "0.6084755754298137\n",
      "0.5688475711018378\n",
      "0.03962800432797586\n",
      "0.6084755754298137\n",
      "0.5606518246478241\n",
      "0.04782375078198953\n",
      "0.6084755754298137\n",
      "0.5714458215749589\n",
      "0.03702975385485474\n",
      "0.6084755754298137\n",
      "0.5550964132825851\n",
      "0.0533791621472286\n",
      "0.6084755754298137\n",
      "0.6067503401148494\n",
      "0.0017252353149642685\n",
      "0.6084755754298137\n",
      "0.5980321888324173\n",
      "0.010443386597396409\n",
      "0.6084755754298137\n",
      "0.5905791918023827\n",
      "0.017896383627430956\n"
     ]
    }
   ],
   "source": [
    "for col in breast.columns:\n",
    "    print(_entropy(breast['Class']))\n",
    "    print(_division_entropy(breast, breast['Class'], col))\n",
    "    print(_division_info_gain(breast, breast['Class'], col))"
   ]
  },
  {
   "cell_type": "code",
   "execution_count": 40,
   "metadata": {},
   "outputs": [
    {
     "name": "stdout",
     "output_type": "stream",
     "text": [
      "0.6084755754298137\n",
      "0.0\n",
      "0.6084755754298137\n",
      "0.6084755754298137\n",
      "0.6232991172547504\n",
      "-0.014823541824936726\n",
      "0.6084755754298137\n",
      "0.6070881616542189\n",
      "0.0013874137755948146\n",
      "0.6084755754298137\n",
      "0.5602642232380364\n",
      "0.0482113521917773\n",
      "0.6084755754298137\n",
      "0.5592594917141993\n",
      "0.04921608371561437\n",
      "0.6084755754298137\n",
      "0.5714458215749589\n",
      "0.03702975385485474\n",
      "0.6084755754298137\n",
      "0.5819094959800177\n",
      "0.026566079449795943\n",
      "0.6084755754298137\n",
      "0.6067503401148494\n",
      "0.0017252353149642685\n",
      "0.6084755754298137\n",
      "0.6179878333327674\n",
      "-0.009512257902953736\n",
      "0.6084755754298137\n",
      "0.5905791918023827\n",
      "0.017896383627430956\n"
     ]
    }
   ],
   "source": [
    "for col in breast.columns:\n",
    "    print(I(breast['Class']))\n",
    "    print(Inf(col, breast))\n",
    "    print(InfGain(col, breast))"
   ]
  }
 ],
 "metadata": {
  "interpreter": {
   "hash": "3903b83a0c3c2255c6d16ba83610ac4979726aa5cbb1de50037c0631d8082b99"
  },
  "kernelspec": {
   "display_name": "bootcamp_env",
   "language": "python",
   "name": "bootcamp_env"
  },
  "language_info": {
   "codemirror_mode": {
    "name": "ipython",
    "version": 3
   },
   "file_extension": ".py",
   "mimetype": "text/x-python",
   "name": "python",
   "nbconvert_exporter": "python",
   "pygments_lexer": "ipython3",
   "version": "3.9.10"
  },
  "orig_nbformat": 4
 },
 "nbformat": 4,
 "nbformat_minor": 2
}
