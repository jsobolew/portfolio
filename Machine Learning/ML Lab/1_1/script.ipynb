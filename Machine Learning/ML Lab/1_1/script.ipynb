{
 "cells": [
  {
   "cell_type": "code",
   "execution_count": 19,
   "metadata": {},
   "outputs": [],
   "source": [
    "import numpy as np\n",
    "import time\n",
    "import matplotlib.pyplot as plt"
   ]
  },
  {
   "cell_type": "code",
   "execution_count": 2,
   "metadata": {},
   "outputs": [],
   "source": [
    "# ZADANIE 1\n",
    "def optimal_solution(w, W, p):\n",
    "    tab = list(np.zeros((pow(2,len(w)),len(w)), dtype=int))\n",
    "\n",
    "    for i in range(pow(2,len(w))):\n",
    "        num = bin(i)\n",
    "        num = (list(num[2:]))\n",
    "        for j in range(len(num)):\n",
    "            tab[i][j] = int(num[len(num)-1-j])\n",
    "\n",
    "    weight = []\n",
    "    value = []\n",
    "\n",
    "    for i in range(len(tab)):\n",
    "        weight.append(sum(tab[i]*np.transpose(w)))\n",
    "        value.append(sum(tab[i]*np.transpose(p)))\n",
    "\n",
    "    for i in range(len(weight)):\n",
    "        if weight[i] > W:\n",
    "            weight[i] = 0\n",
    "            value[i] = 0\n",
    "\n",
    "    max_value = max(value)\n",
    "    max_weigth = weight[value.index(max(value))]\n",
    "\n",
    "    print('max value: ',max_value, 'max weight: ', max_weigth)"
   ]
  },
  {
   "cell_type": "code",
   "execution_count": 24,
   "metadata": {},
   "outputs": [
    {
     "name": "stdout",
     "output_type": "stream",
     "text": [
      "max value:  17 max weight:  8\n"
     ]
    }
   ],
   "source": [
    "w = np.array([8, 3, 5, 2])          #waga przedmiotów\n",
    "W = 9                               #maksymalna waga plecaka\n",
    "p = np.array([16, 8, 9, 6])         #wartość przedmiotów\n",
    "\n",
    "optimal_solution(w, W, p)"
   ]
  },
  {
   "cell_type": "code",
   "execution_count": 25,
   "metadata": {},
   "outputs": [
    {
     "name": "stdout",
     "output_type": "stream",
     "text": [
      "max value:  34 max weight:  10\n"
     ]
    }
   ],
   "source": [
    "w = np.array([8, 3, 5, 2, 5])          #waga przedmiotów\n",
    "W = 11                                  #maksymalna waga plecaka\n",
    "p = np.array([16, 8, 9, 6, 20])         #wartość przedmiotów\n",
    "\n",
    "optimal_solution(w, W, p)"
   ]
  },
  {
   "cell_type": "code",
   "execution_count": 5,
   "metadata": {},
   "outputs": [],
   "source": [
    "# ZADANIE 2\n",
    "def heuristic(w, W, p):\n",
    "    p_per_w = list(p/w)\n",
    "    indexes = np.flip(np.argsort(p_per_w))\n",
    "    p_per_w = np.array(p_per_w)\n",
    "    p_per_w = p_per_w[indexes]\n",
    "    w = w[indexes]\n",
    "    p = p[indexes]\n",
    "\n",
    "    curr_weight = 0\n",
    "    curr_value = 0\n",
    "\n",
    "    for i in range(len(p_per_w)):\n",
    "        curr_weight += w[i]\n",
    "        if (curr_weight < W):\n",
    "            curr_value += p[i]\n",
    "        else:\n",
    "            print('max value: ',curr_value, 'max weight: ', prev_weight)\n",
    "            break\n",
    "        prev_weight = curr_weight"
   ]
  },
  {
   "cell_type": "code",
   "execution_count": 6,
   "metadata": {},
   "outputs": [
    {
     "name": "stdout",
     "output_type": "stream",
     "text": [
      "max value:  14 max weight:  5\n",
      "3.780000000030981e-05\n"
     ]
    }
   ],
   "source": [
    "w = np.array([8, 3, 5, 2])          #waga przedmiotów\n",
    "W = 9                               #maksymalna waga plecaka\n",
    "p = np.array([16, 8, 9, 6])         #wartość przedmiotów\n",
    "heuristic(w, W, p)"
   ]
  },
  {
   "cell_type": "code",
   "execution_count": 7,
   "metadata": {},
   "outputs": [
    {
     "name": "stdout",
     "output_type": "stream",
     "text": [
      "max value:  34 max weight:  10\n",
      "0.0006700999999997848\n"
     ]
    }
   ],
   "source": [
    "w = np.array([8, 3, 5, 2, 5])          #waga przedmiotów\n",
    "W = 11                                  #maksymalna waga plecaka\n",
    "p = np.array([16, 8, 9, 6, 20])         #wartość przedmiotów\n",
    "\n",
    "heuristic(w, W, p)"
   ]
  },
  {
   "cell_type": "code",
   "execution_count": 8,
   "metadata": {},
   "outputs": [
    {
     "name": "stdout",
     "output_type": "stream",
     "text": [
      "-0.0015679000000003995\n"
     ]
    }
   ],
   "source": [
    "# Jak dużą instancję problemu (liczba przedmiotów) da się rozwiązać w około minutę metodą zachłanną?\n",
    "number_of_elem = 1000000\n",
    "w = np.random.randint(low = 1, high = 100, size = number_of_elem)          #waga przedmiotów\n",
    "W = 100000000                                  #maksymalna waga plecaka\n",
    "p = np.random.randint(low = 1, high = 100, size = number_of_elem)          #wartość przedmiotów\n",
    "\n",
    "heuristic(w, W, p)"
   ]
  },
  {
   "cell_type": "code",
   "execution_count": 49,
   "metadata": {},
   "outputs": [
    {
     "name": "stdout",
     "output_type": "stream",
     "text": [
      "max value:  256222596 max weight:  99999960\n"
     ]
    }
   ],
   "source": [
    "measured_time_heuristic = []\n",
    "measured_time_optimal = []\n",
    "x_axis = []\n",
    "for i in range(8):\n",
    "    start = time.time()\n",
    "    number_of_elem = 10**i\n",
    "    x_axis.append(number_of_elem)\n",
    "    w = np.random.randint(low = 1, high = 100, size = number_of_elem)          #waga przedmiotów\n",
    "    W = 100000000                                  #maksymalna waga plecaka\n",
    "    p = np.random.randint(low = 1, high = 100, size = number_of_elem)          #wartość przedmiotów\n",
    "    heuristic(w, W, p)\n",
    "    end = time.time()\n",
    "    measured_time_heuristic.append(end - start)"
   ]
  },
  {
   "cell_type": "code",
   "execution_count": 58,
   "metadata": {},
   "outputs": [
    {
     "data": {
      "text/plain": [
       "Text(0, 0.5, 'czas [s]')"
      ]
     },
     "execution_count": 58,
     "metadata": {},
     "output_type": "execute_result"
    },
    {
     "data": {
      "image/png": "[encoded data removed]",
      "text/plain": [
       "<Figure size 432x288 with 1 Axes>"
      ]
     },
     "metadata": {
      "needs_background": "light"
     },
     "output_type": "display_data"
    }
   ],
   "source": [
    "plt.plot(np.transpose(x_axis), measured_time_heuristic)\n",
    "plt.xlabel(\"ilość elementów\")\n",
    "plt.ylabel(\"czas [s]\")"
   ]
  },
  {
   "cell_type": "code",
   "execution_count": 64,
   "metadata": {},
   "outputs": [
    {
     "name": "stdout",
     "output_type": "stream",
     "text": [
      "max value:  93 max weight:  87\n",
      "max value:  138 max weight:  144\n",
      "max value:  200 max weight:  142\n",
      "max value:  283 max weight:  211\n",
      "max value:  259 max weight:  317\n",
      "max value:  232 max weight:  344\n",
      "max value:  416 max weight:  390\n",
      "max value:  391 max weight:  387\n",
      "max value:  545 max weight:  504\n",
      "max value:  467 max weight:  478\n",
      "max value:  453 max weight:  686\n",
      "max value:  716 max weight:  502\n",
      "max value:  587 max weight:  724\n",
      "max value:  847 max weight:  692\n",
      "max value:  948 max weight:  527\n",
      "max value:  948 max weight:  660\n",
      "max value:  896 max weight:  782\n",
      "max value:  821 max weight:  993\n",
      "max value:  697 max weight:  1040\n"
     ]
    }
   ],
   "source": [
    "measured_time_optimal = []\n",
    "x_axis = []\n",
    "for i in range(1,20):\n",
    "    start = time.time()\n",
    "    number_of_elem = i\n",
    "    x_axis.append(number_of_elem)\n",
    "    w = np.random.randint(low = 1, high = 100, size = number_of_elem)          #waga przedmiotów\n",
    "    W = 100000000                                                               #maksymalna waga plecaka\n",
    "    p = np.random.randint(low = 1, high = 100, size = number_of_elem)          #wartość przedmiotów\n",
    "    optimal_solution(w, W, p)\n",
    "    end = time.time()\n",
    "    measured_time_optimal.append(end - start)"
   ]
  },
  {
   "cell_type": "code",
   "execution_count": 66,
   "metadata": {},
   "outputs": [
    {
     "data": {
      "text/plain": [
       "Text(0, 0.5, 'czas [s]')"
      ]
     },
     "execution_count": 66,
     "metadata": {},
     "output_type": "execute_result"
    },
    {
     "data": {
      "image/png": "[encoded data removed]",
      "text/plain": [
       "<Figure size 432x288 with 1 Axes>"
      ]
     },
     "metadata": {
      "needs_background": "light"
     },
     "output_type": "display_data"
    }
   ],
   "source": [
    "plt.plot(np.transpose(x_axis), measured_time_optimal)\n",
    "plt.xlabel(\"ilość elementów\")\n",
    "plt.ylabel(\"czas [s]\")"
   ]
  }
 ],
 "metadata": {
  "interpreter": {
   "hash": "d73536a5ef80ed42fe9bb6a6e04b02303fa523f11d0b27dedeab82cd7d55df2e"
  },
  "kernelspec": {
   "display_name": "Python 3.9.7 64-bit ('bootcamp_env': venv)",
   "language": "python",
   "name": "python3"
  },
  "language_info": {
   "codemirror_mode": {
    "name": "ipython",
    "version": 3
   },
   "file_extension": ".py",
   "mimetype": "text/x-python",
   "name": "python",
   "nbconvert_exporter": "python",
   "pygments_lexer": "ipython3",
   "version": "3.9.10"
  },
  "orig_nbformat": 4
 },
 "nbformat": 4,
 "nbformat_minor": 2
}
