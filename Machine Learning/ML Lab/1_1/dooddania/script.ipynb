{
 "cells": [
  {
   "cell_type": "code",
   "execution_count": 1,
   "metadata": {},
   "outputs": [],
   "source": [
    "import numpy as np\n",
    "import time\n",
    "import matplotlib.pyplot as plt"
   ]
  },
  {
   "cell_type": "code",
   "execution_count": 2,
   "metadata": {},
   "outputs": [],
   "source": [
    "# ZADANIE 1\n",
    "def optimal_solution(w, W, p):\n",
    "    tab = list(np.zeros((pow(2,len(w)),len(w)), dtype=int))\n",
    "\n",
    "    for i in range(pow(2,len(w))):\n",
    "        num = bin(i)\n",
    "        num = (list(num[2:]))\n",
    "        for j in range(len(num)):\n",
    "            tab[i][j] = int(num[len(num)-1-j])\n",
    "\n",
    "    weight = []\n",
    "    value = []\n",
    "\n",
    "    for i in range(len(tab)):\n",
    "        weight.append(sum(tab[i]*np.transpose(w)))\n",
    "        value.append(sum(tab[i]*np.transpose(p)))\n",
    "\n",
    "    for i in range(len(weight)):\n",
    "        if weight[i] > W:\n",
    "            weight[i] = 0\n",
    "            value[i] = 0\n",
    "\n",
    "    max_value = max(value)\n",
    "    max_weigth = weight[value.index(max(value))]\n",
    "\n",
    "    print('max value: ',max_value, 'max weight: ', max_weigth)"
   ]
  },
  {
   "cell_type": "code",
   "execution_count": 3,
   "metadata": {},
   "outputs": [
    {
     "name": "stdout",
     "output_type": "stream",
     "text": [
      "max value:  17 max weight:  8\n"
     ]
    }
   ],
   "source": [
    "w = np.array([8, 3, 5, 2])          #waga przedmiotów\n",
    "W = 9                               #maksymalna waga plecaka\n",
    "p = np.array([16, 8, 9, 6])         #wartość przedmiotów\n",
    "\n",
    "optimal_solution(w, W, p)"
   ]
  },
  {
   "cell_type": "code",
   "execution_count": 4,
   "metadata": {},
   "outputs": [
    {
     "name": "stdout",
     "output_type": "stream",
     "text": [
      "max value:  34 max weight:  10\n"
     ]
    }
   ],
   "source": [
    "w = np.array([8, 3, 5, 2, 5])          #waga przedmiotów\n",
    "W = 11                                  #maksymalna waga plecaka\n",
    "p = np.array([16, 8, 9, 6, 20])         #wartość przedmiotów\n",
    "\n",
    "optimal_solution(w, W, p)"
   ]
  },
  {
   "cell_type": "code",
   "execution_count": 5,
   "metadata": {},
   "outputs": [],
   "source": [
    "# ZADANIE 2\n",
    "def heuristic(w, W, p):\n",
    "    p_per_w = list(p/w)\n",
    "    indexes = np.flip(np.argsort(p_per_w))\n",
    "    p_per_w = np.array(p_per_w)\n",
    "    p_per_w = p_per_w[indexes]\n",
    "    w = w[indexes]\n",
    "    p = p[indexes]\n",
    "\n",
    "    curr_weight = 0\n",
    "    curr_value = 0\n",
    "\n",
    "    for i in range(len(p_per_w)):\n",
    "        curr_weight += w[i]\n",
    "        if (curr_weight < W):\n",
    "            curr_value += p[i]\n",
    "        else:\n",
    "            print('max value: ',curr_value, 'max weight: ', prev_weight)\n",
    "            break\n",
    "        prev_weight = curr_weight"
   ]
  },
  {
   "cell_type": "code",
   "execution_count": 6,
   "metadata": {},
   "outputs": [
    {
     "name": "stdout",
     "output_type": "stream",
     "text": [
      "max value:  14 max weight:  5\n"
     ]
    }
   ],
   "source": [
    "w = np.array([8, 3, 5, 2])          #waga przedmiotów\n",
    "W = 9                               #maksymalna waga plecaka\n",
    "p = np.array([16, 8, 9, 6])         #wartość przedmiotów\n",
    "heuristic(w, W, p)"
   ]
  },
  {
   "cell_type": "code",
   "execution_count": 7,
   "metadata": {},
   "outputs": [
    {
     "name": "stdout",
     "output_type": "stream",
     "text": [
      "max value:  34 max weight:  10\n"
     ]
    }
   ],
   "source": [
    "w = np.array([8, 3, 5, 2, 5])          #waga przedmiotów\n",
    "W = 11                                  #maksymalna waga plecaka\n",
    "p = np.array([16, 8, 9, 6, 20])         #wartość przedmiotów\n",
    "\n",
    "heuristic(w, W, p)"
   ]
  },
  {
   "cell_type": "code",
   "execution_count": 8,
   "metadata": {},
   "outputs": [],
   "source": [
    "# Jak dużą instancję problemu (liczba przedmiotów) da się rozwiązać w około minutę metodą zachłanną?\n",
    "number_of_elem = 1000000\n",
    "w = np.random.randint(low = 1, high = 100, size = number_of_elem)          #waga przedmiotów\n",
    "W = 100000000                                  #maksymalna waga plecaka\n",
    "p = np.random.randint(low = 1, high = 100, size = number_of_elem)          #wartość przedmiotów\n",
    "\n",
    "heuristic(w, W, p)"
   ]
  },
  {
   "cell_type": "code",
   "execution_count": 9,
   "metadata": {},
   "outputs": [
    {
     "name": "stdout",
     "output_type": "stream",
     "text": [
      "max value:  256359151 max weight:  99999968\n"
     ]
    }
   ],
   "source": [
    "measured_time_heuristic = []\n",
    "measured_time_optimal = []\n",
    "x_axis = []\n",
    "for i in range(8):\n",
    "    start = time.time()\n",
    "    number_of_elem = 10**i\n",
    "    x_axis.append(number_of_elem)\n",
    "    w = np.random.randint(low = 1, high = 100, size = number_of_elem)          #waga przedmiotów\n",
    "    W = 100000000                                  #maksymalna waga plecaka\n",
    "    p = np.random.randint(low = 1, high = 100, size = number_of_elem)          #wartość przedmiotów\n",
    "    heuristic(w, W, p)\n",
    "    end = time.time()\n",
    "    measured_time_heuristic.append(end - start)"
   ]
  },
  {
   "cell_type": "code",
   "execution_count": 10,
   "metadata": {},
   "outputs": [
    {
     "data": {
      "text/plain": [
       "Text(0, 0.5, 'czas [s]')"
      ]
     },
     "execution_count": 10,
     "metadata": {},
     "output_type": "execute_result"
    },
    {
     "data": {
      "image/png": "[encoded data removed]",
      "text/plain": [
       "<Figure size 432x288 with 1 Axes>"
      ]
     },
     "metadata": {
      "needs_background": "light"
     },
     "output_type": "display_data"
    }
   ],
   "source": [
    "plt.plot(np.transpose(x_axis), measured_time_heuristic)\n",
    "plt.xlabel(\"ilość elementów\")\n",
    "plt.ylabel(\"czas [s]\")"
   ]
  },
  {
   "cell_type": "code",
   "execution_count": 11,
   "metadata": {},
   "outputs": [
    {
     "name": "stdout",
     "output_type": "stream",
     "text": [
      "max value:  87 max weight:  2\n",
      "max value:  111 max weight:  124\n",
      "max value:  157 max weight:  106\n",
      "max value:  79 max weight:  197\n",
      "max value:  249 max weight:  173\n",
      "max value:  297 max weight:  373\n",
      "max value:  302 max weight:  394\n",
      "max value:  438 max weight:  381\n",
      "max value:  407 max weight:  318\n",
      "max value:  412 max weight:  563\n",
      "max value:  434 max weight:  517\n",
      "max value:  715 max weight:  663\n",
      "max value:  644 max weight:  562\n",
      "max value:  416 max weight:  640\n",
      "max value:  730 max weight:  906\n",
      "max value:  749 max weight:  724\n",
      "max value:  789 max weight:  930\n",
      "max value:  889 max weight:  958\n",
      "max value:  1093 max weight:  1051\n"
     ]
    }
   ],
   "source": [
    "measured_time_optimal = []\n",
    "x_axis = []\n",
    "for i in range(1,20):\n",
    "    start = time.time()\n",
    "    number_of_elem = i\n",
    "    x_axis.append(number_of_elem)\n",
    "    w = np.random.randint(low = 1, high = 100, size = number_of_elem)          #waga przedmiotów\n",
    "    W = 100000000                                                               #maksymalna waga plecaka\n",
    "    p = np.random.randint(low = 1, high = 100, size = number_of_elem)          #wartość przedmiotów\n",
    "    optimal_solution(w, W, p)\n",
    "    end = time.time()\n",
    "    measured_time_optimal.append(end - start)"
   ]
  },
  {
   "cell_type": "code",
   "execution_count": 12,
   "metadata": {},
   "outputs": [
    {
     "data": {
      "text/plain": [
       "Text(0, 0.5, 'czas [s]')"
      ]
     },
     "execution_count": 12,
     "metadata": {},
     "output_type": "execute_result"
    },
    {
     "data": {
      "image/png": "[encoded data removed]",
      "text/plain": [
       "<Figure size 432x288 with 1 Axes>"
      ]
     },
     "metadata": {
      "needs_background": "light"
     },
     "output_type": "display_data"
    }
   ],
   "source": [
    "plt.plot(np.transpose(x_axis), measured_time_optimal)\n",
    "plt.xlabel(\"ilość elementów\")\n",
    "plt.ylabel(\"czas [s]\")"
   ]
  }
 ],
 "metadata": {
  "interpreter": {
   "hash": "d73536a5ef80ed42fe9bb6a6e04b02303fa523f11d0b27dedeab82cd7d55df2e"
  },
  "kernelspec": {
   "display_name": "Python 3.9.7 64-bit ('bootcamp_env': venv)",
   "language": "python",
   "name": "python3"
  },
  "language_info": {
   "codemirror_mode": {
    "name": "ipython",
    "version": 3
   },
   "file_extension": ".py",
   "mimetype": "text/x-python",
   "name": "python",
   "nbconvert_exporter": "python",
   "pygments_lexer": "ipython3",
   "version": "3.9.10"
  },
  "orig_nbformat": 4
 },
 "nbformat": 4,
 "nbformat_minor": 2
}
