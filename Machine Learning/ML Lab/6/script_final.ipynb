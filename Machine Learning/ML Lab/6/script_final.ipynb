{
 "cells": [
  {
   "cell_type": "code",
   "execution_count": 42,
   "metadata": {},
   "outputs": [],
   "source": [
    "import numpy as np\n",
    "import pandas as pd\n",
    "import gym\n",
    "import matplotlib.pyplot as plt"
   ]
  },
  {
   "cell_type": "markdown",
   "metadata": {},
   "source": [
    "# Własne funkcje kosztu\n",
    "\n",
    "G - goal\n",
    "H - hole"
   ]
  },
  {
   "cell_type": "code",
   "execution_count": 2,
   "metadata": {},
   "outputs": [],
   "source": [
    "def reward_func0(env, field):\n",
    "    if env.desc[field] == b'G':\n",
    "        return 1\n",
    "    else:\n",
    "        return 0\n",
    "\n",
    "def reward_func1(env, field):\n",
    "    if env.desc[field] == b'G':\n",
    "        return 1\n",
    "    elif env.desc[field] == b'H':\n",
    "        return -1\n",
    "    else:\n",
    "        return 0\n",
    "\n",
    "def reward_func2(env, field):\n",
    "    if env.desc[field] == b'G':\n",
    "        return 5\n",
    "    elif env.desc[field] == b'H':\n",
    "        return -1\n",
    "    else:\n",
    "        return 0"
   ]
  },
  {
   "cell_type": "code",
   "execution_count": 3,
   "metadata": {},
   "outputs": [],
   "source": [
    "MAX_ACTIONS = 200\n",
    "\n",
    "def train(env, func, total_episodes = 10000, lr = 0.1, gamma = 0.99):\n",
    "\n",
    "    n_observations = env.observation_space.n\n",
    "    n_actions = env.action_space.n\n",
    "\n",
    "    qtable = np.zeros((n_observations, n_actions))\n",
    "\n",
    "    # Exploration parameters\n",
    "    epsilon = 1.0                 # Exploration rate\n",
    "    max_epsilon = 1.0             # Exploration probability at start\n",
    "    min_epsilon = 0.01            # Minimum exploration probability \n",
    "    decay_rate = 0.001            # Exponential decay rate for exploration prob\n",
    "\n",
    "\n",
    "    for _ in range(total_episodes):\n",
    "        current_state = env.reset()\n",
    "\n",
    "        done = False\n",
    "        total_episode_reward = 0\n",
    "        for step in range(MAX_ACTIONS):\n",
    "\n",
    "            if np.random.uniform(0,1) < epsilon:\n",
    "                action = env.action_space.sample()\n",
    "            else:\n",
    "                action = np.argmax(qtable[current_state,:])\n",
    "\n",
    "            next_state, reward_default, done, _ = env.step(action)\n",
    "            field = divmod(next_state, 8)\n",
    "            reward = func(env, field)\n",
    "\n",
    "            qtable[current_state, action] = qtable[current_state, action] + lr * (reward + gamma * np.max(qtable[next_state, :]) - qtable[current_state, action])\n",
    "            total_episode_reward += reward_default\n",
    "\n",
    "            if done:\n",
    "                break\n",
    "            current_state = next_state\n",
    "\n",
    "        epsilon = min_epsilon + (max_epsilon - min_epsilon)*np.exp(-decay_rate*step) \n",
    "    return qtable\n",
    "\n",
    "def test(env, qt, iters):\n",
    "    a = []\n",
    "\n",
    "    for _ in range(iters):\n",
    "        done = False\n",
    "        current_state = env.reset()\n",
    "\n",
    "        for _ in range(MAX_ACTIONS):\n",
    "            action = np.argmax(qt[current_state,:])\n",
    "            next_state, reward, done, _ = env.step(action)\n",
    "\n",
    "            if done:\n",
    "                break\n",
    "            current_state = next_state\n",
    "        a.append(reward)\n",
    "    return sum(a)/iters*100\n",
    "\n"
   ]
  },
  {
   "cell_type": "markdown",
   "metadata": {},
   "source": [
    "# TESTY\n",
    "porównanie funckji kosztu"
   ]
  },
  {
   "cell_type": "code",
   "execution_count": 4,
   "metadata": {},
   "outputs": [],
   "source": [
    "functions = [reward_func0, reward_func1, reward_func2]\n",
    "\n",
    "env = gym.make(\"FrozenLake8x8-v1\")\n",
    "total_episodes = 10000\n",
    "\n",
    "\n",
    "test_data = pd.read_csv(\"test_data.csv\")\n",
    "\n",
    "for i in range(len(functions)):\n",
    "    for _ in range(10):\n",
    "        qt = train(env, functions[i], total_episodes)\n",
    "        succes_rate_test = test(env, qt, int(total_episodes/10))\n",
    "        test_data = pd.concat([test_data, pd.DataFrame(data={\"function\": [i], \"succes_rate\": [succes_rate_test]})])\n",
    "    test_data.to_csv(\"test_data.csv\")\n"
   ]
  },
  {
   "cell_type": "code",
   "execution_count": 40,
   "metadata": {},
   "outputs": [],
   "source": [
    "f0_avg = sum(test_data[test_data['function'] == 0]['succes_rate'])/len(test_data[test_data['function'] == 0])\n",
    "f1_avg = sum(test_data[test_data['function'] == 1]['succes_rate'])/len(test_data[test_data['function'] == 1])\n",
    "f2_avg = sum(test_data[test_data['function'] == 2]['succes_rate'])/len(test_data[test_data['function'] == 2])"
   ]
  },
  {
   "cell_type": "code",
   "execution_count": 47,
   "metadata": {},
   "outputs": [
    {
     "data": {
      "text/plain": [
       "<BarContainer object of 3 artists>"
      ]
     },
     "execution_count": 47,
     "metadata": {},
     "output_type": "execute_result"
    },
    {
     "data": {
      "image/png": "[encoded data removed]",
      "text/plain": [
       "<Figure size 432x288 with 1 Axes>"
      ]
     },
     "metadata": {
      "needs_background": "light"
     },
     "output_type": "display_data"
    }
   ],
   "source": [
    "plt.bar(test_data['function'].unique(), np.array([f0_avg, f1_avg, f2_avg]))"
   ]
  },
  {
   "cell_type": "markdown",
   "metadata": {},
   "source": [
    "porównanie całkowitej liczby epizodów"
   ]
  },
  {
   "cell_type": "code",
   "execution_count": null,
   "metadata": {},
   "outputs": [],
   "source": [
    "succes_rate_test_vs_total_episodes = np.zeros((5,3))\n",
    "\n",
    "for j in range(len(functions)):\n",
    "    for i in range(1, 6):\n",
    "        total_episodes = 10 ** i\n",
    "        qt = train(env, functions[j], total_episodes)\n",
    "        succes_rate_test_vs_total_episodes[i-1,j] = test(env, qt, int(total_episodes/10))"
   ]
  },
  {
   "cell_type": "code",
   "execution_count": 70,
   "metadata": {},
   "outputs": [
    {
     "data": {
      "text/plain": [
       "<matplotlib.legend.Legend at 0x1a4e1c85610>"
      ]
     },
     "execution_count": 70,
     "metadata": {},
     "output_type": "execute_result"
    },
    {
     "data": {
      "image/png": "[encoded data removed]",
      "text/plain": [
       "<Figure size 432x288 with 1 Axes>"
      ]
     },
     "metadata": {
      "needs_background": "light"
     },
     "output_type": "display_data"
    }
   ],
   "source": [
    "plt.plot(succes_rate_test_vs_total_episodes)\n",
    "plt.legend(['1','2','3'])"
   ]
  },
  {
   "cell_type": "markdown",
   "metadata": {},
   "source": [
    "# WNIOSKI"
   ]
  },
  {
   "cell_type": "markdown",
   "metadata": {},
   "source": [
    "* funkcja 1 jest najlepsza\n",
    "* karanie za nieunikanie punktów 'H' pooprawia rozwiązanie\n",
    "*  większa ilośc prób poprawia ilość zwycięstw"
   ]
  }
 ],
 "metadata": {
  "kernelspec": {
   "display_name": "bootcamp_env",
   "language": "python",
   "name": "bootcamp_env"
  },
  "language_info": {
   "codemirror_mode": {
    "name": "ipython",
    "version": 3
   },
   "file_extension": ".py",
   "mimetype": "text/x-python",
   "name": "python",
   "nbconvert_exporter": "python",
   "pygments_lexer": "ipython3",
   "version": "3.9.10"
  },
  "orig_nbformat": 4
 },
 "nbformat": 4,
 "nbformat_minor": 2
}
