{
 "cells": [
  {
   "cell_type": "code",
   "execution_count": 1,
   "metadata": {},
   "outputs": [],
   "source": [
    "import numpy as np\n",
    "import gym\n",
    "import random"
   ]
  },
  {
   "cell_type": "code",
   "execution_count": 241,
   "metadata": {},
   "outputs": [],
   "source": [
    "def reward_func0(env, field):\n",
    "    if env.desc[field] == b'G':\n",
    "        return 1\n",
    "    else:\n",
    "        return 0\n",
    "\n",
    "def reward_func1(env, field):\n",
    "    if env.desc[field] == b'G':\n",
    "        return 1\n",
    "    elif env.desc[field] == b'H':\n",
    "        return -1\n",
    "    else:\n",
    "        return 0\n",
    "\n",
    "def reward_func2(env, field):\n",
    "    if env.desc[field] == b'G':\n",
    "        return 5\n",
    "    elif env.desc[field] == b'H':\n",
    "        return -1\n",
    "    else:\n",
    "        return 0"
   ]
  },
  {
   "cell_type": "code",
   "execution_count": 91,
   "metadata": {},
   "outputs": [
    {
     "data": {
      "text/plain": [
       "array([b'S', b'F', b'F', b'F', b'F', b'F', b'F', b'F'], dtype='|S1')"
      ]
     },
     "execution_count": 91,
     "metadata": {},
     "output_type": "execute_result"
    }
   ],
   "source": [
    "env.desc[0]"
   ]
  },
  {
   "cell_type": "code",
   "execution_count": 176,
   "metadata": {},
   "outputs": [
    {
     "name": "stdout",
     "output_type": "stream",
     "text": [
      "You've reached the goal 0.22300000000000003% of the time\n",
      "It usually took 32.95583 steps\n"
     ]
    }
   ],
   "source": [
    "env = gym.make(\"FrozenLake8x8-v1\")\n",
    "n_observations = env.observation_space.n\n",
    "n_actions = env.action_space.n\n",
    "Q_Table = np.zeros((n_observations, n_actions))\n",
    "\n",
    "rewards_per_episode = list()\n",
    "steps_per_episode = list()\n",
    "\n",
    "exploration_prob = 1.0 \n",
    "max_exploration_prob = 1.0             # Exploration probability at start\n",
    "min_exploration_prob = 0.01 \n",
    "exploration_decreasing_decay = 0.001\n",
    "total_episodes = 100000\n",
    "gamma = 0.99\n",
    "\n",
    "for i in range(total_episodes):\n",
    "    # reset env\n",
    "    current_state = env.reset()\n",
    "    done = False\n",
    "\n",
    "    total_episode_reward = 0\n",
    "    steps = 0\n",
    "    for i in range(MAX_ACTIONS):\n",
    "        # action random or using bellans\n",
    "\n",
    "        if np.random.uniform(0,1) < exploration_prob:\n",
    "            action = env.action_space.sample()\n",
    "        else:\n",
    "            action = np.argmax(Q_Table[current_state,:])\n",
    "\n",
    "        next_state, reward, done, _ = env.step(action)\n",
    "        Q_Table[current_state, action] = (1-lr) * Q_Table[current_state, action] +lr*(reward + gamma*max(Q_Table[next_state,:]))\n",
    "        total_episode_reward = total_episode_reward + reward\n",
    "        steps = steps + 1\n",
    "        if done:\n",
    "            break\n",
    "        current_state = next_state\n",
    "\n",
    "    steps_per_episode.append(steps)\n",
    "    exploration_prob = max(min_exploration_prob, np.exp(-exploration_decreasing_decay*i))\n",
    "    rewards_per_episode.append(total_episode_reward)\n",
    "\n",
    "print(f\"You've reached the goal {sum(rewards_per_episode)/total_episodes*100}% of the time\")\n",
    "print(f\"It usually took {np.mean(steps_per_episode)} steps\")\n",
    "\n"
   ]
  },
  {
   "cell_type": "code",
   "execution_count": 178,
   "metadata": {},
   "outputs": [
    {
     "data": {
      "text/plain": [
       "223.0"
      ]
     },
     "execution_count": 178,
     "metadata": {},
     "output_type": "execute_result"
    }
   ],
   "source": [
    "sum(rewards_per_episode)"
   ]
  },
  {
   "cell_type": "code",
   "execution_count": 17,
   "metadata": {},
   "outputs": [
    {
     "name": "stdout",
     "output_type": "stream",
     "text": [
      "You've reached the goal 0.23900000000000002% of the time\n",
      "It usually took 33.02662 steps\n"
     ]
    }
   ],
   "source": [
    "print(f\"You've reached the goal {sum(rewards_per_episode)/total_episodes*100}% of the time\")\n",
    "print(f\"It usually took {np.mean(steps_per_episode)} steps\")"
   ]
  },
  {
   "cell_type": "code",
   "execution_count": 8,
   "metadata": {},
   "outputs": [
    {
     "name": "stdout",
     "output_type": "stream",
     "text": [
      "You've reached the goal 0.233% of the time\n",
      "It usually took 32.97696 steps\n"
     ]
    }
   ],
   "source": [
    "env = gym.make(\"FrozenLake8x8-v1\")\n",
    "func = reward_func0\n",
    "total_episodes = 100000\n",
    "lr = 0.1\n",
    "gamma = 0.99\n",
    "n_observations = env.observation_space.n\n",
    "n_actions = env.action_space.n\n",
    "\n",
    "qtable = np.zeros((n_observations, n_actions))\n",
    "\n",
    "# Exploration parameters\n",
    "epsilon = 1.0                 # Exploration rate\n",
    "max_epsilon = 1.0             # Exploration probability at start\n",
    "min_epsilon = 0.1            # Minimum exploration probability \n",
    "decay_rate = 0.001            # Exponential decay rate for exploration prob\n",
    "\n",
    "\n",
    "\n",
    "\n",
    "steps_per_episode = []\n",
    "rewards = []\n",
    "\n",
    "\n",
    "for i in range(total_episodes):\n",
    "    current_state = env.reset()\n",
    "\n",
    "    done = False\n",
    "    total_episode_reward = 0\n",
    "    steps = 0\n",
    "    for step in range(MAX_ACTIONS):\n",
    "\n",
    "        if np.random.uniform(0,1) < epsilon:\n",
    "            action = env.action_space.sample()\n",
    "        else:\n",
    "            action = np.argmax(qtable[current_state,:])\n",
    "\n",
    "        next_state, reward, done, _ = env.step(action)\n",
    "        # field = divmod(next_state, 8)\n",
    "        # reward = func(env, field)\n",
    "\n",
    "        qtable[current_state, action] = qtable[current_state, action] + lr * (reward + gamma * np.max(qtable[next_state, :]) - qtable[current_state, action])\n",
    "        total_episode_reward = total_episode_reward + reward\n",
    "\n",
    "        steps += 1\n",
    "\n",
    "        if done:\n",
    "            break\n",
    "        current_state = next_state\n",
    "\n",
    "    steps_per_episode.append(steps)\n",
    "    rewards.append(total_episode_reward)\n",
    "    epsilon = min_epsilon + (max_epsilon - min_epsilon)*np.exp(-decay_rate*step) \n",
    "\n",
    "print(f\"You've reached the goal {sum(rewards)/total_episodes*100}% of the time\")\n",
    "print(f\"It usually took {np.mean(steps_per_episode)} steps\")\n"
   ]
  },
  {
   "cell_type": "code",
   "execution_count": 156,
   "metadata": {},
   "outputs": [
    {
     "data": {
      "text/plain": [
       "0.0"
      ]
     },
     "execution_count": 156,
     "metadata": {},
     "output_type": "execute_result"
    }
   ],
   "source": [
    "total_episode_reward"
   ]
  },
  {
   "cell_type": "code",
   "execution_count": 234,
   "metadata": {},
   "outputs": [],
   "source": [
    "MAX_ACTIONS = 200\n",
    "\n",
    "def train(env, func, total_episodes = 10000, lr = 0.1, gamma = 0.99):\n",
    "\n",
    "    n_observations = env.observation_space.n\n",
    "    n_actions = env.action_space.n\n",
    "\n",
    "    qtable = np.zeros((n_observations, n_actions))\n",
    "\n",
    "    # Exploration parameters\n",
    "    epsilon = 1.0                 # Exploration rate\n",
    "    max_epsilon = 1.0             # Exploration probability at start\n",
    "    min_epsilon = 0.01            # Minimum exploration probability \n",
    "    decay_rate = 0.001            # Exponential decay rate for exploration prob\n",
    "\n",
    "\n",
    "\n",
    "\n",
    "    steps_per_episode = []\n",
    "    rewards = []\n",
    "\n",
    "\n",
    "    for i in range(total_episodes):\n",
    "        current_state = env.reset()\n",
    "\n",
    "        done = False\n",
    "        total_episode_reward = 0\n",
    "        steps = 0\n",
    "        for step in range(MAX_ACTIONS):\n",
    "\n",
    "            if np.random.uniform(0,1) < epsilon:\n",
    "                action = env.action_space.sample()\n",
    "            else:\n",
    "                action = np.argmax(qtable[current_state,:])\n",
    "\n",
    "            next_state, reward_default, done, _ = env.step(action)\n",
    "            field = divmod(next_state, 8)\n",
    "            reward = func(env, field)\n",
    "\n",
    "            qtable[current_state, action] = qtable[current_state, action] + lr * (reward + gamma * np.max(qtable[next_state, :]) - qtable[current_state, action])\n",
    "            total_episode_reward += reward_default\n",
    "\n",
    "            steps += 1\n",
    "\n",
    "            if done:\n",
    "                break\n",
    "            current_state = next_state\n",
    "\n",
    "        steps_per_episode.append(steps)\n",
    "        rewards.append(total_episode_reward)\n",
    "        epsilon = min_epsilon + (max_epsilon - min_epsilon)*np.exp(-decay_rate*step) \n",
    "        # print(\"hi\",sum(total_episode_reward)/total_episodes*100)\n",
    "        # print((total_episode_reward)/total_episodes*100)\n",
    "    return qtable, (total_episode_reward)/total_episodes*100\n",
    "\n",
    "def test(env, qtable, attempts = 1000):\n",
    "    env = gym.make(\"FrozenLake8x8-v1\")\n",
    "    success = 0\n",
    "    done = False\n",
    "    current_state = env.reset()\n",
    "\n",
    "    for _ in range(attempts):\n",
    "        for _ in range(MAX_ACTIONS):\n",
    "            action = np.argmax(qtable[current_state,:])\n",
    "            next_state, reward, done, _ = env.step(action)\n",
    "\n",
    "            if done:\n",
    "                # success += reward\n",
    "                break\n",
    "            current_state = next_state\n",
    "        success += reward\n",
    "\n",
    "    return ((success/attempts)*100)\n",
    "\n"
   ]
  },
  {
   "cell_type": "code",
   "execution_count": null,
   "metadata": {},
   "outputs": [],
   "source": [
    "env = gym.make(\"FrozenLake8x8-v1\")\n",
    "qt, succes_rate_train = train(env, reward_func0, total_episodes = 100000)\n",
    "print(f'train succes rate: {succes_rate_train}%')\n",
    "succes_rate_test = test(env, qt)\n",
    "print(f'train succes rate: {succes_rate_test}%')"
   ]
  },
  {
   "cell_type": "code",
   "execution_count": 228,
   "metadata": {},
   "outputs": [
    {
     "name": "stdout",
     "output_type": "stream",
     "text": [
      "75.4\n",
      "train succes rate: 75.4%\n"
     ]
    }
   ],
   "source": [
    "succes_rate_test = test_new(env, qt)\n",
    "print(f'train succes rate: {succes_rate_test}%')"
   ]
  },
  {
   "cell_type": "code",
   "execution_count": 249,
   "metadata": {},
   "outputs": [
    {
     "name": "stdout",
     "output_type": "stream",
     "text": [
      "train succes rate: 0.0%\n",
      "train succes rate: 61.5%\n"
     ]
    }
   ],
   "source": [
    "env = gym.make(\"FrozenLake8x8-v1\")\n",
    "total_episodes = 10000\n",
    "qt, succes_rate_train = train(env, reward_func2, total_episodes)\n",
    "print(f'train succes rate: {succes_rate_train}%')\n",
    "succes_rate_test = test_new(env, qt, int(total_episodes/10))\n",
    "print(f'train succes rate: {succes_rate_test}%')"
   ]
  },
  {
   "cell_type": "code",
   "execution_count": 246,
   "metadata": {},
   "outputs": [],
   "source": [
    "def test_new(env, qt, iters):\n",
    "    a = []\n",
    "\n",
    "    for _ in range(iters):\n",
    "        done = False\n",
    "        current_state = env.reset()\n",
    "\n",
    "        for _ in range(MAX_ACTIONS):\n",
    "            action = np.argmax(qt[current_state,:])\n",
    "            next_state, reward, done, _ = env.step(action)\n",
    "\n",
    "            if done:\n",
    "                break\n",
    "            current_state = next_state\n",
    "        a.append(reward)\n",
    "    # print(sum(a)/iters*100)\n",
    "    return sum(a)/iters*100"
   ]
  },
  {
   "cell_type": "code",
   "execution_count": 222,
   "metadata": {},
   "outputs": [
    {
     "name": "stdout",
     "output_type": "stream",
     "text": [
      "74.7\n"
     ]
    }
   ],
   "source": [
    "max_iter = 200\n",
    "\n",
    "env = gym.make(\"FrozenLake8x8-v1\")\n",
    "a = []\n",
    "iters = 1000\n",
    "\n",
    "for _ in range(iters):\n",
    "    done = False\n",
    "    current_state = env.reset()\n",
    "\n",
    "    for _ in range(max_iter):\n",
    "        action = np.argmax(qt[current_state,:])\n",
    "        next_state, reward, done, _ = env.step(action)\n",
    "\n",
    "        if done:\n",
    "            break\n",
    "        current_state = next_state\n",
    "    a.append(reward)\n",
    "\n",
    "    # if reward:\n",
    "    #     print(\"Agent succeded\")\n",
    "    # else:\n",
    "    #     print(\"Agent failed\")\n",
    "print(sum(a)/iters*100)\n"
   ]
  },
  {
   "cell_type": "code",
   "execution_count": 201,
   "metadata": {},
   "outputs": [
    {
     "data": {
      "text/plain": [
       "33.0"
      ]
     },
     "execution_count": 201,
     "metadata": {},
     "output_type": "execute_result"
    }
   ],
   "source": [
    "sum(a)"
   ]
  },
  {
   "cell_type": "code",
   "execution_count": 84,
   "metadata": {},
   "outputs": [
    {
     "data": {
      "text/plain": [
       "1.0"
      ]
     },
     "execution_count": 84,
     "metadata": {},
     "output_type": "execute_result"
    }
   ],
   "source": [
    "reward"
   ]
  }
 ],
 "metadata": {
  "kernelspec": {
   "display_name": "bootcamp_env",
   "language": "python",
   "name": "bootcamp_env"
  },
  "language_info": {
   "codemirror_mode": {
    "name": "ipython",
    "version": 3
   },
   "file_extension": ".py",
   "mimetype": "text/x-python",
   "name": "python",
   "nbconvert_exporter": "python",
   "pygments_lexer": "ipython3",
   "version": "3.9.10"
  },
  "orig_nbformat": 4
 },
 "nbformat": 4,
 "nbformat_minor": 2
}
