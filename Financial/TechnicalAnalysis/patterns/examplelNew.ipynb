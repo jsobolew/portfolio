{
 "cells": [
  {
   "cell_type": "code",
   "execution_count": 1,
   "metadata": {},
   "outputs": [
    {
     "name": "stderr",
     "output_type": "stream",
     "text": [
      "c:\\Users\\QbaSo\\AppData\\Local\\Programs\\Python\\Python39\\lib\\site-packages\\requests\\__init__.py:102: RequestsDependencyWarning: urllib3 (1.26.9) or chardet (5.1.0)/charset_normalizer (2.0.12) doesn't match a supported version!\n",
      "  warnings.warn(\"urllib3 ({}) or chardet ({})/charset_normalizer ({}) doesn't match a supported \"\n"
     ]
    }
   ],
   "source": [
    "import sys\n",
    " \n",
    "# adding Folder_2/subfolder to the system path\n",
    "sys.path.insert(0, '../')\n",
    "import myTA\n",
    "import numpy as np\n",
    "import pandas as pd\n",
    "import datetime as dt\n",
    "import pickle\n",
    "from patternsFinding import *"
   ]
  },
  {
   "cell_type": "code",
   "execution_count": 8,
   "metadata": {},
   "outputs": [
    {
     "name": "stdout",
     "output_type": "stream",
     "text": [
      "data analyzed\n",
      "299 valid candles found, printing plots...\n"
     ]
    }
   ],
   "source": [
    "code='SPY'\n",
    "backcandles = 30\n",
    "minNoPoints = 5\n",
    "df = myTA.downloadAndMakeAnalysis(code, dt.datetime(1980,1,1), dt.datetime.now(),'1d').reset_index()\n",
    "patterns = getPatterns(df, code, backcandles, minNoPoints)"
   ]
  },
  {
   "cell_type": "code",
   "execution_count": 9,
   "metadata": {},
   "outputs": [
    {
     "data": {
      "text/html": [
       "<div>\n",
       "<style scoped>\n",
       "    .dataframe tbody tr th:only-of-type {\n",
       "        vertical-align: middle;\n",
       "    }\n",
       "\n",
       "    .dataframe tbody tr th {\n",
       "        vertical-align: top;\n",
       "    }\n",
       "\n",
       "    .dataframe thead th {\n",
       "        text-align: right;\n",
       "    }\n",
       "</style>\n",
       "<table border=\"1\" class=\"dataframe\">\n",
       "  <thead>\n",
       "    <tr style=\"text-align: right;\">\n",
       "      <th></th>\n",
       "      <th>code</th>\n",
       "      <th>momentum</th>\n",
       "      <th>momentumChange%</th>\n",
       "      <th>breakOutSignal</th>\n",
       "      <th>returnsPercent</th>\n",
       "      <th>candleid</th>\n",
       "      <th>rmax</th>\n",
       "      <th>rmin</th>\n",
       "      <th>slmin</th>\n",
       "      <th>slmax</th>\n",
       "      <th>xxmax_size</th>\n",
       "      <th>xxmin_size</th>\n",
       "      <th>pattern_type</th>\n",
       "    </tr>\n",
       "  </thead>\n",
       "  <tbody>\n",
       "    <tr>\n",
       "      <th>0</th>\n",
       "      <td>SPY</td>\n",
       "      <td>bullish</td>\n",
       "      <td>2.494802</td>\n",
       "      <td>bearish</td>\n",
       "      <td>[-0.48476454293628807, -0.06925207756232687, 0...</td>\n",
       "      <td>30</td>\n",
       "      <td>0.992065</td>\n",
       "      <td>1.0</td>\n",
       "      <td>0.125</td>\n",
       "      <td>0.034507</td>\n",
       "      <td>3</td>\n",
       "      <td>2</td>\n",
       "      <td>Symmetrical Triangle</td>\n",
       "    </tr>\n",
       "    <tr>\n",
       "      <th>1</th>\n",
       "      <td>SPY</td>\n",
       "      <td>bullish</td>\n",
       "      <td>0.138793</td>\n",
       "      <td>bearish</td>\n",
       "      <td>[-0.2812939521800281, -0.5625879043600562, -0....</td>\n",
       "      <td>35</td>\n",
       "      <td>0.838011</td>\n",
       "      <td>0.927953</td>\n",
       "      <td>0.088918</td>\n",
       "      <td>0.021463</td>\n",
       "      <td>4</td>\n",
       "      <td>3</td>\n",
       "      <td>Falling Wedge</td>\n",
       "    </tr>\n",
       "    <tr>\n",
       "      <th>2</th>\n",
       "      <td>SPY</td>\n",
       "      <td>bullish</td>\n",
       "      <td>3.608605</td>\n",
       "      <td>bearish</td>\n",
       "      <td>[-0.2812939521800281, -0.5625879043600562, -0....</td>\n",
       "      <td>44</td>\n",
       "      <td>0.818547</td>\n",
       "      <td>1.0</td>\n",
       "      <td>-0.041667</td>\n",
       "      <td>-0.024007</td>\n",
       "      <td>3</td>\n",
       "      <td>2</td>\n",
       "      <td>Descending Triangle</td>\n",
       "    </tr>\n",
       "    <tr>\n",
       "      <th>3</th>\n",
       "      <td>SPY</td>\n",
       "      <td>bearish</td>\n",
       "      <td>-1.054852</td>\n",
       "      <td>bullish</td>\n",
       "      <td>[0.07037297677691766, 0.49261083743842365, 0.3...</td>\n",
       "      <td>68</td>\n",
       "      <td>0.992687</td>\n",
       "      <td>0.104802</td>\n",
       "      <td>0.004981</td>\n",
       "      <td>-0.029375</td>\n",
       "      <td>4</td>\n",
       "      <td>3</td>\n",
       "      <td>Descending Triangle</td>\n",
       "    </tr>\n",
       "    <tr>\n",
       "      <th>4</th>\n",
       "      <td>SPY</td>\n",
       "      <td>bullish</td>\n",
       "      <td>0.621977</td>\n",
       "      <td>bearish</td>\n",
       "      <td>[0.13726835964310227, -0.20590253946465342, -0...</td>\n",
       "      <td>84</td>\n",
       "      <td>0.765591</td>\n",
       "      <td>0.834952</td>\n",
       "      <td>0.058557</td>\n",
       "      <td>0.027686</td>\n",
       "      <td>3</td>\n",
       "      <td>4</td>\n",
       "      <td>Rectangle</td>\n",
       "    </tr>\n",
       "    <tr>\n",
       "      <th>...</th>\n",
       "      <td>...</td>\n",
       "      <td>...</td>\n",
       "      <td>...</td>\n",
       "      <td>...</td>\n",
       "      <td>...</td>\n",
       "      <td>...</td>\n",
       "      <td>...</td>\n",
       "      <td>...</td>\n",
       "      <td>...</td>\n",
       "      <td>...</td>\n",
       "      <td>...</td>\n",
       "      <td>...</td>\n",
       "      <td>...</td>\n",
       "    </tr>\n",
       "    <tr>\n",
       "      <th>294</th>\n",
       "      <td>SPY</td>\n",
       "      <td>bullish</td>\n",
       "      <td>4.400615</td>\n",
       "      <td>bearish</td>\n",
       "      <td>[0.007189814015675696, 2.53331597440631, -1.25...</td>\n",
       "      <td>7360</td>\n",
       "      <td>1.0</td>\n",
       "      <td>1.0</td>\n",
       "      <td>0.825832</td>\n",
       "      <td>-0.75375</td>\n",
       "      <td>2</td>\n",
       "      <td>2</td>\n",
       "      <td>Symmetrical Triangle</td>\n",
       "    </tr>\n",
       "    <tr>\n",
       "      <th>295</th>\n",
       "      <td>SPY</td>\n",
       "      <td>bearish</td>\n",
       "      <td>-6.31068</td>\n",
       "      <td>bearish</td>\n",
       "      <td>[0.3301113430881338, 3.385457570265213, -0.289...</td>\n",
       "      <td>7367</td>\n",
       "      <td>0.904515</td>\n",
       "      <td>1.0</td>\n",
       "      <td>-3.059</td>\n",
       "      <td>-1.351579</td>\n",
       "      <td>3</td>\n",
       "      <td>2</td>\n",
       "      <td>None</td>\n",
       "    </tr>\n",
       "    <tr>\n",
       "      <th>296</th>\n",
       "      <td>SPY</td>\n",
       "      <td>bearish</td>\n",
       "      <td>-17.20942</td>\n",
       "      <td>bullish</td>\n",
       "      <td>[1.2628897364669258, 0.8520090130362241, 2.926...</td>\n",
       "      <td>7375</td>\n",
       "      <td>0.895881</td>\n",
       "      <td>0.998319</td>\n",
       "      <td>-2.813811</td>\n",
       "      <td>-2.33541</td>\n",
       "      <td>3</td>\n",
       "      <td>3</td>\n",
       "      <td>None</td>\n",
       "    </tr>\n",
       "    <tr>\n",
       "      <th>297</th>\n",
       "      <td>SPY</td>\n",
       "      <td>bearish</td>\n",
       "      <td>-9.241472</td>\n",
       "      <td>bullish</td>\n",
       "      <td>[-1.066297003154831, -1.767388584361216, -2.59...</td>\n",
       "      <td>7475</td>\n",
       "      <td>0.936878</td>\n",
       "      <td>1.0</td>\n",
       "      <td>-1.743334</td>\n",
       "      <td>-1.822655</td>\n",
       "      <td>5</td>\n",
       "      <td>2</td>\n",
       "      <td>Falling Wedge</td>\n",
       "    </tr>\n",
       "    <tr>\n",
       "      <th>298</th>\n",
       "      <td>SPY</td>\n",
       "      <td>bearish</td>\n",
       "      <td>-12.163449</td>\n",
       "      <td>bullish</td>\n",
       "      <td>[-0.13279228362367448, -0.9702123816398622, 1....</td>\n",
       "      <td>7481</td>\n",
       "      <td>0.88726</td>\n",
       "      <td>0.992691</td>\n",
       "      <td>-1.528731</td>\n",
       "      <td>-2.098799</td>\n",
       "      <td>4</td>\n",
       "      <td>3</td>\n",
       "      <td>Falling Wedge</td>\n",
       "    </tr>\n",
       "  </tbody>\n",
       "</table>\n",
       "<p>299 rows × 13 columns</p>\n",
       "</div>"
      ],
      "text/plain": [
       "    code momentum momentumChange% breakOutSignal  \\\n",
       "0    SPY  bullish        2.494802        bearish   \n",
       "1    SPY  bullish        0.138793        bearish   \n",
       "2    SPY  bullish        3.608605        bearish   \n",
       "3    SPY  bearish       -1.054852        bullish   \n",
       "4    SPY  bullish        0.621977        bearish   \n",
       "..   ...      ...             ...            ...   \n",
       "294  SPY  bullish        4.400615        bearish   \n",
       "295  SPY  bearish        -6.31068        bearish   \n",
       "296  SPY  bearish       -17.20942        bullish   \n",
       "297  SPY  bearish       -9.241472        bullish   \n",
       "298  SPY  bearish      -12.163449        bullish   \n",
       "\n",
       "                                        returnsPercent candleid      rmax  \\\n",
       "0    [-0.48476454293628807, -0.06925207756232687, 0...       30  0.992065   \n",
       "1    [-0.2812939521800281, -0.5625879043600562, -0....       35  0.838011   \n",
       "2    [-0.2812939521800281, -0.5625879043600562, -0....       44  0.818547   \n",
       "3    [0.07037297677691766, 0.49261083743842365, 0.3...       68  0.992687   \n",
       "4    [0.13726835964310227, -0.20590253946465342, -0...       84  0.765591   \n",
       "..                                                 ...      ...       ...   \n",
       "294  [0.007189814015675696, 2.53331597440631, -1.25...     7360       1.0   \n",
       "295  [0.3301113430881338, 3.385457570265213, -0.289...     7367  0.904515   \n",
       "296  [1.2628897364669258, 0.8520090130362241, 2.926...     7375  0.895881   \n",
       "297  [-1.066297003154831, -1.767388584361216, -2.59...     7475  0.936878   \n",
       "298  [-0.13279228362367448, -0.9702123816398622, 1....     7481   0.88726   \n",
       "\n",
       "         rmin     slmin     slmax xxmax_size xxmin_size          pattern_type  \n",
       "0         1.0     0.125  0.034507          3          2  Symmetrical Triangle  \n",
       "1    0.927953  0.088918  0.021463          4          3         Falling Wedge  \n",
       "2         1.0 -0.041667 -0.024007          3          2   Descending Triangle  \n",
       "3    0.104802  0.004981 -0.029375          4          3   Descending Triangle  \n",
       "4    0.834952  0.058557  0.027686          3          4             Rectangle  \n",
       "..        ...       ...       ...        ...        ...                   ...  \n",
       "294       1.0  0.825832  -0.75375          2          2  Symmetrical Triangle  \n",
       "295       1.0    -3.059 -1.351579          3          2                  None  \n",
       "296  0.998319 -2.813811  -2.33541          3          3                  None  \n",
       "297       1.0 -1.743334 -1.822655          5          2         Falling Wedge  \n",
       "298  0.992691 -1.528731 -2.098799          4          3         Falling Wedge  \n",
       "\n",
       "[299 rows x 13 columns]"
      ]
     },
     "execution_count": 9,
     "metadata": {},
     "output_type": "execute_result"
    }
   ],
   "source": [
    "patterns"
   ]
  },
  {
   "cell_type": "code",
   "execution_count": 12,
   "metadata": {},
   "outputs": [],
   "source": [
    "# currdf = queryPatterns(patterns, 'Symmetrical Triangle', 0.7)\n",
    "# for i in range(len(currdf)):\n",
    "#     triangle = visualizeValidCandle(df, currdf.iloc[i].candleid, backcandles, visualize=True)"
   ]
  },
  {
   "cell_type": "code",
   "execution_count": null,
   "metadata": {},
   "outputs": [],
   "source": [
    "code='SPY'\n",
    "backcandles = 30\n",
    "minNoPoints = 5\n",
    "df = myTA.downloadAndMakeAnalysis(code, dt.datetime(1980,1,1), dt.datetime.now(),'1d').reset_index()\n",
    "patterns = getPatterns(df, code, backcandles, minNoPoints)"
   ]
  },
  {
   "cell_type": "code",
   "execution_count": 8,
   "metadata": {},
   "outputs": [
    {
     "name": "stderr",
     "output_type": "stream",
     "text": [
      "C:\\Users\\QbaSo\\AppData\\Local\\Temp\\ipykernel_18612\\3777223170.py:4: ResourceWarning: unclosed file <_io.BufferedReader name='patterns.p'>\n",
      "  patterns = pickle.load(open( \"patterns.p\", \"rb\"))\n",
      "ResourceWarning: Enable tracemalloc to get the object allocation traceback\n",
      "C:\\Users\\QbaSo\\AppData\\Local\\Temp\\ipykernel_18612\\3777223170.py:8: ResourceWarning: unclosed file <_io.BufferedWriter name='E:/Datasets/Financial/PatternAnalysisBackup/symbolsPattersAnalysis0.p'>\n",
      "  pickle.dump( patterns, open( f\"E:/Datasets/Financial/PatternAnalysisBackup/symbolsPattersAnalysis{len(patterns)}.p\", \"wb\" ) )\n",
      "ResourceWarning: Enable tracemalloc to get the object allocation traceback\n"
     ]
    },
    {
     "name": "stdout",
     "output_type": "stream",
     "text": [
      "data analyzed\n",
      "97 valid candles found, printing plots...\n",
      "100 ACRE done\n",
      "data analyzed\n",
      "3 valid candles found, printing plots...\n",
      "101 ACRO done\n",
      "data analyzed\n",
      "71 valid candles found, printing plots...\n",
      "102 ACRS done\n",
      "data analyzed\n",
      "1 valid candles found, printing plots...\n",
      "103 ACRV done\n",
      "data analyzed\n",
      "108 valid candles found, printing plots...\n",
      "failed for ACRX\n",
      "data analyzed\n",
      "75 valid candles found, printing plots...\n",
      "105 ACST done\n",
      "data analyzed\n",
      "14 valid candles found, printing plots...\n",
      "106 ACT done\n",
      "data analyzed\n",
      "189 valid candles found, printing plots...\n",
      "107 ACTG done\n",
      "data analyzed\n",
      "286 valid candles found, printing plots...\n",
      "108 ACU done\n",
      "data analyzed\n",
      "81 valid candles found, printing plots...\n",
      "109 ACV done\n",
      "data analyzed\n",
      "19 valid candles found, printing plots...\n",
      "110 ACVA done\n",
      "data analyzed\n",
      "14 valid candles found, printing plots...\n",
      "111 ACXP done\n",
      "data analyzed\n",
      "20 valid candles found, printing plots...\n",
      "112 ADAG done\n",
      "data analyzed\n",
      "5 valid candles found, printing plots...\n",
      "113 ADAL done\n",
      "data analyzed\n",
      "5 valid candles found, printing plots...\n",
      "114 ADALW done\n",
      "data analyzed\n",
      "84 valid candles found, printing plots...\n",
      "115 ADAP done\n",
      "data analyzed\n",
      "366 valid candles found, printing plots...\n",
      "116 ADBE done\n",
      "data analyzed\n",
      "262 valid candles found, printing plots...\n",
      "117 ADC done\n",
      "\n",
      "1 Failed download:\n",
      "- ADC^A: No data found, symbol may be delisted\n",
      "failed for ADC^A\n",
      "data analyzed\n",
      "17 valid candles found, printing plots...\n",
      "119 ADCT done\n",
      "data analyzed\n",
      "125 valid candles found, printing plots...\n",
      "120 ADD done\n",
      "data analyzed\n",
      "212 valid candles found, printing plots...\n",
      "121 ADEA done\n",
      "data analyzed\n",
      "8 valid candles found, printing plots...\n",
      "122 ADER done\n",
      "data analyzed\n",
      "0 valid candles found, printing plots...\n",
      "123 ADERW done\n",
      "data analyzed\n",
      "206 valid candles found, printing plots...\n",
      "124 ADES done\n",
      "data analyzed\n",
      "7 valid candles found, printing plots...\n",
      "125 ADEX done\n",
      "data analyzed\n",
      "347 valid candles found, printing plots...\n",
      "126 ADI done\n",
      "data analyzed\n",
      "52 valid candles found, printing plots...\n",
      "127 ADIL done\n",
      "data analyzed\n",
      "0 valid candles found, printing plots...\n",
      "128 ADILW done\n",
      "data analyzed\n",
      "394 valid candles found, printing plots...\n",
      "129 ADM done\n",
      "data analyzed\n",
      "93 valid candles found, printing plots...\n",
      "130 ADMA done\n",
      "data analyzed\n",
      "194 valid candles found, printing plots...\n",
      "131 ADMP done\n",
      "data analyzed\n",
      "36 valid candles found, printing plots...\n",
      "132 ADN done\n",
      "data analyzed\n",
      "60 valid candles found, printing plots...\n",
      "133 ADNT done\n",
      "data analyzed\n",
      "0 valid candles found, printing plots...\n",
      "134 ADNWW done\n",
      "data analyzed\n",
      "13 valid candles found, printing plots...\n",
      "135 ADOC done\n",
      "data analyzed\n",
      "0 valid candles found, printing plots...\n",
      "136 ADOCW done\n",
      "data analyzed\n",
      "379 valid candles found, printing plots...\n",
      "137 ADP done\n",
      "data analyzed\n",
      "29 valid candles found, printing plots...\n",
      "138 ADPT done\n",
      "data analyzed\n",
      "7 valid candles found, printing plots...\n",
      "139 ADRA done\n",
      "data analyzed\n",
      "1 valid candles found, printing plots...\n",
      "140 ADRT done\n",
      "data analyzed\n",
      "15 valid candles found, printing plots...\n",
      "141 ADSE done\n",
      "data analyzed\n",
      "0 valid candles found, printing plots...\n",
      "142 ADSEW done\n",
      "data analyzed\n",
      "335 valid candles found, printing plots...\n",
      "143 ADSK done\n",
      "data analyzed\n",
      "55 valid candles found, printing plots...\n",
      "144 ADT done\n",
      "data analyzed\n",
      "14 valid candles found, printing plots...\n",
      "145 ADTH done\n",
      "data analyzed\n",
      "0 valid candles found, printing plots...\n",
      "146 ADTHW done\n",
      "data analyzed\n",
      "295 valid candles found, printing plots...\n",
      "147 ADTN done\n",
      "data analyzed\n",
      "31 valid candles found, printing plots...\n",
      "148 ADTX done\n",
      "data analyzed\n",
      "121 valid candles found, printing plots...\n",
      "149 ADUS done\n",
      "data analyzed\n",
      "22 valid candles found, printing plots...\n",
      "150 ADV done\n",
      "data analyzed\n",
      "84 valid candles found, printing plots...\n",
      "151 ADVM done\n",
      "data analyzed\n",
      "0 valid candles found, printing plots...\n",
      "152 ADVWW done\n",
      "data analyzed\n",
      "331 valid candles found, printing plots...\n",
      "153 ADX done\n",
      "data analyzed\n",
      "32 valid candles found, printing plots...\n",
      "154 ADXN done\n",
      "data analyzed\n",
      "356 valid candles found, printing plots...\n",
      "155 AE done\n",
      "data analyzed\n",
      "7 valid candles found, printing plots...\n",
      "156 AEAC done\n",
      "data analyzed\n",
      "10 valid candles found, printing plots...\n",
      "157 AEACU done\n",
      "data analyzed\n",
      "0 valid candles found, printing plots...\n",
      "158 AEACW done\n",
      "data analyzed\n",
      "4 valid candles found, printing plots...\n",
      "159 AEAE done\n",
      "data analyzed\n",
      "4 valid candles found, printing plots...\n",
      "160 AEAEU done\n",
      "data analyzed\n",
      "0 valid candles found, printing plots...\n",
      "161 AEAEW done\n",
      "data analyzed\n",
      "256 valid candles found, printing plots...\n",
      "failed for AEE\n",
      "data analyzed\n",
      "324 valid candles found, printing plots...\n",
      "163 AEF done\n",
      "data analyzed\n",
      "29 valid candles found, printing plots...\n",
      "164 AEFC done\n",
      "data analyzed\n",
      "369 valid candles found, printing plots...\n",
      "165 AEG done\n",
      "data analyzed\n",
      "5 valid candles found, printing plots...\n",
      "166 AEHA done\n",
      "data analyzed\n",
      "0 valid candles found, printing plots...\n",
      "167 AEHAW done\n",
      "data analyzed\n",
      "110 valid candles found, printing plots...\n",
      "168 AEHL done\n",
      "data analyzed\n",
      "213 valid candles found, printing plots...\n",
      "169 AEHR done\n",
      "data analyzed\n",
      "28 valid candles found, printing plots...\n",
      "170 AEI done\n",
      "data analyzed\n",
      "262 valid candles found, printing plots...\n",
      "171 AEIS done\n",
      "data analyzed\n",
      "183 valid candles found, printing plots...\n",
      "172 AEL done\n",
      "\n",
      "1 Failed download:\n",
      "- AEL^A: No data found, symbol may be delisted\n",
      "failed for AEL^A\n",
      "\n",
      "1 Failed download:\n",
      "- AEL^B: No data found, symbol may be delisted\n",
      "failed for AEL^B\n",
      "data analyzed\n",
      "393 valid candles found, printing plots...\n",
      "175 AEM done\n",
      "data analyzed\n",
      "160 valid candles found, printing plots...\n",
      "176 AEMD done\n",
      "data analyzed\n",
      "90 valid candles found, printing plots...\n",
      "177 AENZ done\n",
      "data analyzed\n",
      "260 valid candles found, printing plots...\n",
      "178 AEO done\n",
      "data analyzed\n",
      "395 valid candles found, printing plots...\n",
      "179 AEP done\n",
      "data analyzed\n",
      "25 valid candles found, printing plots...\n",
      "180 AEPPZ done\n",
      "data analyzed\n",
      "172 valid candles found, printing plots...\n",
      "181 AER done\n",
      "data analyzed\n",
      "10 valid candles found, printing plots...\n",
      "182 AERC done\n",
      "data analyzed\n",
      "268 valid candles found, printing plots...\n",
      "183 AES done\n",
      "data analyzed\n",
      "22 valid candles found, printing plots...\n",
      "184 AESC done\n",
      "data analyzed\n",
      "37 valid candles found, printing plots...\n",
      "185 AEVA done\n",
      "data analyzed\n",
      "179 valid candles found, printing plots...\n",
      "186 AEY done\n",
      "data analyzed\n",
      "64 valid candles found, printing plots...\n",
      "187 AEYE done\n",
      "data analyzed\n",
      "220 valid candles found, printing plots...\n",
      "188 AEZS done\n",
      "data analyzed\n",
      "3 valid candles found, printing plots...\n",
      "189 AFAR done\n",
      "data analyzed\n",
      "2 valid candles found, printing plots...\n",
      "190 AFARU done\n",
      "data analyzed\n",
      "217 valid candles found, printing plots...\n",
      "191 AFB done\n",
      "data analyzed\n",
      "44 valid candles found, printing plots...\n",
      "192 AFBI done\n",
      "data analyzed\n",
      "21 valid candles found, printing plots...\n",
      "193 AFCG done\n",
      "data analyzed\n",
      "396 valid candles found, printing plots...\n",
      "194 AFG done\n",
      "data analyzed\n",
      "38 valid candles found, printing plots...\n",
      "195 AFGB done\n",
      "data analyzed\n",
      "34 valid candles found, printing plots...\n",
      "196 AFGC done\n",
      "data analyzed\n",
      "26 valid candles found, printing plots...\n",
      "197 AFGD done\n",
      "data analyzed\n",
      "19 valid candles found, printing plots...\n",
      "198 AFGE done\n",
      "data analyzed\n",
      "30 valid candles found, printing plots...\n",
      "199 AFIB done\n"
     ]
    },
    {
     "name": "stderr",
     "output_type": "stream",
     "text": [
      "C:\\Users\\QbaSo\\AppData\\Local\\Temp\\ipykernel_18612\\3777223170.py:19: ResourceWarning: unclosed file <_io.BufferedWriter name='patterns.p'>\n",
      "  pickle.dump(patterns, open( f\"patterns.p\", \"wb\" ) )\n",
      "ResourceWarning: Enable tracemalloc to get the object allocation traceback\n"
     ]
    }
   ],
   "source": [
    "backcandles = 30\n",
    "minNoPoints = 5\n",
    "tickers = pd.read_csv(\"../nasdaqTickers.csv\")\n",
    "patterns = pickle.load(open( \"patterns.p\", \"rb\"))\n",
    "patterns= pd.DataFrame(columns=['code', 'momentum', 'momentumChange%', 'breakOutSignal',\n",
    "       'returnsPercent', 'candleid', 'rmax', 'rmin', 'slmin', 'slmax',\n",
    "       'xxmax_size', 'xxmin_size', 'pattern_type'])\n",
    "pickle.dump( patterns, open( f\"E:/Datasets/Financial/PatternAnalysisBackup/symbolsPattersAnalysis{len(patterns)}.p\", \"wb\" ) )\n",
    "\n",
    "for i in range(100,200):\n",
    "    code=tickers['Symbol'][i]\n",
    "    try:\n",
    "        df = myTA.downloadAndMakeAnalysis(code, dt.datetime(1980,1,1), dt.datetime.now(),'1d').reset_index()\n",
    "        patterns = pd.concat([patterns ,getPatterns(df, code, backcandles, minNoPoints)])\n",
    "        print(i, code, \"done\")\n",
    "    except:\n",
    "        print(f\"failed for {code}\")\n",
    "\n",
    "pickle.dump(patterns, open( f\"patterns.p\", \"wb\" ) )"
   ]
  },
  {
   "cell_type": "code",
   "execution_count": 11,
   "metadata": {},
   "outputs": [
    {
     "data": {
      "text/plain": [
       "<AxesSubplot:>"
      ]
     },
     "execution_count": 11,
     "metadata": {},
     "output_type": "execute_result"
    },
    {
     "data": {
      "image/png": "[encoded data removed]",
      "text/plain": [
       "<Figure size 432x288 with 1 Axes>"
      ]
     },
     "metadata": {
      "needs_background": "light"
     },
     "output_type": "display_data"
    }
   ],
   "source": [
    "patterns['pattern_type'].hist()"
   ]
  },
  {
   "cell_type": "code",
   "execution_count": 23,
   "metadata": {},
   "outputs": [
    {
     "data": {
      "text/html": [
       "<div>\n",
       "<style scoped>\n",
       "    .dataframe tbody tr th:only-of-type {\n",
       "        vertical-align: middle;\n",
       "    }\n",
       "\n",
       "    .dataframe tbody tr th {\n",
       "        vertical-align: top;\n",
       "    }\n",
       "\n",
       "    .dataframe thead th {\n",
       "        text-align: right;\n",
       "    }\n",
       "</style>\n",
       "<table border=\"1\" class=\"dataframe\">\n",
       "  <thead>\n",
       "    <tr style=\"text-align: right;\">\n",
       "      <th></th>\n",
       "      <th>code</th>\n",
       "      <th>momentum</th>\n",
       "      <th>momentumChange%</th>\n",
       "      <th>breakOutSignal</th>\n",
       "      <th>returnsPercent</th>\n",
       "      <th>candleid</th>\n",
       "      <th>rmax</th>\n",
       "      <th>rmin</th>\n",
       "      <th>slmin</th>\n",
       "      <th>slmax</th>\n",
       "      <th>xxmax_size</th>\n",
       "      <th>xxmin_size</th>\n",
       "      <th>pattern_type</th>\n",
       "    </tr>\n",
       "  </thead>\n",
       "  <tbody>\n",
       "    <tr>\n",
       "      <th>0</th>\n",
       "      <td>ACRE</td>\n",
       "      <td>bearish</td>\n",
       "      <td>-3.926099</td>\n",
       "      <td>bullish</td>\n",
       "      <td>[-1.240131432880089, -2.31116038727134, -0.620...</td>\n",
       "      <td>30</td>\n",
       "      <td>0.37118</td>\n",
       "      <td>0.715265</td>\n",
       "      <td>-0.018571</td>\n",
       "      <td>-0.015735</td>\n",
       "      <td>4</td>\n",
       "      <td>3</td>\n",
       "      <td>Descending Triangle</td>\n",
       "    </tr>\n",
       "    <tr>\n",
       "      <th>1</th>\n",
       "      <td>ACRE</td>\n",
       "      <td>bearish</td>\n",
       "      <td>-5.376342</td>\n",
       "      <td>bullish</td>\n",
       "      <td>[1.5757589629202178, 1.9999995376124526, 1.636...</td>\n",
       "      <td>66</td>\n",
       "      <td>0.967064</td>\n",
       "      <td>0.830591</td>\n",
       "      <td>-0.018228</td>\n",
       "      <td>-0.041633</td>\n",
       "      <td>3</td>\n",
       "      <td>4</td>\n",
       "      <td>Descending Triangle</td>\n",
       "    </tr>\n",
       "    <tr>\n",
       "      <th>2</th>\n",
       "      <td>ACRE</td>\n",
       "      <td>bullish</td>\n",
       "      <td>1.295638</td>\n",
       "      <td>bullish</td>\n",
       "      <td>[0.4013743846367447, -2.522938764814625, -1.94...</td>\n",
       "      <td>93</td>\n",
       "      <td>0.991709</td>\n",
       "      <td>0.33953</td>\n",
       "      <td>0.006791</td>\n",
       "      <td>0.011802</td>\n",
       "      <td>4</td>\n",
       "      <td>3</td>\n",
       "      <td>Rectangle</td>\n",
       "    </tr>\n",
       "    <tr>\n",
       "      <th>3</th>\n",
       "      <td>ACRE</td>\n",
       "      <td>bearish</td>\n",
       "      <td>-3.748482</td>\n",
       "      <td>bullish</td>\n",
       "      <td>[1.0791385004946756, 1.1990338844823698, 1.199...</td>\n",
       "      <td>125</td>\n",
       "      <td>0.93343</td>\n",
       "      <td>0.944911</td>\n",
       "      <td>-0.023469</td>\n",
       "      <td>-0.033144</td>\n",
       "      <td>4</td>\n",
       "      <td>3</td>\n",
       "      <td>Descending Triangle</td>\n",
       "    </tr>\n",
       "    <tr>\n",
       "      <th>4</th>\n",
       "      <td>ACRE</td>\n",
       "      <td>bearish</td>\n",
       "      <td>-7.823342</td>\n",
       "      <td>bearish</td>\n",
       "      <td>[1.1635381279539938, 2.003874987662956, 2.3917...</td>\n",
       "      <td>139</td>\n",
       "      <td>0.999081</td>\n",
       "      <td>0.953963</td>\n",
       "      <td>-0.072143</td>\n",
       "      <td>-0.017673</td>\n",
       "      <td>3</td>\n",
       "      <td>3</td>\n",
       "      <td>Descending Triangle</td>\n",
       "    </tr>\n",
       "    <tr>\n",
       "      <th>...</th>\n",
       "      <td>...</td>\n",
       "      <td>...</td>\n",
       "      <td>...</td>\n",
       "      <td>...</td>\n",
       "      <td>...</td>\n",
       "      <td>...</td>\n",
       "      <td>...</td>\n",
       "      <td>...</td>\n",
       "      <td>...</td>\n",
       "      <td>...</td>\n",
       "      <td>...</td>\n",
       "      <td>...</td>\n",
       "      <td>...</td>\n",
       "    </tr>\n",
       "    <tr>\n",
       "      <th>25</th>\n",
       "      <td>AFIB</td>\n",
       "      <td>bearish</td>\n",
       "      <td>-54.774967</td>\n",
       "      <td>bearish</td>\n",
       "      <td>[-0.9803925387969108, -4.139432278084372, -5.2...</td>\n",
       "      <td>540</td>\n",
       "      <td>0.972328</td>\n",
       "      <td>0.984648</td>\n",
       "      <td>-0.018603</td>\n",
       "      <td>-0.017309</td>\n",
       "      <td>3</td>\n",
       "      <td>4</td>\n",
       "      <td>Descending Triangle</td>\n",
       "    </tr>\n",
       "    <tr>\n",
       "      <th>26</th>\n",
       "      <td>AFIB</td>\n",
       "      <td>bearish</td>\n",
       "      <td>-26.506021</td>\n",
       "      <td>bullish</td>\n",
       "      <td>[8.809524198102855, 22.619048041416146, 7.8571...</td>\n",
       "      <td>558</td>\n",
       "      <td>0.876609</td>\n",
       "      <td>1.0</td>\n",
       "      <td>-0.008667</td>\n",
       "      <td>-0.01018</td>\n",
       "      <td>3</td>\n",
       "      <td>2</td>\n",
       "      <td>Descending Triangle</td>\n",
       "    </tr>\n",
       "    <tr>\n",
       "      <th>27</th>\n",
       "      <td>AFIB</td>\n",
       "      <td>bullish</td>\n",
       "      <td>7.002183</td>\n",
       "      <td>bearish</td>\n",
       "      <td>[-11.176467150827802, -25.490195620110374, -26...</td>\n",
       "      <td>568</td>\n",
       "      <td>0.435887</td>\n",
       "      <td>0.929363</td>\n",
       "      <td>-0.00379</td>\n",
       "      <td>0.00293</td>\n",
       "      <td>3</td>\n",
       "      <td>4</td>\n",
       "      <td>Rectangle</td>\n",
       "    </tr>\n",
       "    <tr>\n",
       "      <th>28</th>\n",
       "      <td>AFIB</td>\n",
       "      <td>bearish</td>\n",
       "      <td>-11.951588</td>\n",
       "      <td>bearish</td>\n",
       "      <td>[-7.3529428522066915, 0.0, 2.9411736347271384,...</td>\n",
       "      <td>578</td>\n",
       "      <td>1.0</td>\n",
       "      <td>0.979076</td>\n",
       "      <td>-0.006212</td>\n",
       "      <td>0.019</td>\n",
       "      <td>2</td>\n",
       "      <td>3</td>\n",
       "      <td>Rectangle</td>\n",
       "    </tr>\n",
       "    <tr>\n",
       "      <th>29</th>\n",
       "      <td>AFIB</td>\n",
       "      <td>bullish</td>\n",
       "      <td>8.536585</td>\n",
       "      <td>bullish</td>\n",
       "      <td>[1.8202471755095027, 14.903297059036333, 20.59...</td>\n",
       "      <td>594</td>\n",
       "      <td>1.0</td>\n",
       "      <td>0.75249</td>\n",
       "      <td>0.004482</td>\n",
       "      <td>-0.007143</td>\n",
       "      <td>2</td>\n",
       "      <td>5</td>\n",
       "      <td>Descending Triangle</td>\n",
       "    </tr>\n",
       "  </tbody>\n",
       "</table>\n",
       "<p>10136 rows × 13 columns</p>\n",
       "</div>"
      ],
      "text/plain": [
       "    code momentum momentumChange% breakOutSignal  \\\n",
       "0   ACRE  bearish       -3.926099        bullish   \n",
       "1   ACRE  bearish       -5.376342        bullish   \n",
       "2   ACRE  bullish        1.295638        bullish   \n",
       "3   ACRE  bearish       -3.748482        bullish   \n",
       "4   ACRE  bearish       -7.823342        bearish   \n",
       "..   ...      ...             ...            ...   \n",
       "25  AFIB  bearish      -54.774967        bearish   \n",
       "26  AFIB  bearish      -26.506021        bullish   \n",
       "27  AFIB  bullish        7.002183        bearish   \n",
       "28  AFIB  bearish      -11.951588        bearish   \n",
       "29  AFIB  bullish        8.536585        bullish   \n",
       "\n",
       "                                       returnsPercent candleid      rmax  \\\n",
       "0   [-1.240131432880089, -2.31116038727134, -0.620...       30   0.37118   \n",
       "1   [1.5757589629202178, 1.9999995376124526, 1.636...       66  0.967064   \n",
       "2   [0.4013743846367447, -2.522938764814625, -1.94...       93  0.991709   \n",
       "3   [1.0791385004946756, 1.1990338844823698, 1.199...      125   0.93343   \n",
       "4   [1.1635381279539938, 2.003874987662956, 2.3917...      139  0.999081   \n",
       "..                                                ...      ...       ...   \n",
       "25  [-0.9803925387969108, -4.139432278084372, -5.2...      540  0.972328   \n",
       "26  [8.809524198102855, 22.619048041416146, 7.8571...      558  0.876609   \n",
       "27  [-11.176467150827802, -25.490195620110374, -26...      568  0.435887   \n",
       "28  [-7.3529428522066915, 0.0, 2.9411736347271384,...      578       1.0   \n",
       "29  [1.8202471755095027, 14.903297059036333, 20.59...      594       1.0   \n",
       "\n",
       "        rmin     slmin     slmax xxmax_size xxmin_size         pattern_type  \n",
       "0   0.715265 -0.018571 -0.015735          4          3  Descending Triangle  \n",
       "1   0.830591 -0.018228 -0.041633          3          4  Descending Triangle  \n",
       "2    0.33953  0.006791  0.011802          4          3            Rectangle  \n",
       "3   0.944911 -0.023469 -0.033144          4          3  Descending Triangle  \n",
       "4   0.953963 -0.072143 -0.017673          3          3  Descending Triangle  \n",
       "..       ...       ...       ...        ...        ...                  ...  \n",
       "25  0.984648 -0.018603 -0.017309          3          4  Descending Triangle  \n",
       "26       1.0 -0.008667  -0.01018          3          2  Descending Triangle  \n",
       "27  0.929363  -0.00379   0.00293          3          4            Rectangle  \n",
       "28  0.979076 -0.006212     0.019          2          3            Rectangle  \n",
       "29   0.75249  0.004482 -0.007143          2          5  Descending Triangle  \n",
       "\n",
       "[10136 rows x 13 columns]"
      ]
     },
     "execution_count": 23,
     "metadata": {},
     "output_type": "execute_result"
    }
   ],
   "source": [
    "patterns"
   ]
  },
  {
   "cell_type": "code",
   "execution_count": 30,
   "metadata": {},
   "outputs": [],
   "source": [
    "certainPattern = queryPatterns(patterns, 'Rectangle', 0.9)"
   ]
  },
  {
   "cell_type": "code",
   "execution_count": 36,
   "metadata": {},
   "outputs": [],
   "source": [
    "curr = certainPattern[(certainPattern['momentum']=='bullish') & (certainPattern['breakOutSignal']=='bullish')]"
   ]
  },
  {
   "cell_type": "code",
   "execution_count": 40,
   "metadata": {},
   "outputs": [
    {
     "data": {
      "application/vnd.plotly.v1+json": {
       "config": {
        "plotlyServerURL": "https://plot.ly"
       },
       "data": [
        {
         "close": [
          11.539999961853027,
          11.350000381469727,
          11.300000190734863,
          11.350000381469727,
          11.260000228881836,
          11.270000457763672,
          11.4399995803833,
          11.569999694824219,
          11.569999694824219,
          11.630000114440918,
          11.670000076293945,
          11.789999961853027,
          11.880000114440918,
          11.890000343322754,
          11.890000343322754,
          11.90999984741211,
          11.75,
          11.710000038146973,
          11.640000343322754,
          11.75,
          11.710000038146973,
          11.649999618530273,
          11.779999732971191,
          11.760000228881836,
          11.670000076293945,
          11.5,
          11.479999542236328,
          11.489999771118164,
          11.430000305175781,
          11.460000038146973,
          11.59000015258789,
          11.529999732971191,
          11.420000076293945,
          11.390000343322754,
          11.5,
          11.630000114440918,
          11.75,
          11.75,
          11.739999771118164,
          11.6899995803833,
          11.65999984741211,
          11.479999542236328,
          11.399999618530273,
          11.390000343322754,
          11.420000076293945,
          11.40999984741211,
          11.569999694824219,
          11.75,
          11.84000015258789,
          11.760000228881836,
          11.880000114440918,
          11.90999984741211,
          11.979999542236328,
          11.9399995803833,
          12.010000228881836,
          12.050000190734863,
          12,
          11.949999809265137,
          11.979999542236328,
          11.890000343322754,
          11.920000076293945,
          11.920000076293945,
          12.010000228881836,
          12.020000457763672,
          12.34000015258789,
          12.449999809265137,
          12.699999809265137,
          12.680000305175781,
          12.630000114440918,
          12.550000190734863,
          12.5600004196167,
          12.579999923706055,
          12.609999656677246,
          12.8100004196167,
          12.729999542236328,
          12.90999984741211,
          13.079999923706055,
          12.850000381469727,
          12.899999618530273,
          12.779999732971191,
          12.699999809265137,
          12.470000267028809,
          12.5600004196167,
          12.729999542236328,
          13.010000228881836,
          12.920000076293945,
          12.520000457763672,
          12.300000190734863,
          12.300000190734863,
          12.270000457763672,
          12.119999885559082,
          12.130000114440918,
          11.90999984741211,
          12.09000015258789,
          12.079999923706055,
          12.109999656677246,
          12.220000267028809,
          12.380000114440918,
          12.399999618530273,
          12.600000381469727,
          12.539999961853027,
          12.430000305175781,
          12.529999732971191,
          12.569999694824219,
          12.350000381469727,
          12.0600004196167,
          11.670000076293945,
          11.989999771118164,
          11.989999771118164,
          12.069999694824219,
          12.3100004196167,
          12.300000190734863,
          12.390000343322754,
          12.369999885559082,
          12.3100004196167,
          12.430000305175781,
          12.460000038146973,
          12.210000038146973,
          12.470000267028809,
          12.619999885559082
         ],
         "high": [
          11.59000015258789,
          11.539999961853027,
          11.369999885559082,
          11.399999618530273,
          11.399999618530273,
          11.399999618530273,
          11.550000190734863,
          11.569999694824219,
          11.640000343322754,
          11.680000305175781,
          11.75,
          11.800000190734863,
          11.90999984741211,
          11.90999984741211,
          11.90999984741211,
          12,
          11.90999984741211,
          11.75,
          11.710000038146973,
          11.770000457763672,
          11.739999771118164,
          11.699999809265137,
          11.819999694824219,
          11.859999656677246,
          11.800000190734863,
          11.710000038146973,
          11.600000381469727,
          11.510000228881836,
          11.529999732971191,
          11.510000228881836,
          11.600000381469727,
          11.600000381469727,
          11.489999771118164,
          11.40999984741211,
          11.510000228881836,
          11.649999618530273,
          11.770000457763672,
          11.869999885559082,
          11.829999923706055,
          11.770000457763672,
          11.770000457763672,
          11.5600004196167,
          11.510000228881836,
          11.489999771118164,
          11.470000267028809,
          11.569999694824219,
          11.609999656677246,
          11.770000457763672,
          11.899999618530273,
          11.949999809265137,
          11.930000305175781,
          12,
          11.989999771118164,
          12.029999732971191,
          12.079999923706055,
          12.09000015258789,
          12.079999923706055,
          12.130000114440918,
          12.069999694824219,
          12.09000015258789,
          11.989999771118164,
          12.039999961853027,
          12.149999618530273,
          12.079999923706055,
          12.380000114440918,
          12.550000190734863,
          12.720000267028809,
          12.789999961853027,
          12.75,
          12.75,
          12.65999984741211,
          12.779999732971191,
          12.800000190734863,
          12.8100004196167,
          12.800000190734863,
          12.930000305175781,
          13.170000076293945,
          13.119999885559082,
          13.0600004196167,
          13,
          12.84000015258789,
          12.550000190734863,
          12.819999694824219,
          12.800000190734863,
          13.180000305175781,
          13.050000190734863,
          12.930000305175781,
          12.489999771118164,
          12.460000038146973,
          12.390000343322754,
          12.260000228881836,
          12.270000457763672,
          12.229999542236328,
          12.119999885559082,
          12.130000114440918,
          12.180000305175781,
          12.239999771118164,
          12.40999984741211,
          12.510000228881836,
          12.600000381469727,
          12.6899995803833,
          12.569999694824219,
          12.550000190734863,
          12.609999656677246,
          12.630000114440918,
          12.149999618530273,
          12.100000381469727,
          12.029999732971191,
          12.140000343322754,
          12.069999694824219,
          12.380000114440918,
          12.380000114440918,
          12.449999809265137,
          12.4399995803833,
          12.40999984741211,
          12.460000038146973,
          12.520000457763672,
          12.539999961853027,
          12.470000267028809,
          12.880000114440918
         ],
         "low": [
          11.449999809265137,
          11.34000015258789,
          11.25,
          11.300000190734863,
          11.220000267028809,
          11.199999809265137,
          11.270000457763672,
          11.460000038146973,
          11.5600004196167,
          11.380000114440918,
          11.609999656677246,
          11.729999542236328,
          11.75,
          11.819999694824219,
          11.8100004196167,
          11.859999656677246,
          11.720000267028809,
          11.6899995803833,
          11.5600004196167,
          11.609999656677246,
          11.600000381469727,
          11.600000381469727,
          11.619999885559082,
          11.699999809265137,
          11.65999984741211,
          11.489999771118164,
          11.390000343322754,
          11.390000343322754,
          11.420000076293945,
          11.399999618530273,
          11.4399995803833,
          11.460000038146973,
          11.350000381469727,
          11.34000015258789,
          11.279999732971191,
          11.5,
          11.579999923706055,
          11.729999542236328,
          11.609999656677246,
          11.65999984741211,
          11.600000381469727,
          11.279999732971191,
          11.319999694824219,
          11.359999656677246,
          11.369999885559082,
          11.380000114440918,
          11.4399995803833,
          11.5600004196167,
          11.710000038146973,
          11.699999809265137,
          11.84000015258789,
          11.869999885559082,
          11.880000114440918,
          11.890000343322754,
          11.960000038146973,
          11.960000038146973,
          11.9399995803833,
          11.899999618530273,
          11.920000076293945,
          11.890000343322754,
          11.859999656677246,
          11.869999885559082,
          11.9399995803833,
          11.9399995803833,
          12.010000228881836,
          12.430000305175781,
          12.470000267028809,
          12.630000114440918,
          12.479999542236328,
          12.510000228881836,
          12.420000076293945,
          12.510000228881836,
          12.449999809265137,
          12.5600004196167,
          12.670000076293945,
          12.680000305175781,
          12.8100004196167,
          12.829999923706055,
          12.789999961853027,
          12.699999809265137,
          12.579999923706055,
          12,
          12.5,
          12.5,
          12.779999732971191,
          12.829999923706055,
          12.449999809265137,
          12.210000038146973,
          12.260000228881836,
          12.210000038146973,
          12.09000015258789,
          12.119999885559082,
          11.880000114440918,
          11.890000343322754,
          12,
          12,
          12.050000190734863,
          12.25,
          12.170000076293945,
          12.270000457763672,
          12.5,
          12.40999984741211,
          12.4399995803833,
          12.460000038146973,
          12.3100004196167,
          11.859999656677246,
          11.539999961853027,
          11.59000015258789,
          11.819999694824219,
          11.869999885559082,
          12.079999923706055,
          12.1899995803833,
          12.300000190734863,
          12.260000228881836,
          12.239999771118164,
          12.229999542236328,
          12.369999885559082,
          12.1899995803833,
          12.149999618530273,
          12.430000305175781
         ],
         "open": [
          11.5,
          11.539999961853027,
          11.369999885559082,
          11.359999656677246,
          11.359999656677246,
          11.319999694824219,
          11.3100004196167,
          11.520000457763672,
          11.600000381469727,
          11.5,
          11.609999656677246,
          11.739999771118164,
          11.779999732971191,
          11.869999885559082,
          11.90999984741211,
          11.890000343322754,
          11.90999984741211,
          11.739999771118164,
          11.649999618530273,
          11.640000343322754,
          11.710000038146973,
          11.699999809265137,
          11.710000038146973,
          11.779999732971191,
          11.800000190734863,
          11.65999984741211,
          11.5,
          11.5,
          11.489999771118164,
          11.510000228881836,
          11.460000038146973,
          11.550000190734863,
          11.489999771118164,
          11.390000343322754,
          11.4399995803833,
          11.5,
          11.649999618530273,
          11.8100004196167,
          11.75,
          11.739999771118164,
          11.75,
          11.40999984741211,
          11.390000343322754,
          11.4399995803833,
          11.430000305175781,
          11.449999809265137,
          11.539999961853027,
          11.569999694824219,
          11.739999771118164,
          11.880000114440918,
          11.84000015258789,
          11.899999618530273,
          11.890000343322754,
          12.020000457763672,
          11.979999542236328,
          12,
          12.0600004196167,
          11.960000038146973,
          11.9399995803833,
          12,
          11.899999618530273,
          11.899999618530273,
          11.970000267028809,
          12,
          12.130000114440918,
          12.460000038146973,
          12.489999771118164,
          12.739999771118164,
          12.720000267028809,
          12.619999885559082,
          12.489999771118164,
          12.569999694824219,
          12.489999771118164,
          12.600000381469727,
          12.779999732971191,
          12.6899995803833,
          12.829999923706055,
          13.029999732971191,
          12.819999694824219,
          12.819999694824219,
          12.600000381469727,
          12.380000114440918,
          12.670000076293945,
          12.729999542236328,
          12.779999732971191,
          13,
          12.84000015258789,
          12.359999656677246,
          12.390000343322754,
          12.319999694824219,
          12.199999809265137,
          12.210000038146973,
          12.180000305175781,
          11.90999984741211,
          12.029999732971191,
          12.100000381469727,
          12.140000343322754,
          12.25,
          12.399999618530273,
          12.270000457763672,
          12.630000114440918,
          12.5,
          12.479999542236328,
          12.479999542236328,
          12.619999885559082,
          12.079999923706055,
          12.0600004196167,
          11.75,
          12.010000228881836,
          11.979999542236328,
          12.079999923706055,
          12.3100004196167,
          12.319999694824219,
          12.369999885559082,
          12.40999984741211,
          12.34000015258789,
          12.399999618530273,
          12.420000076293945,
          12.270000457763672,
          12.460000038146973
         ],
         "type": "candlestick",
         "x": [
          754,
          755,
          756,
          757,
          758,
          759,
          760,
          761,
          762,
          763,
          764,
          765,
          766,
          767,
          768,
          769,
          770,
          771,
          772,
          773,
          774,
          775,
          776,
          777,
          778,
          779,
          780,
          781,
          782,
          783,
          784,
          785,
          786,
          787,
          788,
          789,
          790,
          791,
          792,
          793,
          794,
          795,
          796,
          797,
          798,
          799,
          800,
          801,
          802,
          803,
          804,
          805,
          806,
          807,
          808,
          809,
          810,
          811,
          812,
          813,
          814,
          815,
          816,
          817,
          818,
          819,
          820,
          821,
          822,
          823,
          824,
          825,
          826,
          827,
          828,
          829,
          830,
          831,
          832,
          833,
          834,
          835,
          836,
          837,
          838,
          839,
          840,
          841,
          842,
          843,
          844,
          845,
          846,
          847,
          848,
          849,
          850,
          851,
          852,
          853,
          854,
          855,
          856,
          857,
          858,
          859,
          860,
          861,
          862,
          863,
          864,
          865,
          866,
          867,
          868,
          869,
          870,
          871,
          872,
          873
         ]
        },
        {
         "marker": {
          "color": "MediumPurple",
          "size": 4
         },
         "mode": "markers",
         "name": "pivot",
         "type": "scatter",
         "x": [
          754,
          755,
          756,
          757,
          758,
          759,
          760,
          761,
          762,
          763,
          764,
          765,
          766,
          767,
          768,
          769,
          770,
          771,
          772,
          773,
          774,
          775,
          776,
          777,
          778,
          779,
          780,
          781,
          782,
          783,
          784,
          785,
          786,
          787,
          788,
          789,
          790,
          791,
          792,
          793,
          794,
          795,
          796,
          797,
          798,
          799,
          800,
          801,
          802,
          803,
          804,
          805,
          806,
          807,
          808,
          809,
          810,
          811,
          812,
          813,
          814,
          815,
          816,
          817,
          818,
          819,
          820,
          821,
          822,
          823,
          824,
          825,
          826,
          827,
          828,
          829,
          830,
          831,
          832,
          833,
          834,
          835,
          836,
          837,
          838,
          839,
          840,
          841,
          842,
          843,
          844,
          845,
          846,
          847,
          848,
          849,
          850,
          851,
          852,
          853,
          854,
          855,
          856,
          857,
          858,
          859,
          860,
          861,
          862,
          863,
          864,
          865,
          866,
          867,
          868,
          869,
          870,
          871,
          872,
          873
         ],
         "y": [
          null,
          null,
          null,
          null,
          null,
          11.198999809265137,
          null,
          null,
          null,
          null,
          null,
          null,
          null,
          null,
          null,
          12.001,
          null,
          null,
          11.5590004196167,
          null,
          null,
          null,
          null,
          11.860999656677246,
          null,
          null,
          11.389000343322754,
          11.389000343322754,
          null,
          null,
          11.601000381469726,
          11.601000381469726,
          null,
          null,
          11.278999732971192,
          null,
          null,
          11.870999885559081,
          null,
          null,
          null,
          11.278999732971192,
          null,
          null,
          null,
          null,
          null,
          null,
          null,
          null,
          null,
          null,
          null,
          null,
          null,
          null,
          null,
          12.131000114440917,
          null,
          null,
          11.858999656677247,
          null,
          null,
          null,
          null,
          null,
          null,
          12.790999961853027,
          null,
          null,
          12.419000076293946,
          null,
          null,
          null,
          null,
          null,
          13.171000076293945,
          null,
          null,
          null,
          null,
          11.999,
          null,
          null,
          13.18100030517578,
          null,
          null,
          null,
          null,
          null,
          null,
          null,
          11.879000114440919,
          null,
          null,
          null,
          null,
          null,
          null,
          null,
          12.6909995803833,
          null,
          null,
          null,
          12.631000114440917,
          null,
          11.538999961853028,
          null,
          null,
          null,
          null,
          null,
          null,
          null,
          null,
          null,
          null,
          null,
          12.148999618530274,
          12.881000114440917
         ]
        },
        {
         "marker": {
          "color": "Blue",
          "size": 6
         },
         "mode": "markers",
         "name": "pattern till",
         "type": "scatter",
         "x": [
          814
         ],
         "y": [
          11.918000076293945
         ]
        },
        {
         "mode": "lines",
         "name": "min slope",
         "type": "scatter",
         "x": [
          788,
          795,
          814,
          814
         ],
         "y": [
          11.208968434764097,
          11.377200456833533,
          11.833830231022,
          11.833830231022
         ]
        },
        {
         "mode": "lines",
         "name": "max slope",
         "type": "scatter",
         "x": [
          784,
          785,
          791,
          811,
          814
         ],
         "y": [
          11.629719989883528,
          11.649180584266539,
          11.765944150564597,
          12.155156038224792,
          12.213537821373821
         ]
        }
       ],
       "layout": {
        "template": {
         "data": {
          "bar": [
           {
            "error_x": {
             "color": "#2a3f5f"
            },
            "error_y": {
             "color": "#2a3f5f"
            },
            "marker": {
             "line": {
              "color": "#E5ECF6",
              "width": 0.5
             },
             "pattern": {
              "fillmode": "overlay",
              "size": 10,
              "solidity": 0.2
             }
            },
            "type": "bar"
           }
          ],
          "barpolar": [
           {
            "marker": {
             "line": {
              "color": "#E5ECF6",
              "width": 0.5
             },
             "pattern": {
              "fillmode": "overlay",
              "size": 10,
              "solidity": 0.2
             }
            },
            "type": "barpolar"
           }
          ],
          "carpet": [
           {
            "aaxis": {
             "endlinecolor": "#2a3f5f",
             "gridcolor": "white",
             "linecolor": "white",
             "minorgridcolor": "white",
             "startlinecolor": "#2a3f5f"
            },
            "baxis": {
             "endlinecolor": "#2a3f5f",
             "gridcolor": "white",
             "linecolor": "white",
             "minorgridcolor": "white",
             "startlinecolor": "#2a3f5f"
            },
            "type": "carpet"
           }
          ],
          "choropleth": [
           {
            "colorbar": {
             "outlinewidth": 0,
             "ticks": ""
            },
            "type": "choropleth"
           }
          ],
          "contour": [
           {
            "colorbar": {
             "outlinewidth": 0,
             "ticks": ""
            },
            "colorscale": [
             [
              0,
              "#0d0887"
             ],
             [
              0.1111111111111111,
              "#46039f"
             ],
             [
              0.2222222222222222,
              "#7201a8"
             ],
             [
              0.3333333333333333,
              "#9c179e"
             ],
             [
              0.4444444444444444,
              "#bd3786"
             ],
             [
              0.5555555555555556,
              "#d8576b"
             ],
             [
              0.6666666666666666,
              "#ed7953"
             ],
             [
              0.7777777777777778,
              "#fb9f3a"
             ],
             [
              0.8888888888888888,
              "#fdca26"
             ],
             [
              1,
              "#f0f921"
             ]
            ],
            "type": "contour"
           }
          ],
          "contourcarpet": [
           {
            "colorbar": {
             "outlinewidth": 0,
             "ticks": ""
            },
            "type": "contourcarpet"
           }
          ],
          "heatmap": [
           {
            "colorbar": {
             "outlinewidth": 0,
             "ticks": ""
            },
            "colorscale": [
             [
              0,
              "#0d0887"
             ],
             [
              0.1111111111111111,
              "#46039f"
             ],
             [
              0.2222222222222222,
              "#7201a8"
             ],
             [
              0.3333333333333333,
              "#9c179e"
             ],
             [
              0.4444444444444444,
              "#bd3786"
             ],
             [
              0.5555555555555556,
              "#d8576b"
             ],
             [
              0.6666666666666666,
              "#ed7953"
             ],
             [
              0.7777777777777778,
              "#fb9f3a"
             ],
             [
              0.8888888888888888,
              "#fdca26"
             ],
             [
              1,
              "#f0f921"
             ]
            ],
            "type": "heatmap"
           }
          ],
          "heatmapgl": [
           {
            "colorbar": {
             "outlinewidth": 0,
             "ticks": ""
            },
            "colorscale": [
             [
              0,
              "#0d0887"
             ],
             [
              0.1111111111111111,
              "#46039f"
             ],
             [
              0.2222222222222222,
              "#7201a8"
             ],
             [
              0.3333333333333333,
              "#9c179e"
             ],
             [
              0.4444444444444444,
              "#bd3786"
             ],
             [
              0.5555555555555556,
              "#d8576b"
             ],
             [
              0.6666666666666666,
              "#ed7953"
             ],
             [
              0.7777777777777778,
              "#fb9f3a"
             ],
             [
              0.8888888888888888,
              "#fdca26"
             ],
             [
              1,
              "#f0f921"
             ]
            ],
            "type": "heatmapgl"
           }
          ],
          "histogram": [
           {
            "marker": {
             "pattern": {
              "fillmode": "overlay",
              "size": 10,
              "solidity": 0.2
             }
            },
            "type": "histogram"
           }
          ],
          "histogram2d": [
           {
            "colorbar": {
             "outlinewidth": 0,
             "ticks": ""
            },
            "colorscale": [
             [
              0,
              "#0d0887"
             ],
             [
              0.1111111111111111,
              "#46039f"
             ],
             [
              0.2222222222222222,
              "#7201a8"
             ],
             [
              0.3333333333333333,
              "#9c179e"
             ],
             [
              0.4444444444444444,
              "#bd3786"
             ],
             [
              0.5555555555555556,
              "#d8576b"
             ],
             [
              0.6666666666666666,
              "#ed7953"
             ],
             [
              0.7777777777777778,
              "#fb9f3a"
             ],
             [
              0.8888888888888888,
              "#fdca26"
             ],
             [
              1,
              "#f0f921"
             ]
            ],
            "type": "histogram2d"
           }
          ],
          "histogram2dcontour": [
           {
            "colorbar": {
             "outlinewidth": 0,
             "ticks": ""
            },
            "colorscale": [
             [
              0,
              "#0d0887"
             ],
             [
              0.1111111111111111,
              "#46039f"
             ],
             [
              0.2222222222222222,
              "#7201a8"
             ],
             [
              0.3333333333333333,
              "#9c179e"
             ],
             [
              0.4444444444444444,
              "#bd3786"
             ],
             [
              0.5555555555555556,
              "#d8576b"
             ],
             [
              0.6666666666666666,
              "#ed7953"
             ],
             [
              0.7777777777777778,
              "#fb9f3a"
             ],
             [
              0.8888888888888888,
              "#fdca26"
             ],
             [
              1,
              "#f0f921"
             ]
            ],
            "type": "histogram2dcontour"
           }
          ],
          "mesh3d": [
           {
            "colorbar": {
             "outlinewidth": 0,
             "ticks": ""
            },
            "type": "mesh3d"
           }
          ],
          "parcoords": [
           {
            "line": {
             "colorbar": {
              "outlinewidth": 0,
              "ticks": ""
             }
            },
            "type": "parcoords"
           }
          ],
          "pie": [
           {
            "automargin": true,
            "type": "pie"
           }
          ],
          "scatter": [
           {
            "fillpattern": {
             "fillmode": "overlay",
             "size": 10,
             "solidity": 0.2
            },
            "type": "scatter"
           }
          ],
          "scatter3d": [
           {
            "line": {
             "colorbar": {
              "outlinewidth": 0,
              "ticks": ""
             }
            },
            "marker": {
             "colorbar": {
              "outlinewidth": 0,
              "ticks": ""
             }
            },
            "type": "scatter3d"
           }
          ],
          "scattercarpet": [
           {
            "marker": {
             "colorbar": {
              "outlinewidth": 0,
              "ticks": ""
             }
            },
            "type": "scattercarpet"
           }
          ],
          "scattergeo": [
           {
            "marker": {
             "colorbar": {
              "outlinewidth": 0,
              "ticks": ""
             }
            },
            "type": "scattergeo"
           }
          ],
          "scattergl": [
           {
            "marker": {
             "colorbar": {
              "outlinewidth": 0,
              "ticks": ""
             }
            },
            "type": "scattergl"
           }
          ],
          "scattermapbox": [
           {
            "marker": {
             "colorbar": {
              "outlinewidth": 0,
              "ticks": ""
             }
            },
            "type": "scattermapbox"
           }
          ],
          "scatterpolar": [
           {
            "marker": {
             "colorbar": {
              "outlinewidth": 0,
              "ticks": ""
             }
            },
            "type": "scatterpolar"
           }
          ],
          "scatterpolargl": [
           {
            "marker": {
             "colorbar": {
              "outlinewidth": 0,
              "ticks": ""
             }
            },
            "type": "scatterpolargl"
           }
          ],
          "scatterternary": [
           {
            "marker": {
             "colorbar": {
              "outlinewidth": 0,
              "ticks": ""
             }
            },
            "type": "scatterternary"
           }
          ],
          "surface": [
           {
            "colorbar": {
             "outlinewidth": 0,
             "ticks": ""
            },
            "colorscale": [
             [
              0,
              "#0d0887"
             ],
             [
              0.1111111111111111,
              "#46039f"
             ],
             [
              0.2222222222222222,
              "#7201a8"
             ],
             [
              0.3333333333333333,
              "#9c179e"
             ],
             [
              0.4444444444444444,
              "#bd3786"
             ],
             [
              0.5555555555555556,
              "#d8576b"
             ],
             [
              0.6666666666666666,
              "#ed7953"
             ],
             [
              0.7777777777777778,
              "#fb9f3a"
             ],
             [
              0.8888888888888888,
              "#fdca26"
             ],
             [
              1,
              "#f0f921"
             ]
            ],
            "type": "surface"
           }
          ],
          "table": [
           {
            "cells": {
             "fill": {
              "color": "#EBF0F8"
             },
             "line": {
              "color": "white"
             }
            },
            "header": {
             "fill": {
              "color": "#C8D4E3"
             },
             "line": {
              "color": "white"
             }
            },
            "type": "table"
           }
          ]
         },
         "layout": {
          "annotationdefaults": {
           "arrowcolor": "#2a3f5f",
           "arrowhead": 0,
           "arrowwidth": 1
          },
          "autotypenumbers": "strict",
          "coloraxis": {
           "colorbar": {
            "outlinewidth": 0,
            "ticks": ""
           }
          },
          "colorscale": {
           "diverging": [
            [
             0,
             "#8e0152"
            ],
            [
             0.1,
             "#c51b7d"
            ],
            [
             0.2,
             "#de77ae"
            ],
            [
             0.3,
             "#f1b6da"
            ],
            [
             0.4,
             "#fde0ef"
            ],
            [
             0.5,
             "#f7f7f7"
            ],
            [
             0.6,
             "#e6f5d0"
            ],
            [
             0.7,
             "#b8e186"
            ],
            [
             0.8,
             "#7fbc41"
            ],
            [
             0.9,
             "#4d9221"
            ],
            [
             1,
             "#276419"
            ]
           ],
           "sequential": [
            [
             0,
             "#0d0887"
            ],
            [
             0.1111111111111111,
             "#46039f"
            ],
            [
             0.2222222222222222,
             "#7201a8"
            ],
            [
             0.3333333333333333,
             "#9c179e"
            ],
            [
             0.4444444444444444,
             "#bd3786"
            ],
            [
             0.5555555555555556,
             "#d8576b"
            ],
            [
             0.6666666666666666,
             "#ed7953"
            ],
            [
             0.7777777777777778,
             "#fb9f3a"
            ],
            [
             0.8888888888888888,
             "#fdca26"
            ],
            [
             1,
             "#f0f921"
            ]
           ],
           "sequentialminus": [
            [
             0,
             "#0d0887"
            ],
            [
             0.1111111111111111,
             "#46039f"
            ],
            [
             0.2222222222222222,
             "#7201a8"
            ],
            [
             0.3333333333333333,
             "#9c179e"
            ],
            [
             0.4444444444444444,
             "#bd3786"
            ],
            [
             0.5555555555555556,
             "#d8576b"
            ],
            [
             0.6666666666666666,
             "#ed7953"
            ],
            [
             0.7777777777777778,
             "#fb9f3a"
            ],
            [
             0.8888888888888888,
             "#fdca26"
            ],
            [
             1,
             "#f0f921"
            ]
           ]
          },
          "colorway": [
           "#636efa",
           "#EF553B",
           "#00cc96",
           "#ab63fa",
           "#FFA15A",
           "#19d3f3",
           "#FF6692",
           "#B6E880",
           "#FF97FF",
           "#FECB52"
          ],
          "font": {
           "color": "#2a3f5f"
          },
          "geo": {
           "bgcolor": "white",
           "lakecolor": "white",
           "landcolor": "#E5ECF6",
           "showlakes": true,
           "showland": true,
           "subunitcolor": "white"
          },
          "hoverlabel": {
           "align": "left"
          },
          "hovermode": "closest",
          "mapbox": {
           "style": "light"
          },
          "paper_bgcolor": "white",
          "plot_bgcolor": "#E5ECF6",
          "polar": {
           "angularaxis": {
            "gridcolor": "white",
            "linecolor": "white",
            "ticks": ""
           },
           "bgcolor": "#E5ECF6",
           "radialaxis": {
            "gridcolor": "white",
            "linecolor": "white",
            "ticks": ""
           }
          },
          "scene": {
           "xaxis": {
            "backgroundcolor": "#E5ECF6",
            "gridcolor": "white",
            "gridwidth": 2,
            "linecolor": "white",
            "showbackground": true,
            "ticks": "",
            "zerolinecolor": "white"
           },
           "yaxis": {
            "backgroundcolor": "#E5ECF6",
            "gridcolor": "white",
            "gridwidth": 2,
            "linecolor": "white",
            "showbackground": true,
            "ticks": "",
            "zerolinecolor": "white"
           },
           "zaxis": {
            "backgroundcolor": "#E5ECF6",
            "gridcolor": "white",
            "gridwidth": 2,
            "linecolor": "white",
            "showbackground": true,
            "ticks": "",
            "zerolinecolor": "white"
           }
          },
          "shapedefaults": {
           "line": {
            "color": "#2a3f5f"
           }
          },
          "ternary": {
           "aaxis": {
            "gridcolor": "white",
            "linecolor": "white",
            "ticks": ""
           },
           "baxis": {
            "gridcolor": "white",
            "linecolor": "white",
            "ticks": ""
           },
           "bgcolor": "#E5ECF6",
           "caxis": {
            "gridcolor": "white",
            "linecolor": "white",
            "ticks": ""
           }
          },
          "title": {
           "x": 0.05
          },
          "xaxis": {
           "automargin": true,
           "gridcolor": "white",
           "linecolor": "white",
           "ticks": "",
           "title": {
            "standoff": 15
           },
           "zerolinecolor": "white",
           "zerolinewidth": 2
          },
          "yaxis": {
           "automargin": true,
           "gridcolor": "white",
           "linecolor": "white",
           "ticks": "",
           "title": {
            "standoff": 15
           },
           "zerolinecolor": "white",
           "zerolinewidth": 2
          }
         }
        },
        "xaxis": {
         "rangeslider": {
          "visible": false
         }
        }
       }
      }
     },
     "metadata": {},
     "output_type": "display_data"
    }
   ],
   "source": [
    "idx = 0\n",
    "df = myTA.downloadAndMakeAnalysis(curr.iloc[idx].code, dt.datetime(1980,1,1), dt.datetime.now(),'1d').reset_index()\n",
    "df['pivot'] = df.apply(lambda x: pivotid(df, x.name,3,3), axis=1)\n",
    "df['pointpos'] = df.apply(lambda row: pointpos(row), axis=1)\n",
    "\n",
    "triangle = visualizeValidCandle(df, curr.iloc[idx].candleid, backcandles, visualize=True)"
   ]
  },
  {
   "cell_type": "code",
   "execution_count": 41,
   "metadata": {},
   "outputs": [
    {
     "data": {
      "text/plain": [
       "code                                                            ACRE\n",
       "momentum                                                     bullish\n",
       "momentumChange%                                             3.616487\n",
       "breakOutSignal                                               bullish\n",
       "returnsPercent     [-0.5546727056972368, -0.47543158864081686, -0...\n",
       "candleid                                                         814\n",
       "rmax                                                        0.961159\n",
       "rmin                                                        0.965567\n",
       "slmin                                                       0.024033\n",
       "slmax                                                       0.019461\n",
       "xxmax_size                                                         4\n",
       "xxmin_size                                                         3\n",
       "pattern_type                                               Rectangle\n",
       "Name: 26, dtype: object"
      ]
     },
     "execution_count": 41,
     "metadata": {},
     "output_type": "execute_result"
    }
   ],
   "source": [
    "curr.iloc[idx]"
   ]
  },
  {
   "cell_type": "code",
   "execution_count": 31,
   "metadata": {},
   "outputs": [
    {
     "data": {
      "image/png": "[encoded data removed]",
      "text/plain": [
       "<Figure size 1800x720 with 1 Axes>"
      ]
     },
     "metadata": {
      "needs_background": "light"
     },
     "output_type": "display_data"
    }
   ],
   "source": [
    "plt.figure(figsize=(25,10))\n",
    "plt.grid()\n",
    "plt.plot(np.mean(certainPattern[(certainPattern['momentum']=='bullish') & (certainPattern['breakOutSignal']=='bullish')]['returnsPercent'], axis=0))\n",
    "plt.plot(np.mean(certainPattern[(certainPattern['momentum']=='bearish') & (certainPattern['breakOutSignal']=='bullish')]['returnsPercent'], axis=0))\n",
    "plt.plot(np.mean(certainPattern[(certainPattern['momentum']=='bullish') & (certainPattern['breakOutSignal']=='bearish')]['returnsPercent'], axis=0))\n",
    "plt.plot(np.mean(certainPattern[(certainPattern['momentum']=='bearish') & (certainPattern['breakOutSignal']=='bearish')]['returnsPercent'], axis=0))\n",
    "\n",
    "plt.legend([\n",
    "'momentum: bullish; breakOutSignal: bullish',\n",
    "'momentum: bearish; breakOutSignal: bullish',\n",
    "'momentum: bullish; breakOutSignal: bearish',\n",
    "'momentum: bearish; breakOutSignal: bearish'])\n",
    "\n",
    "plt.xlabel('days from trade start')\n",
    "plt.ylabel('returns [%]')\n",
    "plt.show()"
   ]
  },
  {
   "cell_type": "code",
   "execution_count": 7,
   "metadata": {},
   "outputs": [
    {
     "data": {
      "image/png": "[encoded data removed]",
      "text/plain": [
       "<Figure size 1800x720 with 1 Axes>"
      ]
     },
     "metadata": {
      "needs_background": "light"
     },
     "output_type": "display_data"
    }
   ],
   "source": [
    "plt.figure(figsize=(25,10))\n",
    "plt.grid()\n",
    "plt.plot(np.mean(patterns[(patterns['momentum']=='bullish') & (patterns['breakOutSignal']=='bullish')]['returnsPercent'], axis=0))\n",
    "plt.plot(np.mean(patterns[(patterns['momentum']=='bearish') & (patterns['breakOutSignal']=='bullish')]['returnsPercent'], axis=0))\n",
    "plt.plot(np.mean(patterns[(patterns['momentum']=='bullish') & (patterns['breakOutSignal']=='bearish')]['returnsPercent'], axis=0))\n",
    "plt.plot(np.mean(patterns[(patterns['momentum']=='bearish') & (patterns['breakOutSignal']=='bearish')]['returnsPercent'], axis=0))\n",
    "\n",
    "plt.legend([\n",
    "'momentum: bullish; breakOutSignal: bullish',\n",
    "'momentum: bearish; breakOutSignal: bullish',\n",
    "'momentum: bullish; breakOutSignal: bearish',\n",
    "'momentum: bearish; breakOutSignal: bearish'])\n",
    "\n",
    "plt.xlabel('days from trade start')\n",
    "plt.ylabel('returns [%]')\n",
    "plt.show()"
   ]
  },
  {
   "cell_type": "code",
   "execution_count": null,
   "metadata": {},
   "outputs": [],
   "source": []
  }
 ],
 "metadata": {
  "kernelspec": {
   "display_name": "Python 3",
   "language": "python",
   "name": "python3"
  },
  "language_info": {
   "codemirror_mode": {
    "name": "ipython",
    "version": 3
   },
   "file_extension": ".py",
   "mimetype": "text/x-python",
   "name": "python",
   "nbconvert_exporter": "python",
   "pygments_lexer": "ipython3",
   "version": "3.9.10 (tags/v3.9.10:f2f3f53, Jan 17 2022, 15:14:21) [MSC v.1929 64 bit (AMD64)]"
  },
  "orig_nbformat": 4,
  "vscode": {
   "interpreter": {
    "hash": "4249f8e087ad731f5e338836e2eb79540285f90ed1dfcc5ccaf8d5c2082bb200"
   }
  }
 },
 "nbformat": 4,
 "nbformat_minor": 2
}
