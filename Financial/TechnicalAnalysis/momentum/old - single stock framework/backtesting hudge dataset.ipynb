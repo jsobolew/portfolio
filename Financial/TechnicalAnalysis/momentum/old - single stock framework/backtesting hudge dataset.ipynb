{
 "cells": [
  {
   "cell_type": "code",
   "execution_count": 1,
   "metadata": {},
   "outputs": [
    {
     "name": "stderr",
     "output_type": "stream",
     "text": [
      "c:\\Users\\QbaSo\\AppData\\Local\\Programs\\Python\\Python39\\lib\\site-packages\\requests\\__init__.py:102: RequestsDependencyWarning: urllib3 (1.26.9) or chardet (5.1.0)/charset_normalizer (2.0.12) doesn't match a supported version!\n",
      "  warnings.warn(\"urllib3 ({}) or chardet ({})/charset_normalizer ({}) doesn't match a supported \"\n"
     ]
    }
   ],
   "source": [
    "import sys\n",
    "sys.path.insert(0, '../')\n",
    "import myTA\n",
    "import datetime as dt\n",
    "import yfinance as yf\n",
    "import pandas as pd\n",
    "import numpy as np\n",
    "\n",
    "from strategies import Backtesting, MACDZeroHistPrediction, makeAnalysis, SharpeRatio, get_df, init_backtesting_results_file\n",
    "\n",
    "import sys\n",
    "\n",
    "sys.path.insert(0, 'E:\\Datasets\\Financial\\HugeStockPrice')\n",
    "import pyfinancialdata"
   ]
  },
  {
   "cell_type": "code",
   "execution_count": 2,
   "metadata": {},
   "outputs": [],
   "source": [
    "sharpe_ratio = SharpeRatio()\n",
    "\n",
    "# def get_df(df, bt):\n",
    "#     df = pd.concat([df, pd.DataFrame({\"interval\": [bt.strategy.interval],\n",
    "#                                                     \"start\": [bt.strategy.start],\n",
    "#                                                     \"end\": [bt.strategy.end], \n",
    "#                                                     \"ticker\": [bt.strategy.ticker],\n",
    "#                                                     \"linerPredictionWindow\": [bt.strategy.linerPredictionWindow],\n",
    "#                                                     \"fastperiod\": [bt.strategy.fastperiod], \n",
    "#                                                     \"slowperiod\": [bt.strategy.slowperiod], \n",
    "#                                                     \"signalperiod\": [bt.strategy.signalperiod], \n",
    "#                                                     \"budget_start\": [bt.budget_start], \n",
    "#                                                     \"result\": [bt.result],\n",
    "#                                                     \"sharpe_ratio\": [sharpe_ratio.calculate(bt.resturnsdfDaily['ROI_change'])],\n",
    "#                                                     \"ROI\": [bt.result/bt.budget_start*100]})])\n",
    "#     return df"
   ]
  },
  {
   "cell_type": "code",
   "execution_count": 3,
   "metadata": {},
   "outputs": [],
   "source": [
    "# df = pd.DataFrame(columns=['interval', 'start', 'end', 'ticker', 'linerPredictionWindow', 'fastperiod', 'slowperiod', 'signalperiod', 'budget_start', 'result', 'sharpe_ratio', 'ROI'])\n",
    "# df.to_csv(\"backtesting_results_hudge.csv\", index=False)\n",
    "init_backtesting_results_file()"
   ]
  },
  {
   "cell_type": "code",
   "execution_count": 4,
   "metadata": {},
   "outputs": [
    {
     "name": "stderr",
     "output_type": "stream",
     "text": [
      "c:\\Users\\QbaSo\\Desktop\\PyCode\\financial\\Algo\\TechnicalAnalysis\\momentum\\strategies.py:24: SettingWithCopyWarning: \n",
      "A value is trying to be set on a copy of a slice from a DataFrame.\n",
      "Try using .loc[row_indexer,col_indexer] = value instead\n",
      "\n",
      "See the caveats in the documentation: https://pandas.pydata.org/pandas-docs/stable/user_guide/indexing.html#returning-a-view-versus-a-copy\n",
      "  data['RSI'] = ta.RSI(data['Close'])\n",
      "c:\\Users\\QbaSo\\Desktop\\PyCode\\financial\\Algo\\TechnicalAnalysis\\momentum\\strategies.py:25: SettingWithCopyWarning: \n",
      "A value is trying to be set on a copy of a slice from a DataFrame.\n",
      "Try using .loc[row_indexer,col_indexer] = value instead\n",
      "\n",
      "See the caveats in the documentation: https://pandas.pydata.org/pandas-docs/stable/user_guide/indexing.html#returning-a-view-versus-a-copy\n",
      "  data['macd'], data['macd_signal'], data['macd_hist'] = ta.MACD(data['Close'], fastperiod = strategy.fastperiod, slowperiod = strategy.slowperiod, signalperiod = strategy.signalperiod)\n",
      "c:\\Users\\QbaSo\\Desktop\\PyCode\\financial\\Algo\\TechnicalAnalysis\\momentum\\strategies.py:25: SettingWithCopyWarning: \n",
      "A value is trying to be set on a copy of a slice from a DataFrame.\n",
      "Try using .loc[row_indexer,col_indexer] = value instead\n",
      "\n",
      "See the caveats in the documentation: https://pandas.pydata.org/pandas-docs/stable/user_guide/indexing.html#returning-a-view-versus-a-copy\n",
      "  data['macd'], data['macd_signal'], data['macd_hist'] = ta.MACD(data['Close'], fastperiod = strategy.fastperiod, slowperiod = strategy.slowperiod, signalperiod = strategy.signalperiod)\n",
      "c:\\Users\\QbaSo\\Desktop\\PyCode\\financial\\Algo\\TechnicalAnalysis\\momentum\\strategies.py:25: SettingWithCopyWarning: \n",
      "A value is trying to be set on a copy of a slice from a DataFrame.\n",
      "Try using .loc[row_indexer,col_indexer] = value instead\n",
      "\n",
      "See the caveats in the documentation: https://pandas.pydata.org/pandas-docs/stable/user_guide/indexing.html#returning-a-view-versus-a-copy\n",
      "  data['macd'], data['macd_signal'], data['macd_hist'] = ta.MACD(data['Close'], fastperiod = strategy.fastperiod, slowperiod = strategy.slowperiod, signalperiod = strategy.signalperiod)\n",
      "c:\\Users\\QbaSo\\Desktop\\PyCode\\financial\\Algo\\TechnicalAnalysis\\momentum\\strategies.py:26: SettingWithCopyWarning: \n",
      "A value is trying to be set on a copy of a slice from a DataFrame.\n",
      "Try using .loc[row_indexer,col_indexer] = value instead\n",
      "\n",
      "See the caveats in the documentation: https://pandas.pydata.org/pandas-docs/stable/user_guide/indexing.html#returning-a-view-versus-a-copy\n",
      "  data['SMA200'], data['SMA100'] = ta.SMA(data['Close'], 200), ta.SMA(data['Close'], 100)\n",
      "c:\\Users\\QbaSo\\Desktop\\PyCode\\financial\\Algo\\TechnicalAnalysis\\momentum\\strategies.py:26: SettingWithCopyWarning: \n",
      "A value is trying to be set on a copy of a slice from a DataFrame.\n",
      "Try using .loc[row_indexer,col_indexer] = value instead\n",
      "\n",
      "See the caveats in the documentation: https://pandas.pydata.org/pandas-docs/stable/user_guide/indexing.html#returning-a-view-versus-a-copy\n",
      "  data['SMA200'], data['SMA100'] = ta.SMA(data['Close'], 200), ta.SMA(data['Close'], 100)\n"
     ]
    }
   ],
   "source": [
    "year = 2015\n",
    "week_tics = 60*24*7\n",
    "\n",
    "linerPredictionWindows = [4]\n",
    "fastperiods = [10]\n",
    "slowperiods = [27]\n",
    "signalperiods = [8]\n",
    "\n",
    "# linerPredictionWindows = np.arange(3,6)\n",
    "# fastperiods = np.arange(10,14)\n",
    "# slowperiods = np.arange(24,28)\n",
    "# signalperiods = np.arange(8,11)\n",
    "\n",
    "df = pd.DataFrame()\n",
    "\n",
    "ticker = 'SPY'\n",
    "dataraw = pyfinancialdata.get(provider='histdata', instrument='SPXUSD', year=year)\n",
    "\n",
    "# ticker = 'BTC_USD'\n",
    "# dataraw = pyfinancialdata.get(provider='bitstamp', instrument='BTC_USD', year=year)\n",
    "\n",
    "\n",
    "dataraw.rename(columns={'open':'Open', 'high':'High', 'low':'Low', 'close':'Close'}, inplace=True)\n",
    "\n",
    "\n",
    "for i in range(1):\n",
    "    data = dataraw.iloc[i*week_tics:(i+1)*week_tics]\n",
    "    for linerPredictionWindow in linerPredictionWindows:\n",
    "        for fastperiod in fastperiods:\n",
    "            for slowperiod in slowperiods:\n",
    "                for signalperiod in signalperiods:\n",
    "                    strategy = MACDZeroHistPrediction(linerPredictionWindow, ticker, data.index[0], data.index[-1], '1m', fastperiod, slowperiod, signalperiod)\n",
    "                    data = makeAnalysis(strategy, data)\n",
    "                    strategy.getBackTestSignals(data)\n",
    "\n",
    "                    bt = Backtesting(10000, strategy)\n",
    "                    bt.calculateProfit()\n",
    "                    df = get_df(df, bt, sharpe_ratio)\n",
    "                \n",
    "df.to_csv('backtest_resluts/backtesting_results_hudge.csv', mode='a', index=False, header=False)\n",
    "df = pd.DataFrame()"
   ]
  },
  {
   "cell_type": "code",
   "execution_count": 5,
   "metadata": {},
   "outputs": [
    {
     "data": {
      "text/html": [
       "<div>\n",
       "<style scoped>\n",
       "    .dataframe tbody tr th:only-of-type {\n",
       "        vertical-align: middle;\n",
       "    }\n",
       "\n",
       "    .dataframe tbody tr th {\n",
       "        vertical-align: top;\n",
       "    }\n",
       "\n",
       "    .dataframe thead th {\n",
       "        text-align: right;\n",
       "    }\n",
       "</style>\n",
       "<table border=\"1\" class=\"dataframe\">\n",
       "  <thead>\n",
       "    <tr style=\"text-align: right;\">\n",
       "      <th></th>\n",
       "      <th>interval</th>\n",
       "      <th>start</th>\n",
       "      <th>end</th>\n",
       "      <th>ticker</th>\n",
       "      <th>linerPredictionWindow</th>\n",
       "      <th>fastperiod</th>\n",
       "      <th>slowperiod</th>\n",
       "      <th>signalperiod</th>\n",
       "      <th>budget_start</th>\n",
       "      <th>result</th>\n",
       "      <th>sharpe_ratio</th>\n",
       "      <th>ROI</th>\n",
       "    </tr>\n",
       "  </thead>\n",
       "  <tbody>\n",
       "    <tr>\n",
       "      <th>0</th>\n",
       "      <td>1m</td>\n",
       "      <td>2015-01-01 18:00:00</td>\n",
       "      <td>2015-01-14 14:01:00</td>\n",
       "      <td>SPY</td>\n",
       "      <td>4</td>\n",
       "      <td>10</td>\n",
       "      <td>27</td>\n",
       "      <td>8</td>\n",
       "      <td>10000</td>\n",
       "      <td>-18.0</td>\n",
       "      <td>-0.738476</td>\n",
       "      <td>-0.18</td>\n",
       "    </tr>\n",
       "  </tbody>\n",
       "</table>\n",
       "</div>"
      ],
      "text/plain": [
       "  interval                start                  end ticker  \\\n",
       "0       1m  2015-01-01 18:00:00  2015-01-14 14:01:00    SPY   \n",
       "\n",
       "   linerPredictionWindow  fastperiod  slowperiod  signalperiod  budget_start  \\\n",
       "0                      4          10          27             8         10000   \n",
       "\n",
       "   result  sharpe_ratio   ROI  \n",
       "0   -18.0     -0.738476 -0.18  "
      ]
     },
     "execution_count": 5,
     "metadata": {},
     "output_type": "execute_result"
    }
   ],
   "source": [
    "results = pd.read_csv(\"backtest_resluts/backtesting_results_hudge.csv\")\n",
    "results.sort_values(\"sharpe_ratio\")"
   ]
  },
  {
   "cell_type": "code",
   "execution_count": 6,
   "metadata": {},
   "outputs": [
    {
     "data": {
      "text/plain": [
       "nan"
      ]
     },
     "execution_count": 6,
     "metadata": {},
     "output_type": "execute_result"
    }
   ],
   "source": [
    "sharpe_ratio.calculate(results.set_index('start')['ROI'])"
   ]
  },
  {
   "cell_type": "code",
   "execution_count": 7,
   "metadata": {},
   "outputs": [],
   "source": [
    "year = 2015\n",
    "week_tics = 60*24*7\n",
    "\n",
    "linerPredictionWindows = [4]\n",
    "fastperiods = [10]\n",
    "slowperiods = [27]\n",
    "signalperiods = [8]\n",
    "\n",
    "# linerPredictionWindows = np.arange(3,6)\n",
    "# fastperiods = np.arange(10,14)\n",
    "# slowperiods = np.arange(24,28)\n",
    "# signalperiods = np.arange(8,11)\n",
    "\n",
    "df = pd.DataFrame()\n",
    "\n",
    "ticker = 'SPY'\n",
    "dataraw = pyfinancialdata.get(provider='histdata', instrument='SPXUSD', year=year)\n",
    "\n",
    "# ticker = 'BTC_USD'\n",
    "# dataraw = pyfinancialdata.get(provider='bitstamp', instrument='BTC_USD', year=year)\n",
    "\n",
    "\n",
    "dataraw.rename(columns={'open':'Open', 'high':'High', 'low':'Low', 'close':'Close'}, inplace=True)\n",
    "\n",
    "\n",
    "\n",
    "data = dataraw\n",
    "for linerPredictionWindow in linerPredictionWindows:\n",
    "    for fastperiod in fastperiods:\n",
    "        for slowperiod in slowperiods:\n",
    "            for signalperiod in signalperiods:\n",
    "                strategy = MACDZeroHistPrediction(linerPredictionWindow, ticker, data.index[0], data.index[-1], '1m', fastperiod, slowperiod, signalperiod)\n",
    "                data = makeAnalysis(strategy, data)\n",
    "                strategy.getBackTestSignals(data)\n",
    "\n",
    "                bt = Backtesting(10000, strategy)\n",
    "                bt.calculateProfit()\n",
    "                df = get_df(df, bt, sharpe_ratio)\n",
    "                \n",
    "df.to_csv('backtest_resluts/backtesting_results_hudge.csv', mode='a', index=False, header=False)\n",
    "df = pd.DataFrame()"
   ]
  },
  {
   "cell_type": "code",
   "execution_count": 8,
   "metadata": {},
   "outputs": [
    {
     "data": {
      "text/html": [
       "<div>\n",
       "<style scoped>\n",
       "    .dataframe tbody tr th:only-of-type {\n",
       "        vertical-align: middle;\n",
       "    }\n",
       "\n",
       "    .dataframe tbody tr th {\n",
       "        vertical-align: top;\n",
       "    }\n",
       "\n",
       "    .dataframe thead th {\n",
       "        text-align: right;\n",
       "    }\n",
       "</style>\n",
       "<table border=\"1\" class=\"dataframe\">\n",
       "  <thead>\n",
       "    <tr style=\"text-align: right;\">\n",
       "      <th></th>\n",
       "      <th>interval</th>\n",
       "      <th>start</th>\n",
       "      <th>end</th>\n",
       "      <th>ticker</th>\n",
       "      <th>linerPredictionWindow</th>\n",
       "      <th>fastperiod</th>\n",
       "      <th>slowperiod</th>\n",
       "      <th>signalperiod</th>\n",
       "      <th>budget_start</th>\n",
       "      <th>result</th>\n",
       "      <th>sharpe_ratio</th>\n",
       "      <th>ROI</th>\n",
       "    </tr>\n",
       "  </thead>\n",
       "  <tbody>\n",
       "    <tr>\n",
       "      <th>0</th>\n",
       "      <td>1m</td>\n",
       "      <td>2015-01-01 18:00:00</td>\n",
       "      <td>2015-01-14 14:01:00</td>\n",
       "      <td>SPY</td>\n",
       "      <td>4</td>\n",
       "      <td>10</td>\n",
       "      <td>27</td>\n",
       "      <td>8</td>\n",
       "      <td>10000</td>\n",
       "      <td>-18.0</td>\n",
       "      <td>-0.738476</td>\n",
       "      <td>-0.18</td>\n",
       "    </tr>\n",
       "    <tr>\n",
       "      <th>1</th>\n",
       "      <td>1m</td>\n",
       "      <td>2015-01-01 18:00:00</td>\n",
       "      <td>2015-12-31 16:58:00</td>\n",
       "      <td>SPY</td>\n",
       "      <td>4</td>\n",
       "      <td>10</td>\n",
       "      <td>27</td>\n",
       "      <td>8</td>\n",
       "      <td>10000</td>\n",
       "      <td>698.0</td>\n",
       "      <td>0.523258</td>\n",
       "      <td>6.98</td>\n",
       "    </tr>\n",
       "  </tbody>\n",
       "</table>\n",
       "</div>"
      ],
      "text/plain": [
       "  interval                start                  end ticker  \\\n",
       "0       1m  2015-01-01 18:00:00  2015-01-14 14:01:00    SPY   \n",
       "1       1m  2015-01-01 18:00:00  2015-12-31 16:58:00    SPY   \n",
       "\n",
       "   linerPredictionWindow  fastperiod  slowperiod  signalperiod  budget_start  \\\n",
       "0                      4          10          27             8         10000   \n",
       "1                      4          10          27             8         10000   \n",
       "\n",
       "   result  sharpe_ratio   ROI  \n",
       "0   -18.0     -0.738476 -0.18  \n",
       "1   698.0      0.523258  6.98  "
      ]
     },
     "execution_count": 8,
     "metadata": {},
     "output_type": "execute_result"
    }
   ],
   "source": [
    "results = pd.read_csv(\"backtest_resluts/backtesting_results_hudge.csv\")\n",
    "results"
   ]
  }
 ],
 "metadata": {
  "kernelspec": {
   "display_name": "Python 3",
   "language": "python",
   "name": "python3"
  },
  "language_info": {
   "codemirror_mode": {
    "name": "ipython",
    "version": 3
   },
   "file_extension": ".py",
   "mimetype": "text/x-python",
   "name": "python",
   "nbconvert_exporter": "python",
   "pygments_lexer": "ipython3",
   "version": "3.9.10"
  },
  "orig_nbformat": 4,
  "vscode": {
   "interpreter": {
    "hash": "4249f8e087ad731f5e338836e2eb79540285f90ed1dfcc5ccaf8d5c2082bb200"
   }
  }
 },
 "nbformat": 4,
 "nbformat_minor": 2
}
